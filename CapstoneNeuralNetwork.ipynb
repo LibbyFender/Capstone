{
 "cells": [
  {
   "cell_type": "code",
   "execution_count": 1,
   "metadata": {},
   "outputs": [
    {
     "name": "stderr",
     "output_type": "stream",
     "text": [
      "Using TensorFlow backend.\n"
     ]
    }
   ],
   "source": [
    "import pandas as pd\n",
    "import numpy as np\n",
    "import matplotlib.pyplot as plt\n",
    "from sklearn.preprocessing import LabelEncoder, OneHotEncoder\n",
    "from sklearn.model_selection import train_test_split\n",
    "from sklearn.preprocessing import StandardScaler\n",
    "from keras.models import Sequential\n",
    "from keras.layers import Dense"
   ]
  },
  {
   "cell_type": "code",
   "execution_count": 2,
   "metadata": {},
   "outputs": [],
   "source": [
    "data = pd.read_csv('AthleteResults.csv')"
   ]
  },
  {
   "cell_type": "code",
   "execution_count": 3,
   "metadata": {},
   "outputs": [
    {
     "data": {
      "text/html": [
       "<div>\n",
       "<table border=\"1\" class=\"dataframe\">\n",
       "  <thead>\n",
       "    <tr style=\"text-align: right;\">\n",
       "      <th></th>\n",
       "      <th>First_Sex</th>\n",
       "      <th>First_Equipment</th>\n",
       "      <th>First_BodyweightKg</th>\n",
       "      <th>First_Wilks</th>\n",
       "      <th>First_WhereHeld</th>\n",
       "      <th>First_EventDate</th>\n",
       "      <th>First_Competition_experience</th>\n",
       "      <th>Second_Sex</th>\n",
       "      <th>Second_Equipment</th>\n",
       "      <th>Second_BodyweightKg</th>\n",
       "      <th>...</th>\n",
       "      <th>Second_EventDate</th>\n",
       "      <th>Second_Competition_experience</th>\n",
       "      <th>Third_Sex</th>\n",
       "      <th>Third_Equipment</th>\n",
       "      <th>Third_BodyweightKg</th>\n",
       "      <th>Third_Wilks</th>\n",
       "      <th>Third_WhereHeld</th>\n",
       "      <th>Third_EventDate</th>\n",
       "      <th>Third_Competition_experience</th>\n",
       "      <th>birth_year</th>\n",
       "    </tr>\n",
       "  </thead>\n",
       "  <tbody>\n",
       "    <tr>\n",
       "      <th>0</th>\n",
       "      <td>1</td>\n",
       "      <td>3</td>\n",
       "      <td>100.0</td>\n",
       "      <td>418.40</td>\n",
       "      <td>SoPac</td>\n",
       "      <td>2018-01-27</td>\n",
       "      <td>1</td>\n",
       "      <td>1</td>\n",
       "      <td>1</td>\n",
       "      <td>87.20</td>\n",
       "      <td>...</td>\n",
       "      <td>2017-09-30</td>\n",
       "      <td>2</td>\n",
       "      <td>1</td>\n",
       "      <td>3</td>\n",
       "      <td>100.00</td>\n",
       "      <td>413.84</td>\n",
       "      <td>SoPac</td>\n",
       "      <td>2017-09-09</td>\n",
       "      <td>3</td>\n",
       "      <td>1992.0</td>\n",
       "    </tr>\n",
       "    <tr>\n",
       "      <th>1</th>\n",
       "      <td>1</td>\n",
       "      <td>3</td>\n",
       "      <td>99.8</td>\n",
       "      <td>493.35</td>\n",
       "      <td>SoPac</td>\n",
       "      <td>2018-01-27</td>\n",
       "      <td>1</td>\n",
       "      <td>1</td>\n",
       "      <td>3</td>\n",
       "      <td>102.60</td>\n",
       "      <td>...</td>\n",
       "      <td>2017-09-09</td>\n",
       "      <td>2</td>\n",
       "      <td>1</td>\n",
       "      <td>3</td>\n",
       "      <td>99.50</td>\n",
       "      <td>500.05</td>\n",
       "      <td>SoPac</td>\n",
       "      <td>2017-07-21</td>\n",
       "      <td>3</td>\n",
       "      <td>1989.0</td>\n",
       "    </tr>\n",
       "    <tr>\n",
       "      <th>2</th>\n",
       "      <td>1</td>\n",
       "      <td>3</td>\n",
       "      <td>98.8</td>\n",
       "      <td>334.84</td>\n",
       "      <td>SoPac</td>\n",
       "      <td>2018-01-27</td>\n",
       "      <td>1</td>\n",
       "      <td>1</td>\n",
       "      <td>1</td>\n",
       "      <td>99.30</td>\n",
       "      <td>...</td>\n",
       "      <td>2017-10-07</td>\n",
       "      <td>2</td>\n",
       "      <td>1</td>\n",
       "      <td>3</td>\n",
       "      <td>93.80</td>\n",
       "      <td>340.99</td>\n",
       "      <td>SoPac</td>\n",
       "      <td>2012-11-09</td>\n",
       "      <td>3</td>\n",
       "      <td>1968.0</td>\n",
       "    </tr>\n",
       "    <tr>\n",
       "      <th>3</th>\n",
       "      <td>1</td>\n",
       "      <td>3</td>\n",
       "      <td>98.0</td>\n",
       "      <td>395.80</td>\n",
       "      <td>SoPac</td>\n",
       "      <td>2018-01-27</td>\n",
       "      <td>1</td>\n",
       "      <td>1</td>\n",
       "      <td>3</td>\n",
       "      <td>89.80</td>\n",
       "      <td>...</td>\n",
       "      <td>2016-07-08</td>\n",
       "      <td>2</td>\n",
       "      <td>1</td>\n",
       "      <td>3</td>\n",
       "      <td>89.80</td>\n",
       "      <td>399.45</td>\n",
       "      <td>SoPac</td>\n",
       "      <td>2014-11-21</td>\n",
       "      <td>3</td>\n",
       "      <td>1969.0</td>\n",
       "    </tr>\n",
       "    <tr>\n",
       "      <th>4</th>\n",
       "      <td>1</td>\n",
       "      <td>3</td>\n",
       "      <td>89.7</td>\n",
       "      <td>380.49</td>\n",
       "      <td>SoPac</td>\n",
       "      <td>2018-01-27</td>\n",
       "      <td>1</td>\n",
       "      <td>1</td>\n",
       "      <td>2</td>\n",
       "      <td>74.39</td>\n",
       "      <td>...</td>\n",
       "      <td>2017-02-23</td>\n",
       "      <td>2</td>\n",
       "      <td>1</td>\n",
       "      <td>2</td>\n",
       "      <td>74.57</td>\n",
       "      <td>306.66</td>\n",
       "      <td>NAmerica</td>\n",
       "      <td>2017-02-18</td>\n",
       "      <td>3</td>\n",
       "      <td>1990.0</td>\n",
       "    </tr>\n",
       "  </tbody>\n",
       "</table>\n",
       "<p>5 rows × 22 columns</p>\n",
       "</div>"
      ],
      "text/plain": [
       "   First_Sex  First_Equipment  First_BodyweightKg  First_Wilks  \\\n",
       "0          1                3               100.0       418.40   \n",
       "1          1                3                99.8       493.35   \n",
       "2          1                3                98.8       334.84   \n",
       "3          1                3                98.0       395.80   \n",
       "4          1                3                89.7       380.49   \n",
       "\n",
       "  First_WhereHeld First_EventDate  First_Competition_experience  Second_Sex  \\\n",
       "0           SoPac      2018-01-27                             1           1   \n",
       "1           SoPac      2018-01-27                             1           1   \n",
       "2           SoPac      2018-01-27                             1           1   \n",
       "3           SoPac      2018-01-27                             1           1   \n",
       "4           SoPac      2018-01-27                             1           1   \n",
       "\n",
       "   Second_Equipment  Second_BodyweightKg    ...      Second_EventDate  \\\n",
       "0                 1                87.20    ...            2017-09-30   \n",
       "1                 3               102.60    ...            2017-09-09   \n",
       "2                 1                99.30    ...            2017-10-07   \n",
       "3                 3                89.80    ...            2016-07-08   \n",
       "4                 2                74.39    ...            2017-02-23   \n",
       "\n",
       "  Second_Competition_experience Third_Sex  Third_Equipment  \\\n",
       "0                             2         1                3   \n",
       "1                             2         1                3   \n",
       "2                             2         1                3   \n",
       "3                             2         1                3   \n",
       "4                             2         1                2   \n",
       "\n",
       "   Third_BodyweightKg  Third_Wilks  Third_WhereHeld  Third_EventDate  \\\n",
       "0              100.00       413.84            SoPac       2017-09-09   \n",
       "1               99.50       500.05            SoPac       2017-07-21   \n",
       "2               93.80       340.99            SoPac       2012-11-09   \n",
       "3               89.80       399.45            SoPac       2014-11-21   \n",
       "4               74.57       306.66         NAmerica       2017-02-18   \n",
       "\n",
       "  Third_Competition_experience birth_year  \n",
       "0                            3     1992.0  \n",
       "1                            3     1989.0  \n",
       "2                            3     1968.0  \n",
       "3                            3     1969.0  \n",
       "4                            3     1990.0  \n",
       "\n",
       "[5 rows x 22 columns]"
      ]
     },
     "execution_count": 3,
     "metadata": {},
     "output_type": "execute_result"
    }
   ],
   "source": [
    "data.head()"
   ]
  },
  {
   "cell_type": "code",
   "execution_count": 4,
   "metadata": {},
   "outputs": [
    {
     "data": {
      "text/plain": [
       "array(['Australia', 'USA', 'UK', 'Canada', 'England', 'Ireland',\n",
       "       'Singapore', 'N.Ireland', 'New Zealand', 'Czechia', 'Russia',\n",
       "       'Norway', 'Sweden', 'Scotland', 'Poland', 'Finland', 'Israel',\n",
       "       'South Africa', 'Colombia', 'Belarus', 'Spain', 'Kazakhstan',\n",
       "       'France', 'Malaysia', 'Denmark', 'Wales', 'Iceland', 'Estonia',\n",
       "       'Serbia', 'Italy', 'US Virgin Islands', 'Brazil', 'Peru',\n",
       "       'Luxembourg', 'Germany', 'Ukraine', 'Puerto Rico',\n",
       "       'Cayman Islands'], dtype=object)"
      ]
     },
     "execution_count": 4,
     "metadata": {},
     "output_type": "execute_result"
    }
   ],
   "source": [
    "data.MeetCountry.unique()\n",
    "#I should encode by continent:"
   ]
  },
  {
   "cell_type": "code",
   "execution_count": 4,
   "metadata": {},
   "outputs": [
    {
     "data": {
      "text/plain": [
       "First_Sex                          int64\n",
       "First_Equipment                    int64\n",
       "First_BodyweightKg               float64\n",
       "First_Wilks                      float64\n",
       "First_WhereHeld                   object\n",
       "First_EventDate                   object\n",
       "First_Competition_experience       int64\n",
       "Second_Sex                         int64\n",
       "Second_Equipment                   int64\n",
       "Second_BodyweightKg              float64\n",
       "Second_Wilks                     float64\n",
       "Second_WhereHeld                  object\n",
       "Second_EventDate                  object\n",
       "Second_Competition_experience      int64\n",
       "Third_Sex                          int64\n",
       "Third_Equipment                    int64\n",
       "Third_BodyweightKg               float64\n",
       "Third_Wilks                      float64\n",
       "Third_WhereHeld                   object\n",
       "Third_EventDate                   object\n",
       "Third_Competition_experience       int64\n",
       "birth_year                       float64\n",
       "dtype: object"
      ]
     },
     "execution_count": 4,
     "metadata": {},
     "output_type": "execute_result"
    }
   ],
   "source": [
    "data.dtypes"
   ]
  },
  {
   "cell_type": "code",
   "execution_count": 8,
   "metadata": {},
   "outputs": [],
   "source": [
    "data['MeetCountry'] = LabelEncoder().fit_transform(data['MeetCountry'])"
   ]
  },
  {
   "cell_type": "code",
   "execution_count": null,
   "metadata": {},
   "outputs": [],
   "source": [
    "features = data.columns\n",
    "\n",
    "features = features.drop('Wilks')\n",
    "\n",
    "y = data.Wilks.values\n",
    "X = data[features].values"
   ]
  },
  {
   "cell_type": "code",
   "execution_count": null,
   "metadata": {},
   "outputs": [],
   "source": [
    "X"
   ]
  },
  {
   "cell_type": "code",
   "execution_count": null,
   "metadata": {},
   "outputs": [],
   "source": [
    "y"
   ]
  },
  {
   "cell_type": "code",
   "execution_count": null,
   "metadata": {},
   "outputs": [],
   "source": [
    "# Splitting the Data\n",
    "\n",
    "X_train, X_test, y_train, y_test = train_test_split(X, y, test_size = 0.3)"
   ]
  },
  {
   "cell_type": "code",
   "execution_count": null,
   "metadata": {},
   "outputs": [],
   "source": [
    "sc = StandardScaler()\n",
    "X_train = sc.fit_transform(X_train)\n",
    "X_test - sc.transform(X_test)"
   ]
  },
  {
   "cell_type": "code",
   "execution_count": null,
   "metadata": {},
   "outputs": [],
   "source": [
    "#Initializing Neural Network\n",
    "classifier = Sequential()"
   ]
  },
  {
   "cell_type": "code",
   "execution_count": null,
   "metadata": {},
   "outputs": [],
   "source": [
    "#Adding Input Layer and hidden layer\n",
    "classifier.add(Dense(output_dim = 6, init = 'uniform', activation ='relu', input_dim = 7))\n",
    "\n",
    "#Adding a second hidden layer\n",
    "classifier.add(Dense(output_dim = 6, init = 'uniform', activation = 'relu'))\n",
    "\n",
    "#Adding output layer\n",
    "classifier.add(Dense(output_dim = 1, init = 'uniform', activation = 'softmax'))"
   ]
  },
  {
   "cell_type": "code",
   "execution_count": null,
   "metadata": {},
   "outputs": [],
   "source": [
    "#Compiling Neural Network #Research Binary_crossentropy\n",
    "classifier.compile(optimizer = 'adam', loss = 'binary_crossentropy', metrics = ['accuracy'])"
   ]
  },
  {
   "cell_type": "code",
   "execution_count": null,
   "metadata": {},
   "outputs": [],
   "source": [
    "#Fitting our model\n",
    "classifier.fit(X_train, y_train, batch_size = 100, nb_epoch = 100)"
   ]
  },
  {
   "cell_type": "code",
   "execution_count": null,
   "metadata": {},
   "outputs": [],
   "source": [
    "#Predict test results\n",
    "y_predict = classifier.predict(X_test)"
   ]
  },
  {
   "cell_type": "code",
   "execution_count": null,
   "metadata": {},
   "outputs": [],
   "source": [
    "y_predict.max()"
   ]
  },
  {
   "cell_type": "code",
   "execution_count": null,
   "metadata": {},
   "outputs": [],
   "source": []
  }
 ],
 "metadata": {
  "kernelspec": {
   "display_name": "Python 3",
   "language": "python",
   "name": "python3"
  },
  "language_info": {
   "codemirror_mode": {
    "name": "ipython",
    "version": 3
   },
   "file_extension": ".py",
   "mimetype": "text/x-python",
   "name": "python",
   "nbconvert_exporter": "python",
   "pygments_lexer": "ipython3",
   "version": "3.6.3"
  }
 },
 "nbformat": 4,
 "nbformat_minor": 2
}
