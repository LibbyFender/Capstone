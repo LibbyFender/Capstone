{
 "cells": [
  {
   "cell_type": "code",
   "execution_count": 1,
   "metadata": {},
   "outputs": [
    {
     "name": "stderr",
     "output_type": "stream",
     "text": [
      "Using TensorFlow backend.\n",
      "Couldn't import dot_parser, loading of dot files will not be possible.\n"
     ]
    }
   ],
   "source": [
    "import pandas as pd\n",
    "import numpy as np\n",
    "import matplotlib.pyplot as plt\n",
    "from sklearn.preprocessing import LabelEncoder, OneHotEncoder\n",
    "from sklearn.model_selection import train_test_split\n",
    "from sklearn.preprocessing import StandardScaler\n",
    "from keras.models import Sequential\n",
    "from keras.layers import Dense"
   ]
  },
  {
   "cell_type": "code",
   "execution_count": 2,
   "metadata": {},
   "outputs": [],
   "source": [
    "data = pd.read_csv('AthleteResults.csv')"
   ]
  },
  {
   "cell_type": "code",
   "execution_count": 3,
   "metadata": {},
   "outputs": [
    {
     "data": {
      "text/html": [
       "<div>\n",
       "<table border=\"1\" class=\"dataframe\">\n",
       "  <thead>\n",
       "    <tr style=\"text-align: right;\">\n",
       "      <th></th>\n",
       "      <th>MeetID</th>\n",
       "      <th>Sex</th>\n",
       "      <th>Equipment</th>\n",
       "      <th>BodyweightKg</th>\n",
       "      <th>Wilks</th>\n",
       "      <th>AthID</th>\n",
       "      <th>MeetCountry</th>\n",
       "      <th>MeetState</th>\n",
       "      <th>EventDate</th>\n",
       "      <th>Competition_experience</th>\n",
       "    </tr>\n",
       "  </thead>\n",
       "  <tbody>\n",
       "    <tr>\n",
       "      <th>0</th>\n",
       "      <td>1312</td>\n",
       "      <td>0</td>\n",
       "      <td>3</td>\n",
       "      <td>55.25</td>\n",
       "      <td>454.83</td>\n",
       "      <td>83730</td>\n",
       "      <td>Australia</td>\n",
       "      <td>NSW</td>\n",
       "      <td>2018-01-28</td>\n",
       "      <td>1</td>\n",
       "    </tr>\n",
       "    <tr>\n",
       "      <th>1</th>\n",
       "      <td>1312</td>\n",
       "      <td>1</td>\n",
       "      <td>3</td>\n",
       "      <td>71.05</td>\n",
       "      <td>313.07</td>\n",
       "      <td>79778</td>\n",
       "      <td>Australia</td>\n",
       "      <td>NSW</td>\n",
       "      <td>2018-01-28</td>\n",
       "      <td>1</td>\n",
       "    </tr>\n",
       "    <tr>\n",
       "      <th>2</th>\n",
       "      <td>1312</td>\n",
       "      <td>1</td>\n",
       "      <td>3</td>\n",
       "      <td>80.35</td>\n",
       "      <td>337.01</td>\n",
       "      <td>74739</td>\n",
       "      <td>Australia</td>\n",
       "      <td>NSW</td>\n",
       "      <td>2018-01-28</td>\n",
       "      <td>1</td>\n",
       "    </tr>\n",
       "    <tr>\n",
       "      <th>3</th>\n",
       "      <td>1312</td>\n",
       "      <td>0</td>\n",
       "      <td>0</td>\n",
       "      <td>67.40</td>\n",
       "      <td>515.96</td>\n",
       "      <td>60747</td>\n",
       "      <td>Australia</td>\n",
       "      <td>NSW</td>\n",
       "      <td>2018-01-28</td>\n",
       "      <td>1</td>\n",
       "    </tr>\n",
       "    <tr>\n",
       "      <th>4</th>\n",
       "      <td>1312</td>\n",
       "      <td>1</td>\n",
       "      <td>3</td>\n",
       "      <td>89.80</td>\n",
       "      <td>353.11</td>\n",
       "      <td>40685</td>\n",
       "      <td>Australia</td>\n",
       "      <td>NSW</td>\n",
       "      <td>2018-01-28</td>\n",
       "      <td>1</td>\n",
       "    </tr>\n",
       "  </tbody>\n",
       "</table>\n",
       "</div>"
      ],
      "text/plain": [
       "   MeetID  Sex  Equipment  BodyweightKg   Wilks  AthID MeetCountry MeetState  \\\n",
       "0    1312    0          3         55.25  454.83  83730   Australia       NSW   \n",
       "1    1312    1          3         71.05  313.07  79778   Australia       NSW   \n",
       "2    1312    1          3         80.35  337.01  74739   Australia       NSW   \n",
       "3    1312    0          0         67.40  515.96  60747   Australia       NSW   \n",
       "4    1312    1          3         89.80  353.11  40685   Australia       NSW   \n",
       "\n",
       "    EventDate  Competition_experience  \n",
       "0  2018-01-28                       1  \n",
       "1  2018-01-28                       1  \n",
       "2  2018-01-28                       1  \n",
       "3  2018-01-28                       1  \n",
       "4  2018-01-28                       1  "
      ]
     },
     "execution_count": 3,
     "metadata": {},
     "output_type": "execute_result"
    }
   ],
   "source": [
    "data.head()"
   ]
  },
  {
   "cell_type": "code",
   "execution_count": 4,
   "metadata": {},
   "outputs": [
    {
     "data": {
      "text/plain": [
       "array(['Australia', 'USA', 'UK', 'Canada', 'England', 'Ireland',\n",
       "       'Singapore', 'N.Ireland', 'New Zealand', 'Czechia', 'Russia',\n",
       "       'Norway', 'Sweden', 'Scotland', 'Poland', 'Finland', 'Israel',\n",
       "       'South Africa', 'Colombia', 'Belarus', 'Spain', 'Kazakhstan',\n",
       "       'France', 'Malaysia', 'Denmark', 'Wales', 'Iceland', 'Estonia',\n",
       "       'Serbia', 'Italy', 'US Virgin Islands', 'Brazil', 'Peru',\n",
       "       'Luxembourg', 'Germany', 'Ukraine', 'Puerto Rico',\n",
       "       'Cayman Islands'], dtype=object)"
      ]
     },
     "execution_count": 4,
     "metadata": {},
     "output_type": "execute_result"
    }
   ],
   "source": [
    "data.MeetCountry.unique()\n",
    "#I should encode by continent:"
   ]
  },
  {
   "cell_type": "code",
   "execution_count": 5,
   "metadata": {},
   "outputs": [],
   "source": [
    "# for i in data['MeetCountry']:\n",
    "#     if i = 'USA'\n",
    "data['MeetCountry'] = data['MeetCountry'].str.replace('USA', 'NAmerica')\n",
    "data['MeetCountry'] = data['MeetCountry'].str.replace('Canada', 'NAmerica')\n",
    "data['MeetCountry'] = data['MeetCountry'].str.replace('US Virgin Islands', 'NAmerica')\n",
    "data['MeetCountry'] = data['MeetCountry'].str.replace('Brazil', 'NAmerica')\n",
    "data['MeetCountry'] = data['MeetCountry'].str.replace('Colombia', 'SAmerica')\n",
    "data['MeetCountry'] = data['MeetCountry'].str.replace('Cayman Islands', 'NAmerica')\n",
    "\n",
    "data['MeetCountry'] = data['MeetCountry'].str.replace('Peru', 'SAmerica')\n",
    "data['MeetCountry'] = data['MeetCountry'].str.replace('Puerto Rico', 'NAmerica')\n",
    "\n",
    "\n",
    "data['MeetCountry'] = data['MeetCountry'].str.replace('UK', 'Europe')\n",
    "data['MeetCountry'] = data['MeetCountry'].str.replace('England', 'Europe')\n",
    "data['MeetCountry'] = data['MeetCountry'].str.replace('Ireland', 'Europe')\n",
    "data['MeetCountry'] = data['MeetCountry'].str.replace('Czechia', 'Europe')\n",
    "data['MeetCountry'] = data['MeetCountry'].str.replace('Germany', 'Europe')\n",
    "data['MeetCountry'] = data['MeetCountry'].str.replace('Norway', 'Europe')\n",
    "data['MeetCountry'] = data['MeetCountry'].str.replace('Sweden', 'Europe')\n",
    "data['MeetCountry'] = data['MeetCountry'].str.replace('Scotland', 'Europe')\n",
    "data['MeetCountry'] = data['MeetCountry'].str.replace('Poland', 'Europe')\n",
    "data['MeetCountry'] = data['MeetCountry'].str.replace('Finland', 'Europe')\n",
    "data['MeetCountry'] = data['MeetCountry'].str.replace('N.Ireland', 'Europe')\n",
    "data['MeetCountry'] = data['MeetCountry'].str.replace('Ukraine', 'Europe')\n",
    "data['MeetCountry'] = data['MeetCountry'].str.replace('Luxembourg', 'Europe')\n",
    "data['MeetCountry'] = data['MeetCountry'].str.replace('N.Europe', 'Europe')\n",
    "\n",
    "data['MeetCountry'] = data['MeetCountry'].str.replace('Iceland', 'Europe')\n",
    "data['MeetCountry'] = data['MeetCountry'].str.replace('Estonia', 'Europe')\n",
    "data['MeetCountry'] = data['MeetCountry'].str.replace('Serbia', 'Europe')\n",
    "data['MeetCountry'] = data['MeetCountry'].str.replace('Italy', 'Europe')\n",
    "\n",
    "data['MeetCountry'] = data['MeetCountry'].str.replace('Belarus', 'Europe')\n",
    "data['MeetCountry'] = data['MeetCountry'].str.replace('Spain', 'Europe')\n",
    "data['MeetCountry'] = data['MeetCountry'].str.replace('France', 'Europe')\n",
    "data['MeetCountry'] = data['MeetCountry'].str.replace('Denmark', 'Europe')\n",
    "data['MeetCountry'] = data['MeetCountry'].str.replace('Wales', 'Europe')\n",
    "\n",
    "data['MeetCountry'] = data['MeetCountry'].str.replace('Singapore', 'Asia')\n",
    "data['MeetCountry'] = data['MeetCountry'].str.replace('Russia', 'Asia')\n",
    "data['MeetCountry'] = data['MeetCountry'].str.replace('Israel', 'Asia')\n",
    "data['MeetCountry'] = data['MeetCountry'].str.replace('Malaysia', 'Asia')\n",
    "data['MeetCountry'] = data['MeetCountry'].str.replace('Kazakhstan', 'Asia')\n",
    "data['MeetCountry'] = data['MeetCountry'].str.replace('South Africa', 'Africa')\n",
    "\n",
    "data['MeetCountry'] = data['MeetCountry'].str.replace('Australia', 'SoPac')\n",
    "data['MeetCountry'] = data['MeetCountry'].str.replace('New Zealand', 'SoPac')"
   ]
  },
  {
   "cell_type": "code",
   "execution_count": 6,
   "metadata": {},
   "outputs": [],
   "source": [
    "data.rename(columns={'MeetCountry':'WhereHeld'})#, axis=1)\n",
    "drop = ['MeetState', 'EventDate']\n",
    "data.drop(drop, axis=1, inplace=True)"
   ]
  },
  {
   "cell_type": "code",
   "execution_count": 7,
   "metadata": {},
   "outputs": [
    {
     "data": {
      "text/plain": [
       "MeetID                      int64\n",
       "Sex                         int64\n",
       "Equipment                   int64\n",
       "BodyweightKg              float64\n",
       "Wilks                     float64\n",
       "AthID                       int64\n",
       "MeetCountry                object\n",
       "Competition_experience      int64\n",
       "dtype: object"
      ]
     },
     "execution_count": 7,
     "metadata": {},
     "output_type": "execute_result"
    }
   ],
   "source": [
    "data.dtypes"
   ]
  },
  {
   "cell_type": "code",
   "execution_count": 8,
   "metadata": {},
   "outputs": [],
   "source": [
    "data['MeetCountry'] = LabelEncoder().fit_transform(data['MeetCountry'])"
   ]
  },
  {
   "cell_type": "code",
   "execution_count": null,
   "metadata": {},
   "outputs": [],
   "source": [
    "features = data.columns\n",
    "\n",
    "features = features.drop('Wilks')\n",
    "\n",
    "y = data.Wilks.values\n",
    "X = data[features].values"
   ]
  },
  {
   "cell_type": "code",
   "execution_count": null,
   "metadata": {},
   "outputs": [],
   "source": [
    "X"
   ]
  },
  {
   "cell_type": "code",
   "execution_count": null,
   "metadata": {},
   "outputs": [],
   "source": [
    "y"
   ]
  },
  {
   "cell_type": "code",
   "execution_count": null,
   "metadata": {},
   "outputs": [],
   "source": [
    "# Splitting the Data\n",
    "\n",
    "X_train, X_test, y_train, y_test = train_test_split(X, y, test_size = 0.3)"
   ]
  },
  {
   "cell_type": "code",
   "execution_count": null,
   "metadata": {},
   "outputs": [],
   "source": [
    "sc = StandardScaler()\n",
    "X_train = sc.fit_transform(X_train)\n",
    "X_test - sc.transform(X_test)"
   ]
  },
  {
   "cell_type": "code",
   "execution_count": null,
   "metadata": {},
   "outputs": [],
   "source": [
    "#Initializing Neural Network\n",
    "classifier = Sequential()"
   ]
  },
  {
   "cell_type": "code",
   "execution_count": null,
   "metadata": {},
   "outputs": [],
   "source": [
    "#Adding Input Layer and hidden layer\n",
    "classifier.add(Dense(output_dim = 6, init = 'uniform', activation ='relu', input_dim = 7))\n",
    "\n",
    "#Adding a second hidden layer\n",
    "classifier.add(Dense(output_dim = 6, init = 'uniform', activation = 'relu'))\n",
    "\n",
    "#Adding output layer\n",
    "classifier.add(Dense(output_dim = 1, init = 'uniform', activation = 'softmax'))"
   ]
  },
  {
   "cell_type": "code",
   "execution_count": null,
   "metadata": {},
   "outputs": [],
   "source": [
    "#Compiling Neural Network #Research Binary_crossentropy\n",
    "classifier.compile(optimizer = 'adam', loss = 'binary_crossentropy', metrics = ['accuracy'])"
   ]
  },
  {
   "cell_type": "code",
   "execution_count": null,
   "metadata": {},
   "outputs": [],
   "source": [
    "#Fitting our model\n",
    "classifier.fit(X_train, y_train, batch_size = 100, nb_epoch = 100)"
   ]
  },
  {
   "cell_type": "code",
   "execution_count": null,
   "metadata": {},
   "outputs": [],
   "source": [
    "#Predict test results\n",
    "y_predict = classifier.predict(X_test)"
   ]
  },
  {
   "cell_type": "code",
   "execution_count": null,
   "metadata": {},
   "outputs": [],
   "source": [
    "y_predict.max()"
   ]
  },
  {
   "cell_type": "code",
   "execution_count": null,
   "metadata": {},
   "outputs": [],
   "source": []
  }
 ],
 "metadata": {
  "kernelspec": {
   "display_name": "Python 3",
   "language": "python",
   "name": "python3"
  },
  "language_info": {
   "codemirror_mode": {
    "name": "ipython",
    "version": 3
   },
   "file_extension": ".py",
   "mimetype": "text/x-python",
   "name": "python",
   "nbconvert_exporter": "python",
   "pygments_lexer": "ipython3",
   "version": "3.6.3"
  }
 },
 "nbformat": 4,
 "nbformat_minor": 2
}
