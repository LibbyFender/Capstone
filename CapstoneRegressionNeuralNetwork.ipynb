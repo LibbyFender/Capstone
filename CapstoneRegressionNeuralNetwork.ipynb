{
 "cells": [
  {
   "cell_type": "markdown",
   "metadata": {},
   "source": [
    "# Multiple Regression Models to predict athlete performance. Notebook 4 of 5."
   ]
  },
  {
   "cell_type": "code",
   "execution_count": 1,
   "metadata": {},
   "outputs": [
    {
     "name": "stderr",
     "output_type": "stream",
     "text": [
      "Using TensorFlow backend.\n"
     ]
    }
   ],
   "source": [
    "import pandas as pd\n",
    "import numpy as np\n",
    "import matplotlib.pyplot as plt\n",
    "\n",
    "from sklearn.linear_model import LinearRegression\n",
    "from sklearn.svm import SVR\n",
    "from sklearn.naive_bayes import GaussianNB\n",
    "from sklearn import neighbors, preprocessing\n",
    "from sklearn.preprocessing import LabelEncoder, OneHotEncoder\n",
    "from sklearn.model_selection import cross_val_score, KFold\n",
    "from sklearn.preprocessing import StandardScaler\n",
    "from sklearn.model_selection import train_test_split\n",
    "from sklearn.metrics import accuracy_score\n",
    "from keras.wrappers.scikit_learn import KerasRegressor\n",
    "from keras.models import Sequential, load_model\n",
    "from keras.layers import Dense\n",
    "from sklearn.pipeline import Pipeline\n",
    "\n",
    "import pickle"
   ]
  },
  {
   "cell_type": "code",
   "execution_count": 2,
   "metadata": {},
   "outputs": [],
   "source": [
    "data = pd.read_csv('AthleteResults.csv')"
   ]
  },
  {
   "cell_type": "code",
   "execution_count": 3,
   "metadata": {},
   "outputs": [
    {
     "data": {
      "text/html": [
       "<div>\n",
       "<table border=\"1\" class=\"dataframe\">\n",
       "  <thead>\n",
       "    <tr style=\"text-align: right;\">\n",
       "      <th></th>\n",
       "      <th>First_Sex</th>\n",
       "      <th>First_Equipment</th>\n",
       "      <th>First_BodyweightKg</th>\n",
       "      <th>First_Wilks</th>\n",
       "      <th>First_WhereHeld</th>\n",
       "      <th>First_EventDate</th>\n",
       "      <th>First_Competition_experience</th>\n",
       "      <th>Second_Sex</th>\n",
       "      <th>Second_Equipment</th>\n",
       "      <th>Second_BodyweightKg</th>\n",
       "      <th>...</th>\n",
       "      <th>Second_EventDate</th>\n",
       "      <th>Second_Competition_experience</th>\n",
       "      <th>Third_Sex</th>\n",
       "      <th>Third_Equipment</th>\n",
       "      <th>Third_BodyweightKg</th>\n",
       "      <th>Third_Wilks</th>\n",
       "      <th>Third_WhereHeld</th>\n",
       "      <th>Third_EventDate</th>\n",
       "      <th>Third_Competition_experience</th>\n",
       "      <th>birth_year</th>\n",
       "    </tr>\n",
       "  </thead>\n",
       "  <tbody>\n",
       "    <tr>\n",
       "      <th>0</th>\n",
       "      <td>1</td>\n",
       "      <td>3</td>\n",
       "      <td>100.0</td>\n",
       "      <td>418.40</td>\n",
       "      <td>SoPac</td>\n",
       "      <td>2018-01-27</td>\n",
       "      <td>1</td>\n",
       "      <td>1</td>\n",
       "      <td>1</td>\n",
       "      <td>87.20</td>\n",
       "      <td>...</td>\n",
       "      <td>2017-09-30</td>\n",
       "      <td>2</td>\n",
       "      <td>1</td>\n",
       "      <td>3</td>\n",
       "      <td>100.00</td>\n",
       "      <td>413.84</td>\n",
       "      <td>SoPac</td>\n",
       "      <td>2017-09-09</td>\n",
       "      <td>3</td>\n",
       "      <td>1992.0</td>\n",
       "    </tr>\n",
       "    <tr>\n",
       "      <th>1</th>\n",
       "      <td>1</td>\n",
       "      <td>3</td>\n",
       "      <td>99.8</td>\n",
       "      <td>493.35</td>\n",
       "      <td>SoPac</td>\n",
       "      <td>2018-01-27</td>\n",
       "      <td>1</td>\n",
       "      <td>1</td>\n",
       "      <td>3</td>\n",
       "      <td>102.60</td>\n",
       "      <td>...</td>\n",
       "      <td>2017-09-09</td>\n",
       "      <td>2</td>\n",
       "      <td>1</td>\n",
       "      <td>3</td>\n",
       "      <td>99.50</td>\n",
       "      <td>500.05</td>\n",
       "      <td>SoPac</td>\n",
       "      <td>2017-07-21</td>\n",
       "      <td>3</td>\n",
       "      <td>1989.0</td>\n",
       "    </tr>\n",
       "    <tr>\n",
       "      <th>2</th>\n",
       "      <td>1</td>\n",
       "      <td>3</td>\n",
       "      <td>98.8</td>\n",
       "      <td>334.84</td>\n",
       "      <td>SoPac</td>\n",
       "      <td>2018-01-27</td>\n",
       "      <td>1</td>\n",
       "      <td>1</td>\n",
       "      <td>1</td>\n",
       "      <td>99.30</td>\n",
       "      <td>...</td>\n",
       "      <td>2017-10-07</td>\n",
       "      <td>2</td>\n",
       "      <td>1</td>\n",
       "      <td>3</td>\n",
       "      <td>93.80</td>\n",
       "      <td>340.99</td>\n",
       "      <td>SoPac</td>\n",
       "      <td>2012-11-09</td>\n",
       "      <td>3</td>\n",
       "      <td>1968.0</td>\n",
       "    </tr>\n",
       "    <tr>\n",
       "      <th>3</th>\n",
       "      <td>1</td>\n",
       "      <td>3</td>\n",
       "      <td>98.0</td>\n",
       "      <td>395.80</td>\n",
       "      <td>SoPac</td>\n",
       "      <td>2018-01-27</td>\n",
       "      <td>1</td>\n",
       "      <td>1</td>\n",
       "      <td>3</td>\n",
       "      <td>89.80</td>\n",
       "      <td>...</td>\n",
       "      <td>2016-07-08</td>\n",
       "      <td>2</td>\n",
       "      <td>1</td>\n",
       "      <td>3</td>\n",
       "      <td>89.80</td>\n",
       "      <td>399.45</td>\n",
       "      <td>SoPac</td>\n",
       "      <td>2014-11-21</td>\n",
       "      <td>3</td>\n",
       "      <td>1969.0</td>\n",
       "    </tr>\n",
       "    <tr>\n",
       "      <th>4</th>\n",
       "      <td>1</td>\n",
       "      <td>3</td>\n",
       "      <td>89.7</td>\n",
       "      <td>380.49</td>\n",
       "      <td>SoPac</td>\n",
       "      <td>2018-01-27</td>\n",
       "      <td>1</td>\n",
       "      <td>1</td>\n",
       "      <td>2</td>\n",
       "      <td>74.39</td>\n",
       "      <td>...</td>\n",
       "      <td>2017-02-23</td>\n",
       "      <td>2</td>\n",
       "      <td>1</td>\n",
       "      <td>2</td>\n",
       "      <td>74.57</td>\n",
       "      <td>306.66</td>\n",
       "      <td>NAmerica</td>\n",
       "      <td>2017-02-18</td>\n",
       "      <td>3</td>\n",
       "      <td>1990.0</td>\n",
       "    </tr>\n",
       "  </tbody>\n",
       "</table>\n",
       "<p>5 rows × 22 columns</p>\n",
       "</div>"
      ],
      "text/plain": [
       "   First_Sex  First_Equipment  First_BodyweightKg  First_Wilks  \\\n",
       "0          1                3               100.0       418.40   \n",
       "1          1                3                99.8       493.35   \n",
       "2          1                3                98.8       334.84   \n",
       "3          1                3                98.0       395.80   \n",
       "4          1                3                89.7       380.49   \n",
       "\n",
       "  First_WhereHeld First_EventDate  First_Competition_experience  Second_Sex  \\\n",
       "0           SoPac      2018-01-27                             1           1   \n",
       "1           SoPac      2018-01-27                             1           1   \n",
       "2           SoPac      2018-01-27                             1           1   \n",
       "3           SoPac      2018-01-27                             1           1   \n",
       "4           SoPac      2018-01-27                             1           1   \n",
       "\n",
       "   Second_Equipment  Second_BodyweightKg    ...      Second_EventDate  \\\n",
       "0                 1                87.20    ...            2017-09-30   \n",
       "1                 3               102.60    ...            2017-09-09   \n",
       "2                 1                99.30    ...            2017-10-07   \n",
       "3                 3                89.80    ...            2016-07-08   \n",
       "4                 2                74.39    ...            2017-02-23   \n",
       "\n",
       "  Second_Competition_experience Third_Sex  Third_Equipment  \\\n",
       "0                             2         1                3   \n",
       "1                             2         1                3   \n",
       "2                             2         1                3   \n",
       "3                             2         1                3   \n",
       "4                             2         1                2   \n",
       "\n",
       "   Third_BodyweightKg  Third_Wilks  Third_WhereHeld  Third_EventDate  \\\n",
       "0              100.00       413.84            SoPac       2017-09-09   \n",
       "1               99.50       500.05            SoPac       2017-07-21   \n",
       "2               93.80       340.99            SoPac       2012-11-09   \n",
       "3               89.80       399.45            SoPac       2014-11-21   \n",
       "4               74.57       306.66         NAmerica       2017-02-18   \n",
       "\n",
       "  Third_Competition_experience birth_year  \n",
       "0                            3     1992.0  \n",
       "1                            3     1989.0  \n",
       "2                            3     1968.0  \n",
       "3                            3     1969.0  \n",
       "4                            3     1990.0  \n",
       "\n",
       "[5 rows x 22 columns]"
      ]
     },
     "execution_count": 3,
     "metadata": {},
     "output_type": "execute_result"
    }
   ],
   "source": [
    "data.head()"
   ]
  },
  {
   "cell_type": "code",
   "execution_count": 4,
   "metadata": {},
   "outputs": [
    {
     "data": {
      "text/html": [
       "<div>\n",
       "<table border=\"1\" class=\"dataframe\">\n",
       "  <thead>\n",
       "    <tr style=\"text-align: right;\">\n",
       "      <th></th>\n",
       "      <th>First_Sex</th>\n",
       "      <th>First_Equipment</th>\n",
       "      <th>First_BodyweightKg</th>\n",
       "      <th>First_Wilks</th>\n",
       "      <th>First_WhereHeld</th>\n",
       "      <th>First_EventDate</th>\n",
       "      <th>First_Competition_experience</th>\n",
       "      <th>Second_Sex</th>\n",
       "      <th>Second_Equipment</th>\n",
       "      <th>Second_BodyweightKg</th>\n",
       "      <th>...</th>\n",
       "      <th>Second_EventDate</th>\n",
       "      <th>Second_Competition_experience</th>\n",
       "      <th>Third_Sex</th>\n",
       "      <th>Third_Equipment</th>\n",
       "      <th>Third_BodyweightKg</th>\n",
       "      <th>Third_Wilks</th>\n",
       "      <th>Third_WhereHeld</th>\n",
       "      <th>Third_EventDate</th>\n",
       "      <th>Third_Competition_experience</th>\n",
       "      <th>birth_year</th>\n",
       "    </tr>\n",
       "  </thead>\n",
       "  <tbody>\n",
       "    <tr>\n",
       "      <th>14</th>\n",
       "      <td>0</td>\n",
       "      <td>3</td>\n",
       "      <td>54.61</td>\n",
       "      <td>312.99</td>\n",
       "      <td>NAmerica</td>\n",
       "      <td>2018-01-27</td>\n",
       "      <td>1</td>\n",
       "      <td>0</td>\n",
       "      <td>3</td>\n",
       "      <td>55.88</td>\n",
       "      <td>...</td>\n",
       "      <td>2017-01-28</td>\n",
       "      <td>2</td>\n",
       "      <td>0</td>\n",
       "      <td>3</td>\n",
       "      <td>36.20</td>\n",
       "      <td>185.18</td>\n",
       "      <td>NAmerica</td>\n",
       "      <td>2012-06-23</td>\n",
       "      <td>3</td>\n",
       "      <td>2003.0</td>\n",
       "    </tr>\n",
       "    <tr>\n",
       "      <th>15</th>\n",
       "      <td>0</td>\n",
       "      <td>3</td>\n",
       "      <td>57.79</td>\n",
       "      <td>320.23</td>\n",
       "      <td>NAmerica</td>\n",
       "      <td>2018-01-27</td>\n",
       "      <td>1</td>\n",
       "      <td>0</td>\n",
       "      <td>3</td>\n",
       "      <td>58.88</td>\n",
       "      <td>...</td>\n",
       "      <td>2017-11-18</td>\n",
       "      <td>2</td>\n",
       "      <td>0</td>\n",
       "      <td>3</td>\n",
       "      <td>58.97</td>\n",
       "      <td>261.40</td>\n",
       "      <td>NAmerica</td>\n",
       "      <td>2017-11-04</td>\n",
       "      <td>3</td>\n",
       "      <td>2004.0</td>\n",
       "    </tr>\n",
       "    <tr>\n",
       "      <th>16</th>\n",
       "      <td>0</td>\n",
       "      <td>1</td>\n",
       "      <td>85.18</td>\n",
       "      <td>335.44</td>\n",
       "      <td>NAmerica</td>\n",
       "      <td>2018-01-27</td>\n",
       "      <td>1</td>\n",
       "      <td>0</td>\n",
       "      <td>1</td>\n",
       "      <td>88.00</td>\n",
       "      <td>...</td>\n",
       "      <td>2017-11-04</td>\n",
       "      <td>2</td>\n",
       "      <td>0</td>\n",
       "      <td>1</td>\n",
       "      <td>89.72</td>\n",
       "      <td>298.26</td>\n",
       "      <td>NAmerica</td>\n",
       "      <td>2017-10-07</td>\n",
       "      <td>3</td>\n",
       "      <td>1996.0</td>\n",
       "    </tr>\n",
       "    <tr>\n",
       "      <th>17</th>\n",
       "      <td>0</td>\n",
       "      <td>3</td>\n",
       "      <td>88.60</td>\n",
       "      <td>315.31</td>\n",
       "      <td>SoPac</td>\n",
       "      <td>2018-01-27</td>\n",
       "      <td>1</td>\n",
       "      <td>0</td>\n",
       "      <td>3</td>\n",
       "      <td>98.30</td>\n",
       "      <td>...</td>\n",
       "      <td>2017-09-09</td>\n",
       "      <td>2</td>\n",
       "      <td>0</td>\n",
       "      <td>3</td>\n",
       "      <td>99.00</td>\n",
       "      <td>288.10</td>\n",
       "      <td>SoPac</td>\n",
       "      <td>2016-09-03</td>\n",
       "      <td>3</td>\n",
       "      <td>1985.0</td>\n",
       "    </tr>\n",
       "    <tr>\n",
       "      <th>21</th>\n",
       "      <td>0</td>\n",
       "      <td>3</td>\n",
       "      <td>77.40</td>\n",
       "      <td>396.34</td>\n",
       "      <td>SoPac</td>\n",
       "      <td>2018-01-27</td>\n",
       "      <td>1</td>\n",
       "      <td>0</td>\n",
       "      <td>3</td>\n",
       "      <td>80.70</td>\n",
       "      <td>...</td>\n",
       "      <td>2017-07-21</td>\n",
       "      <td>2</td>\n",
       "      <td>0</td>\n",
       "      <td>3</td>\n",
       "      <td>73.90</td>\n",
       "      <td>405.42</td>\n",
       "      <td>SoPac</td>\n",
       "      <td>2017-03-18</td>\n",
       "      <td>3</td>\n",
       "      <td>1989.0</td>\n",
       "    </tr>\n",
       "  </tbody>\n",
       "</table>\n",
       "<p>5 rows × 22 columns</p>\n",
       "</div>"
      ],
      "text/plain": [
       "    First_Sex  First_Equipment  First_BodyweightKg  First_Wilks  \\\n",
       "14          0                3               54.61       312.99   \n",
       "15          0                3               57.79       320.23   \n",
       "16          0                1               85.18       335.44   \n",
       "17          0                3               88.60       315.31   \n",
       "21          0                3               77.40       396.34   \n",
       "\n",
       "   First_WhereHeld First_EventDate  First_Competition_experience  Second_Sex  \\\n",
       "14        NAmerica      2018-01-27                             1           0   \n",
       "15        NAmerica      2018-01-27                             1           0   \n",
       "16        NAmerica      2018-01-27                             1           0   \n",
       "17           SoPac      2018-01-27                             1           0   \n",
       "21           SoPac      2018-01-27                             1           0   \n",
       "\n",
       "    Second_Equipment  Second_BodyweightKg    ...      Second_EventDate  \\\n",
       "14                 3                55.88    ...            2017-01-28   \n",
       "15                 3                58.88    ...            2017-11-18   \n",
       "16                 1                88.00    ...            2017-11-04   \n",
       "17                 3                98.30    ...            2017-09-09   \n",
       "21                 3                80.70    ...            2017-07-21   \n",
       "\n",
       "   Second_Competition_experience Third_Sex  Third_Equipment  \\\n",
       "14                             2         0                3   \n",
       "15                             2         0                3   \n",
       "16                             2         0                1   \n",
       "17                             2         0                3   \n",
       "21                             2         0                3   \n",
       "\n",
       "    Third_BodyweightKg  Third_Wilks  Third_WhereHeld  Third_EventDate  \\\n",
       "14               36.20       185.18         NAmerica       2012-06-23   \n",
       "15               58.97       261.40         NAmerica       2017-11-04   \n",
       "16               89.72       298.26         NAmerica       2017-10-07   \n",
       "17               99.00       288.10            SoPac       2016-09-03   \n",
       "21               73.90       405.42            SoPac       2017-03-18   \n",
       "\n",
       "   Third_Competition_experience birth_year  \n",
       "14                            3     2003.0  \n",
       "15                            3     2004.0  \n",
       "16                            3     1996.0  \n",
       "17                            3     1985.0  \n",
       "21                            3     1989.0  \n",
       "\n",
       "[5 rows x 22 columns]"
      ]
     },
     "execution_count": 4,
     "metadata": {},
     "output_type": "execute_result"
    }
   ],
   "source": [
    "data.query('First_Sex == 0').head()"
   ]
  },
  {
   "cell_type": "code",
   "execution_count": 5,
   "metadata": {},
   "outputs": [
    {
     "data": {
      "text/plain": [
       "First_Sex                          int64\n",
       "First_Equipment                    int64\n",
       "First_BodyweightKg               float64\n",
       "First_Wilks                      float64\n",
       "First_WhereHeld                   object\n",
       "First_EventDate                   object\n",
       "First_Competition_experience       int64\n",
       "Second_Sex                         int64\n",
       "Second_Equipment                   int64\n",
       "Second_BodyweightKg              float64\n",
       "Second_Wilks                     float64\n",
       "Second_WhereHeld                  object\n",
       "Second_EventDate                  object\n",
       "Second_Competition_experience      int64\n",
       "Third_Sex                          int64\n",
       "Third_Equipment                    int64\n",
       "Third_BodyweightKg               float64\n",
       "Third_Wilks                      float64\n",
       "Third_WhereHeld                   object\n",
       "Third_EventDate                   object\n",
       "Third_Competition_experience       int64\n",
       "birth_year                       float64\n",
       "dtype: object"
      ]
     },
     "execution_count": 5,
     "metadata": {},
     "output_type": "execute_result"
    }
   ],
   "source": [
    "data.dtypes"
   ]
  },
  {
   "cell_type": "code",
   "execution_count": 6,
   "metadata": {},
   "outputs": [],
   "source": [
    "data['First_WhereHeld'] = LabelEncoder().fit_transform(data['First_WhereHeld'])\n",
    "data['Second_WhereHeld'] = LabelEncoder().fit_transform(data['Second_WhereHeld'])\n",
    "data['Third_WhereHeld'] = LabelEncoder().fit_transform(data['Third_WhereHeld'])"
   ]
  },
  {
   "cell_type": "code",
   "execution_count": 7,
   "metadata": {},
   "outputs": [
    {
     "data": {
      "text/html": [
       "<div>\n",
       "<table border=\"1\" class=\"dataframe\">\n",
       "  <thead>\n",
       "    <tr style=\"text-align: right;\">\n",
       "      <th></th>\n",
       "      <th>First_Sex</th>\n",
       "      <th>First_Equipment</th>\n",
       "      <th>First_BodyweightKg</th>\n",
       "      <th>First_Wilks</th>\n",
       "      <th>First_WhereHeld</th>\n",
       "      <th>First_EventDate</th>\n",
       "      <th>First_Competition_experience</th>\n",
       "      <th>Second_Sex</th>\n",
       "      <th>Second_Equipment</th>\n",
       "      <th>Second_BodyweightKg</th>\n",
       "      <th>...</th>\n",
       "      <th>Second_EventDate</th>\n",
       "      <th>Second_Competition_experience</th>\n",
       "      <th>Third_Sex</th>\n",
       "      <th>Third_Equipment</th>\n",
       "      <th>Third_BodyweightKg</th>\n",
       "      <th>Third_Wilks</th>\n",
       "      <th>Third_WhereHeld</th>\n",
       "      <th>Third_EventDate</th>\n",
       "      <th>Third_Competition_experience</th>\n",
       "      <th>birth_year</th>\n",
       "    </tr>\n",
       "  </thead>\n",
       "  <tbody>\n",
       "    <tr>\n",
       "      <th>0</th>\n",
       "      <td>1</td>\n",
       "      <td>3</td>\n",
       "      <td>100.0</td>\n",
       "      <td>418.40</td>\n",
       "      <td>5</td>\n",
       "      <td>2018-01-27</td>\n",
       "      <td>1</td>\n",
       "      <td>1</td>\n",
       "      <td>1</td>\n",
       "      <td>87.20</td>\n",
       "      <td>...</td>\n",
       "      <td>2017-09-30</td>\n",
       "      <td>2</td>\n",
       "      <td>1</td>\n",
       "      <td>3</td>\n",
       "      <td>100.00</td>\n",
       "      <td>413.84</td>\n",
       "      <td>5</td>\n",
       "      <td>2017-09-09</td>\n",
       "      <td>3</td>\n",
       "      <td>1992.0</td>\n",
       "    </tr>\n",
       "    <tr>\n",
       "      <th>1</th>\n",
       "      <td>1</td>\n",
       "      <td>3</td>\n",
       "      <td>99.8</td>\n",
       "      <td>493.35</td>\n",
       "      <td>5</td>\n",
       "      <td>2018-01-27</td>\n",
       "      <td>1</td>\n",
       "      <td>1</td>\n",
       "      <td>3</td>\n",
       "      <td>102.60</td>\n",
       "      <td>...</td>\n",
       "      <td>2017-09-09</td>\n",
       "      <td>2</td>\n",
       "      <td>1</td>\n",
       "      <td>3</td>\n",
       "      <td>99.50</td>\n",
       "      <td>500.05</td>\n",
       "      <td>5</td>\n",
       "      <td>2017-07-21</td>\n",
       "      <td>3</td>\n",
       "      <td>1989.0</td>\n",
       "    </tr>\n",
       "    <tr>\n",
       "      <th>2</th>\n",
       "      <td>1</td>\n",
       "      <td>3</td>\n",
       "      <td>98.8</td>\n",
       "      <td>334.84</td>\n",
       "      <td>5</td>\n",
       "      <td>2018-01-27</td>\n",
       "      <td>1</td>\n",
       "      <td>1</td>\n",
       "      <td>1</td>\n",
       "      <td>99.30</td>\n",
       "      <td>...</td>\n",
       "      <td>2017-10-07</td>\n",
       "      <td>2</td>\n",
       "      <td>1</td>\n",
       "      <td>3</td>\n",
       "      <td>93.80</td>\n",
       "      <td>340.99</td>\n",
       "      <td>5</td>\n",
       "      <td>2012-11-09</td>\n",
       "      <td>3</td>\n",
       "      <td>1968.0</td>\n",
       "    </tr>\n",
       "    <tr>\n",
       "      <th>3</th>\n",
       "      <td>1</td>\n",
       "      <td>3</td>\n",
       "      <td>98.0</td>\n",
       "      <td>395.80</td>\n",
       "      <td>5</td>\n",
       "      <td>2018-01-27</td>\n",
       "      <td>1</td>\n",
       "      <td>1</td>\n",
       "      <td>3</td>\n",
       "      <td>89.80</td>\n",
       "      <td>...</td>\n",
       "      <td>2016-07-08</td>\n",
       "      <td>2</td>\n",
       "      <td>1</td>\n",
       "      <td>3</td>\n",
       "      <td>89.80</td>\n",
       "      <td>399.45</td>\n",
       "      <td>5</td>\n",
       "      <td>2014-11-21</td>\n",
       "      <td>3</td>\n",
       "      <td>1969.0</td>\n",
       "    </tr>\n",
       "    <tr>\n",
       "      <th>4</th>\n",
       "      <td>1</td>\n",
       "      <td>3</td>\n",
       "      <td>89.7</td>\n",
       "      <td>380.49</td>\n",
       "      <td>5</td>\n",
       "      <td>2018-01-27</td>\n",
       "      <td>1</td>\n",
       "      <td>1</td>\n",
       "      <td>2</td>\n",
       "      <td>74.39</td>\n",
       "      <td>...</td>\n",
       "      <td>2017-02-23</td>\n",
       "      <td>2</td>\n",
       "      <td>1</td>\n",
       "      <td>2</td>\n",
       "      <td>74.57</td>\n",
       "      <td>306.66</td>\n",
       "      <td>3</td>\n",
       "      <td>2017-02-18</td>\n",
       "      <td>3</td>\n",
       "      <td>1990.0</td>\n",
       "    </tr>\n",
       "  </tbody>\n",
       "</table>\n",
       "<p>5 rows × 22 columns</p>\n",
       "</div>"
      ],
      "text/plain": [
       "   First_Sex  First_Equipment  First_BodyweightKg  First_Wilks  \\\n",
       "0          1                3               100.0       418.40   \n",
       "1          1                3                99.8       493.35   \n",
       "2          1                3                98.8       334.84   \n",
       "3          1                3                98.0       395.80   \n",
       "4          1                3                89.7       380.49   \n",
       "\n",
       "   First_WhereHeld First_EventDate  First_Competition_experience  Second_Sex  \\\n",
       "0                5      2018-01-27                             1           1   \n",
       "1                5      2018-01-27                             1           1   \n",
       "2                5      2018-01-27                             1           1   \n",
       "3                5      2018-01-27                             1           1   \n",
       "4                5      2018-01-27                             1           1   \n",
       "\n",
       "   Second_Equipment  Second_BodyweightKg    ...      Second_EventDate  \\\n",
       "0                 1                87.20    ...            2017-09-30   \n",
       "1                 3               102.60    ...            2017-09-09   \n",
       "2                 1                99.30    ...            2017-10-07   \n",
       "3                 3                89.80    ...            2016-07-08   \n",
       "4                 2                74.39    ...            2017-02-23   \n",
       "\n",
       "   Second_Competition_experience Third_Sex  Third_Equipment  \\\n",
       "0                              2         1                3   \n",
       "1                              2         1                3   \n",
       "2                              2         1                3   \n",
       "3                              2         1                3   \n",
       "4                              2         1                2   \n",
       "\n",
       "   Third_BodyweightKg  Third_Wilks  Third_WhereHeld  Third_EventDate  \\\n",
       "0              100.00       413.84                5       2017-09-09   \n",
       "1               99.50       500.05                5       2017-07-21   \n",
       "2               93.80       340.99                5       2012-11-09   \n",
       "3               89.80       399.45                5       2014-11-21   \n",
       "4               74.57       306.66                3       2017-02-18   \n",
       "\n",
       "   Third_Competition_experience birth_year  \n",
       "0                             3     1992.0  \n",
       "1                             3     1989.0  \n",
       "2                             3     1968.0  \n",
       "3                             3     1969.0  \n",
       "4                             3     1990.0  \n",
       "\n",
       "[5 rows x 22 columns]"
      ]
     },
     "execution_count": 7,
     "metadata": {},
     "output_type": "execute_result"
    }
   ],
   "source": [
    "#Ask about this\n",
    "#https://stackoverflow.com/questions/24458645/label-encoding-across-multiple-columns-in-scikit-learn\n",
    "data.head()"
   ]
  },
  {
   "cell_type": "code",
   "execution_count": 8,
   "metadata": {},
   "outputs": [],
   "source": [
    "data.drop('Third_Sex', axis=1, inplace=True)\n",
    "data.drop('Second_Sex', axis=1, inplace=True)"
   ]
  },
  {
   "cell_type": "code",
   "execution_count": 9,
   "metadata": {},
   "outputs": [],
   "source": [
    "data['First_EventDate'] = pd.to_datetime(data['First_EventDate'])\n",
    "data['Second_EventDate'] = pd.to_datetime(data['Second_EventDate'])\n",
    "data['Third_EventDate'] = pd.to_datetime(data['Third_EventDate'])\n",
    "\n",
    "\n",
    "data['First_Rest'] = data['First_EventDate'] - data['Second_EventDate']\n",
    "data['Second_Rest'] = data['Second_EventDate'] - data['Third_EventDate']\n",
    "#not_features = ['First_EventDate', 'Second_EventDate', 'Third_EventDate', 'First_Wilks']"
   ]
  },
  {
   "cell_type": "code",
   "execution_count": 10,
   "metadata": {},
   "outputs": [],
   "source": [
    "data['First_Rest']=data['First_Rest'].dt.days\n",
    "data['Second_Rest'] = data['Second_Rest'].dt.days"
   ]
  },
  {
   "cell_type": "code",
   "execution_count": 11,
   "metadata": {},
   "outputs": [
    {
     "data": {
      "text/plain": [
       "Index(['First_Sex', 'First_Equipment', 'First_BodyweightKg', 'First_Wilks',\n",
       "       'First_WhereHeld', 'First_EventDate', 'First_Competition_experience',\n",
       "       'Second_Equipment', 'Second_BodyweightKg', 'Second_Wilks',\n",
       "       'Second_WhereHeld', 'Second_EventDate', 'Second_Competition_experience',\n",
       "       'Third_Equipment', 'Third_BodyweightKg', 'Third_Wilks',\n",
       "       'Third_WhereHeld', 'Third_EventDate', 'Third_Competition_experience',\n",
       "       'birth_year', 'First_Rest', 'Second_Rest'],\n",
       "      dtype='object')"
      ]
     },
     "execution_count": 11,
     "metadata": {},
     "output_type": "execute_result"
    }
   ],
   "source": [
    "data.columns"
   ]
  },
  {
   "cell_type": "code",
   "execution_count": 91,
   "metadata": {},
   "outputs": [],
   "source": [
    "features = data.columns\n",
    "not_features = ['First_EventDate', 'Second_EventDate', 'Third_EventDate', 'First_Wilks']\n",
    "features = features.drop(not_features)\n",
    "y = data.First_Wilks\n",
    "X = data[features]"
   ]
  },
  {
   "cell_type": "code",
   "execution_count": 92,
   "metadata": {},
   "outputs": [],
   "source": [
    "#X"
   ]
  },
  {
   "cell_type": "code",
   "execution_count": 93,
   "metadata": {},
   "outputs": [
    {
     "data": {
      "text/plain": [
       "dtype('float64')"
      ]
     },
     "execution_count": 93,
     "metadata": {},
     "output_type": "execute_result"
    }
   ],
   "source": [
    "y.dtype"
   ]
  },
  {
   "cell_type": "code",
   "execution_count": 94,
   "metadata": {},
   "outputs": [
    {
     "data": {
      "text/html": [
       "<div>\n",
       "<table border=\"1\" class=\"dataframe\">\n",
       "  <thead>\n",
       "    <tr style=\"text-align: right;\">\n",
       "      <th></th>\n",
       "      <th>First_Sex</th>\n",
       "      <th>First_Equipment</th>\n",
       "      <th>First_BodyweightKg</th>\n",
       "      <th>First_Wilks</th>\n",
       "      <th>First_WhereHeld</th>\n",
       "      <th>First_EventDate</th>\n",
       "      <th>First_Competition_experience</th>\n",
       "      <th>Second_Equipment</th>\n",
       "      <th>Second_BodyweightKg</th>\n",
       "      <th>Second_Wilks</th>\n",
       "      <th>...</th>\n",
       "      <th>Second_Competition_experience</th>\n",
       "      <th>Third_Equipment</th>\n",
       "      <th>Third_BodyweightKg</th>\n",
       "      <th>Third_Wilks</th>\n",
       "      <th>Third_WhereHeld</th>\n",
       "      <th>Third_EventDate</th>\n",
       "      <th>Third_Competition_experience</th>\n",
       "      <th>birth_year</th>\n",
       "      <th>First_Rest</th>\n",
       "      <th>Second_Rest</th>\n",
       "    </tr>\n",
       "  </thead>\n",
       "  <tbody>\n",
       "    <tr>\n",
       "      <th>0</th>\n",
       "      <td>1</td>\n",
       "      <td>3</td>\n",
       "      <td>100.0</td>\n",
       "      <td>418.40</td>\n",
       "      <td>5</td>\n",
       "      <td>2018-01-27</td>\n",
       "      <td>1</td>\n",
       "      <td>1</td>\n",
       "      <td>87.20</td>\n",
       "      <td>355.37</td>\n",
       "      <td>...</td>\n",
       "      <td>2</td>\n",
       "      <td>3</td>\n",
       "      <td>100.00</td>\n",
       "      <td>413.84</td>\n",
       "      <td>5</td>\n",
       "      <td>2017-09-09</td>\n",
       "      <td>3</td>\n",
       "      <td>1992.0</td>\n",
       "      <td>119</td>\n",
       "      <td>21</td>\n",
       "    </tr>\n",
       "    <tr>\n",
       "      <th>1</th>\n",
       "      <td>1</td>\n",
       "      <td>3</td>\n",
       "      <td>99.8</td>\n",
       "      <td>493.35</td>\n",
       "      <td>5</td>\n",
       "      <td>2018-01-27</td>\n",
       "      <td>1</td>\n",
       "      <td>3</td>\n",
       "      <td>102.60</td>\n",
       "      <td>485.08</td>\n",
       "      <td>...</td>\n",
       "      <td>2</td>\n",
       "      <td>3</td>\n",
       "      <td>99.50</td>\n",
       "      <td>500.05</td>\n",
       "      <td>5</td>\n",
       "      <td>2017-07-21</td>\n",
       "      <td>3</td>\n",
       "      <td>1989.0</td>\n",
       "      <td>140</td>\n",
       "      <td>50</td>\n",
       "    </tr>\n",
       "    <tr>\n",
       "      <th>2</th>\n",
       "      <td>1</td>\n",
       "      <td>3</td>\n",
       "      <td>98.8</td>\n",
       "      <td>334.84</td>\n",
       "      <td>5</td>\n",
       "      <td>2018-01-27</td>\n",
       "      <td>1</td>\n",
       "      <td>1</td>\n",
       "      <td>99.30</td>\n",
       "      <td>329.57</td>\n",
       "      <td>...</td>\n",
       "      <td>2</td>\n",
       "      <td>3</td>\n",
       "      <td>93.80</td>\n",
       "      <td>340.99</td>\n",
       "      <td>5</td>\n",
       "      <td>2012-11-09</td>\n",
       "      <td>3</td>\n",
       "      <td>1968.0</td>\n",
       "      <td>112</td>\n",
       "      <td>1793</td>\n",
       "    </tr>\n",
       "    <tr>\n",
       "      <th>3</th>\n",
       "      <td>1</td>\n",
       "      <td>3</td>\n",
       "      <td>98.0</td>\n",
       "      <td>395.80</td>\n",
       "      <td>5</td>\n",
       "      <td>2018-01-27</td>\n",
       "      <td>1</td>\n",
       "      <td>3</td>\n",
       "      <td>89.80</td>\n",
       "      <td>410.63</td>\n",
       "      <td>...</td>\n",
       "      <td>2</td>\n",
       "      <td>3</td>\n",
       "      <td>89.80</td>\n",
       "      <td>399.45</td>\n",
       "      <td>5</td>\n",
       "      <td>2014-11-21</td>\n",
       "      <td>3</td>\n",
       "      <td>1969.0</td>\n",
       "      <td>568</td>\n",
       "      <td>595</td>\n",
       "    </tr>\n",
       "    <tr>\n",
       "      <th>4</th>\n",
       "      <td>1</td>\n",
       "      <td>3</td>\n",
       "      <td>89.7</td>\n",
       "      <td>380.49</td>\n",
       "      <td>5</td>\n",
       "      <td>2018-01-27</td>\n",
       "      <td>1</td>\n",
       "      <td>2</td>\n",
       "      <td>74.39</td>\n",
       "      <td>331.56</td>\n",
       "      <td>...</td>\n",
       "      <td>2</td>\n",
       "      <td>2</td>\n",
       "      <td>74.57</td>\n",
       "      <td>306.66</td>\n",
       "      <td>3</td>\n",
       "      <td>2017-02-18</td>\n",
       "      <td>3</td>\n",
       "      <td>1990.0</td>\n",
       "      <td>338</td>\n",
       "      <td>5</td>\n",
       "    </tr>\n",
       "  </tbody>\n",
       "</table>\n",
       "<p>5 rows × 22 columns</p>\n",
       "</div>"
      ],
      "text/plain": [
       "   First_Sex  First_Equipment  First_BodyweightKg  First_Wilks  \\\n",
       "0          1                3               100.0       418.40   \n",
       "1          1                3                99.8       493.35   \n",
       "2          1                3                98.8       334.84   \n",
       "3          1                3                98.0       395.80   \n",
       "4          1                3                89.7       380.49   \n",
       "\n",
       "   First_WhereHeld First_EventDate  First_Competition_experience  \\\n",
       "0                5      2018-01-27                             1   \n",
       "1                5      2018-01-27                             1   \n",
       "2                5      2018-01-27                             1   \n",
       "3                5      2018-01-27                             1   \n",
       "4                5      2018-01-27                             1   \n",
       "\n",
       "   Second_Equipment  Second_BodyweightKg  Second_Wilks     ...       \\\n",
       "0                 1                87.20        355.37     ...        \n",
       "1                 3               102.60        485.08     ...        \n",
       "2                 1                99.30        329.57     ...        \n",
       "3                 3                89.80        410.63     ...        \n",
       "4                 2                74.39        331.56     ...        \n",
       "\n",
       "   Second_Competition_experience Third_Equipment  Third_BodyweightKg  \\\n",
       "0                              2               3              100.00   \n",
       "1                              2               3               99.50   \n",
       "2                              2               3               93.80   \n",
       "3                              2               3               89.80   \n",
       "4                              2               2               74.57   \n",
       "\n",
       "   Third_Wilks  Third_WhereHeld  Third_EventDate  \\\n",
       "0       413.84                5       2017-09-09   \n",
       "1       500.05                5       2017-07-21   \n",
       "2       340.99                5       2012-11-09   \n",
       "3       399.45                5       2014-11-21   \n",
       "4       306.66                3       2017-02-18   \n",
       "\n",
       "   Third_Competition_experience birth_year  First_Rest  Second_Rest  \n",
       "0                             3     1992.0         119           21  \n",
       "1                             3     1989.0         140           50  \n",
       "2                             3     1968.0         112         1793  \n",
       "3                             3     1969.0         568          595  \n",
       "4                             3     1990.0         338            5  \n",
       "\n",
       "[5 rows x 22 columns]"
      ]
     },
     "execution_count": 94,
     "metadata": {},
     "output_type": "execute_result"
    }
   ],
   "source": [
    "data.head()"
   ]
  },
  {
   "cell_type": "code",
   "execution_count": 95,
   "metadata": {},
   "outputs": [
    {
     "name": "stdout",
     "output_type": "stream",
     "text": [
      "(12254, 18) (12254,)\n"
     ]
    }
   ],
   "source": [
    "print(X.shape, y.shape)"
   ]
  },
  {
   "cell_type": "markdown",
   "metadata": {},
   "source": [
    "# Linear Regression using various methods"
   ]
  },
  {
   "cell_type": "markdown",
   "metadata": {},
   "source": [
    "AKA: my simple starting point"
   ]
  },
  {
   "cell_type": "code",
   "execution_count": 96,
   "metadata": {},
   "outputs": [],
   "source": [
    "from scipy import linspace, polyval, polyfit, sqrt, stats, randn, optimize\n",
    "import statsmodels.api as sm\n",
    "import time"
   ]
  },
  {
   "cell_type": "code",
   "execution_count": 97,
   "metadata": {},
   "outputs": [
    {
     "name": "stdout",
     "output_type": "stream",
     "text": [
      "(12254, 18) (12254,)\n"
     ]
    }
   ],
   "source": [
    "print(X.shape, y.shape)"
   ]
  },
  {
   "cell_type": "code",
   "execution_count": 98,
   "metadata": {},
   "outputs": [
    {
     "data": {
      "text/plain": [
       "array([[1, 3, 100.0, ..., 1992.0, 119, 21],\n",
       "       [1, 3, 99.8, ..., 1989.0, 140, 50],\n",
       "       [1, 3, 98.8, ..., 1968.0, 112, 1793],\n",
       "       ..., \n",
       "       [1, 1, 103.0, ..., 1993.0, 197, 327],\n",
       "       [1, 1, 85.4, ..., 1996.0, 147, 76],\n",
       "       [1, 1, 92.5, ..., 1998.0, 181, 170]], dtype=object)"
      ]
     },
     "execution_count": 98,
     "metadata": {},
     "output_type": "execute_result"
    }
   ],
   "source": [
    "np.asarray(data)"
   ]
  },
  {
   "cell_type": "code",
   "execution_count": 99,
   "metadata": {},
   "outputs": [
    {
     "data": {
      "text/plain": [
       "First_Sex                          int64\n",
       "First_Equipment                    int64\n",
       "First_BodyweightKg               float64\n",
       "First_WhereHeld                    int64\n",
       "First_Competition_experience       int64\n",
       "Second_Equipment                   int64\n",
       "Second_BodyweightKg              float64\n",
       "Second_Wilks                     float64\n",
       "Second_WhereHeld                   int64\n",
       "Second_Competition_experience      int64\n",
       "Third_Equipment                    int64\n",
       "Third_BodyweightKg               float64\n",
       "Third_Wilks                      float64\n",
       "Third_WhereHeld                    int64\n",
       "Third_Competition_experience       int64\n",
       "birth_year                       float64\n",
       "First_Rest                         int64\n",
       "Second_Rest                        int64\n",
       "dtype: object"
      ]
     },
     "execution_count": 99,
     "metadata": {},
     "output_type": "execute_result"
    }
   ],
   "source": [
    "X.dtypes"
   ]
  },
  {
   "cell_type": "code",
   "execution_count": 100,
   "metadata": {},
   "outputs": [],
   "source": [
    "model = sm.OLS(y, X).fit()\n",
    "sm.add_constant(X)\n",
    "predictions = model.predict(X)"
   ]
  },
  {
   "cell_type": "code",
   "execution_count": 101,
   "metadata": {},
   "outputs": [
    {
     "name": "stdout",
     "output_type": "stream",
     "text": [
      "                            OLS Regression Results                            \n",
      "==============================================================================\n",
      "Dep. Variable:            First_Wilks   R-squared:                       0.803\n",
      "Model:                            OLS   Adj. R-squared:                  0.803\n",
      "Method:                 Least Squares   F-statistic:                     3324.\n",
      "Date:                Mon, 09 Apr 2018   Prob (F-statistic):               0.00\n",
      "Time:                        18:49:21   Log-Likelihood:                -60374.\n",
      "No. Observations:               12254   AIC:                         1.208e+05\n",
      "Df Residuals:                   12238   BIC:                         1.209e+05\n",
      "Df Model:                          15                                         \n",
      "Covariance Type:            nonrobust                                         \n",
      "=================================================================================================\n",
      "                                    coef    std err          t      P>|t|      [0.025      0.975]\n",
      "-------------------------------------------------------------------------------------------------\n",
      "First_Sex                        -0.5371      0.755     -0.711      0.477      -2.018       0.943\n",
      "First_Equipment                   7.9307      0.503     15.754      0.000       6.944       8.917\n",
      "First_BodyweightKg                0.3704      0.037     10.108      0.000       0.299       0.442\n",
      "First_WhereHeld                  -2.7021      0.742     -3.641      0.000      -4.157      -1.247\n",
      "First_Competition_experience    -49.0554      3.800    -12.908      0.000     -56.505     -41.606\n",
      "Second_Equipment                 -5.2421      0.540     -9.705      0.000      -6.301      -4.183\n",
      "Second_BodyweightKg              -0.1612      0.043     -3.744      0.000      -0.246      -0.077\n",
      "Second_Wilks                      0.6033      0.009     70.482      0.000       0.586       0.620\n",
      "Second_WhereHeld                  1.0989      0.945      1.162      0.245      -0.754       2.952\n",
      "Second_Competition_experience   -98.1107      7.601    -12.908      0.000    -113.009     -83.212\n",
      "Third_Equipment                  -0.0124      0.499     -0.025      0.980      -0.990       0.965\n",
      "Third_BodyweightKg               -0.1770      0.039     -4.596      0.000      -0.253      -0.102\n",
      "Third_Wilks                       0.2899      0.008     34.443      0.000       0.273       0.306\n",
      "Third_WhereHeld                   0.1369      0.953      0.144      0.886      -1.732       2.005\n",
      "Third_Competition_experience   -147.1661     11.401    -12.908      0.000    -169.514    -124.818\n",
      "birth_year                        0.3687      0.027     13.759      0.000       0.316       0.421\n",
      "First_Rest                      3.03e-07      0.002      0.000      1.000      -0.003       0.003\n",
      "Second_Rest                       0.0048      0.002      3.105      0.002       0.002       0.008\n",
      "==============================================================================\n",
      "Omnibus:                     3089.663   Durbin-Watson:                   1.854\n",
      "Prob(Omnibus):                  0.000   Jarque-Bera (JB):            62303.736\n",
      "Skew:                          -0.709   Prob(JB):                         0.00\n",
      "Kurtosis:                      13.955   Cond. No.                     4.67e+19\n",
      "==============================================================================\n",
      "\n",
      "Warnings:\n",
      "[1] Standard Errors assume that the covariance matrix of the errors is correctly specified.\n",
      "[2] The smallest eigenvalue is 2.44e-29. This might indicate that there are\n",
      "strong multicollinearity problems or that the design matrix is singular.\n"
     ]
    }
   ],
   "source": [
    "print(model.summary())"
   ]
  },
  {
   "cell_type": "code",
   "execution_count": 102,
   "metadata": {},
   "outputs": [],
   "source": [
    "from sklearn.metrics import accuracy_score \n",
    "X_train, X_test, y_train, y_test = train_test_split(X, y, random_state=167)"
   ]
  },
  {
   "cell_type": "code",
   "execution_count": 103,
   "metadata": {},
   "outputs": [
    {
     "data": {
      "text/plain": [
       "0.81360485846482944"
      ]
     },
     "execution_count": 103,
     "metadata": {},
     "output_type": "execute_result"
    }
   ],
   "source": [
    "lr = LinearRegression()\n",
    "lr.fit(X_train, y_train)\n",
    "lr_test_pred = lr.predict(X_test)\n",
    "lr_train_pred=lr.predict(X_train)\n",
    "lr.score(X_test, y_test) #Rsq score of our model"
   ]
  },
  {
   "cell_type": "code",
   "execution_count": 104,
   "metadata": {},
   "outputs": [],
   "source": [
    "gnb = GaussianNB #for classification later\n",
    "knn = neighbors.KNeighborsRegressor(n_neighbors=5, weights='distance', algorithm='auto')\n",
    "model_knn = knn.fit(X_train, y_train)"
   ]
  },
  {
   "cell_type": "code",
   "execution_count": 105,
   "metadata": {},
   "outputs": [
    {
     "name": "stdout",
     "output_type": "stream",
     "text": [
      "1278.88184025\n"
     ]
    }
   ],
   "source": [
    "knn_pred = knn.predict(X_test)\n",
    "knn_actual= y_test\n",
    "mse = (((knn_pred - knn_actual)**2).sum())/len(knn_pred)\n",
    "#accuracy_score(y_test, knn_pred)\n",
    "print(mse)"
   ]
  },
  {
   "cell_type": "code",
   "execution_count": 106,
   "metadata": {},
   "outputs": [
    {
     "data": {
      "text/plain": [
       "(12254, 18)"
      ]
     },
     "execution_count": 106,
     "metadata": {},
     "output_type": "execute_result"
    }
   ],
   "source": [
    "# First Run Neural Network\n",
    "X.shape"
   ]
  },
  {
   "cell_type": "markdown",
   "metadata": {},
   "source": [
    "# Initialize Neural Network\n"
   ]
  },
  {
   "cell_type": "code",
   "execution_count": 108,
   "metadata": {},
   "outputs": [],
   "source": [
    "def baseline_model():\n",
    "    model = Sequential()\n",
    "    #Adding Input layer and hidden layer\n",
    "    model.add(Dense(6, input_dim=18, kernel_initializer='normal', activation='relu'))\n",
    "\n",
    "#Add second layer\n",
    "    model.add(Dense(1, kernel_initializer='normal'))\n",
    "\n",
    "#Compile model\n",
    "    model.compile(loss='mean_squared_error', optimizer='adam')\n",
    "    return model"
   ]
  },
  {
   "cell_type": "code",
   "execution_count": 109,
   "metadata": {},
   "outputs": [],
   "source": [
    "#Establish method to compare model accuracy\n",
    "seed = 6\n",
    "np.random.seed(seed)\n",
    "\n",
    "#Evaluate model\n",
    "estimator = KerasRegressor(build_fn=baseline_model, nb_epoch=100, batch_size=128, verbose=1)"
   ]
  },
  {
   "cell_type": "code",
   "execution_count": 110,
   "metadata": {},
   "outputs": [
    {
     "name": "stderr",
     "output_type": "stream",
     "text": [
      "/opt/conda/lib/python3.6/site-packages/keras/models.py:942: UserWarning: The `nb_epoch` argument in `fit` has been renamed `epochs`.\n",
      "  warnings.warn('The `nb_epoch` argument in `fit` '\n"
     ]
    },
    {
     "name": "stdout",
     "output_type": "stream",
     "text": [
      "Train on 7352 samples, validate on 1838 samples\n",
      "Epoch 1/100\n",
      "7352/7352 [==============================] - 2s 225us/step - loss: 61734.9107 - val_loss: 3909.1457\n",
      "Epoch 2/100\n",
      "7352/7352 [==============================] - 1s 78us/step - loss: 3725.2384 - val_loss: 3326.0925\n",
      "Epoch 3/100\n",
      "7352/7352 [==============================] - 1s 80us/step - loss: 3184.6543 - val_loss: 2880.6885\n",
      "Epoch 4/100\n",
      "7352/7352 [==============================] - 1s 83us/step - loss: 2776.8464 - val_loss: 2545.0180\n",
      "Epoch 5/100\n",
      "7352/7352 [==============================] - 1s 77us/step - loss: 2459.6648 - val_loss: 2271.7593\n",
      "Epoch 6/100\n",
      "7352/7352 [==============================] - 1s 82us/step - loss: 2177.1909 - val_loss: 1994.0553\n",
      "Epoch 7/100\n",
      "7352/7352 [==============================] - 1s 81us/step - loss: 1919.1675 - val_loss: 1758.1456\n",
      "Epoch 8/100\n",
      "7352/7352 [==============================] - 1s 82us/step - loss: 1693.4971 - val_loss: 1527.6888\n",
      "Epoch 9/100\n",
      "7352/7352 [==============================] - 1s 85us/step - loss: 1509.2421 - val_loss: 1346.2529\n",
      "Epoch 10/100\n",
      "7352/7352 [==============================] - 1s 91us/step - loss: 1374.4590 - val_loss: 1239.8868\n",
      "Epoch 11/100\n",
      "7352/7352 [==============================] - 1s 91us/step - loss: 1297.2634 - val_loss: 1184.5276\n",
      "Epoch 12/100\n",
      "7352/7352 [==============================] - 1s 88us/step - loss: 1263.3460 - val_loss: 1178.2684\n",
      "Epoch 13/100\n",
      "7352/7352 [==============================] - 1s 84us/step - loss: 1247.7006 - val_loss: 1135.7379\n",
      "Epoch 14/100\n",
      "7352/7352 [==============================] - 1s 81us/step - loss: 1238.8926 - val_loss: 1131.4435\n",
      "Epoch 15/100\n",
      "7352/7352 [==============================] - 1s 84us/step - loss: 1234.2263 - val_loss: 1131.2976\n",
      "Epoch 16/100\n",
      "7352/7352 [==============================] - 1s 85us/step - loss: 1232.3883 - val_loss: 1168.9980\n",
      "Epoch 17/100\n",
      "7352/7352 [==============================] - 1s 83us/step - loss: 1237.6903 - val_loss: 1135.0900\n",
      "Epoch 18/100\n",
      "7352/7352 [==============================] - 1s 82us/step - loss: 1227.5930 - val_loss: 1124.7185\n",
      "Epoch 19/100\n",
      "7352/7352 [==============================] - 1s 89us/step - loss: 1222.5316 - val_loss: 1122.7517\n",
      "Epoch 20/100\n",
      "7352/7352 [==============================] - 1s 84us/step - loss: 1225.0151 - val_loss: 1143.7177\n",
      "Epoch 21/100\n",
      "7352/7352 [==============================] - 1s 89us/step - loss: 1219.5357 - val_loss: 1120.8308\n",
      "Epoch 22/100\n",
      "7352/7352 [==============================] - 1s 84us/step - loss: 1216.9893 - val_loss: 1118.1435\n",
      "Epoch 23/100\n",
      "7352/7352 [==============================] - 1s 84us/step - loss: 1214.3561 - val_loss: 1189.9599\n",
      "Epoch 24/100\n",
      "7352/7352 [==============================] - 1s 83us/step - loss: 1211.0924 - val_loss: 1114.6288\n",
      "Epoch 25/100\n",
      "7352/7352 [==============================] - 1s 101us/step - loss: 1223.8644 - val_loss: 1116.9004\n",
      "Epoch 26/100\n",
      "7352/7352 [==============================] - 1s 87us/step - loss: 1207.5724 - val_loss: 1117.7245\n",
      "Epoch 27/100\n",
      "7352/7352 [==============================] - 0s 62us/step - loss: 1205.0121 - val_loss: 1143.5522\n",
      "Epoch 28/100\n",
      "7352/7352 [==============================] - 1s 77us/step - loss: 1203.5046 - val_loss: 1112.0092\n",
      "Epoch 29/100\n",
      "7352/7352 [==============================] - 1s 70us/step - loss: 1205.8814 - val_loss: 1157.1090\n",
      "Epoch 30/100\n",
      "7352/7352 [==============================] - 0s 62us/step - loss: 1207.4493 - val_loss: 1122.0217\n",
      "Epoch 31/100\n",
      "7352/7352 [==============================] - 0s 63us/step - loss: 1200.6583 - val_loss: 1108.1511\n",
      "Epoch 32/100\n",
      "7352/7352 [==============================] - 0s 61us/step - loss: 1199.3563 - val_loss: 1112.7012\n",
      "Epoch 33/100\n",
      "7352/7352 [==============================] - 0s 61us/step - loss: 1197.5237 - val_loss: 1130.6727\n",
      "Epoch 34/100\n",
      "7352/7352 [==============================] - 0s 63us/step - loss: 1199.2675 - val_loss: 1108.7542\n",
      "Epoch 35/100\n",
      "7352/7352 [==============================] - 0s 63us/step - loss: 1201.2528 - val_loss: 1112.8414\n",
      "Epoch 36/100\n",
      "7352/7352 [==============================] - 0s 68us/step - loss: 1198.2091 - val_loss: 1112.3628\n",
      "Epoch 37/100\n",
      "7352/7352 [==============================] - 0s 67us/step - loss: 1204.5581 - val_loss: 1119.1746\n",
      "Epoch 38/100\n",
      "7352/7352 [==============================] - 0s 67us/step - loss: 1206.4205 - val_loss: 1111.4187\n",
      "Epoch 39/100\n",
      "7352/7352 [==============================] - 0s 62us/step - loss: 1195.7208 - val_loss: 1149.0561\n",
      "Epoch 40/100\n",
      "7352/7352 [==============================] - 0s 66us/step - loss: 1194.4959 - val_loss: 1111.7555\n",
      "Epoch 41/100\n",
      "7352/7352 [==============================] - 1s 72us/step - loss: 1191.7412 - val_loss: 1119.6721\n",
      "Epoch 42/100\n",
      "7352/7352 [==============================] - 1s 69us/step - loss: 1193.7527 - val_loss: 1118.5943\n",
      "Epoch 43/100\n",
      "7352/7352 [==============================] - 0s 60us/step - loss: 1192.0337 - val_loss: 1117.8996\n",
      "Epoch 44/100\n",
      "7352/7352 [==============================] - 0s 61us/step - loss: 1199.1857 - val_loss: 1162.9565\n",
      "Epoch 45/100\n",
      "7352/7352 [==============================] - 0s 62us/step - loss: 1192.7980 - val_loss: 1153.9941\n",
      "Epoch 46/100\n",
      "7352/7352 [==============================] - 0s 60us/step - loss: 1199.5477 - val_loss: 1113.0023\n",
      "Epoch 47/100\n",
      "7352/7352 [==============================] - 0s 60us/step - loss: 1190.7190 - val_loss: 1115.6973\n",
      "Epoch 48/100\n",
      "7352/7352 [==============================] - 0s 61us/step - loss: 1191.1647 - val_loss: 1105.3215\n",
      "Epoch 49/100\n",
      "7352/7352 [==============================] - 0s 61us/step - loss: 1190.4142 - val_loss: 1108.9576\n",
      "Epoch 50/100\n",
      "7352/7352 [==============================] - 0s 61us/step - loss: 1186.6679 - val_loss: 1102.8735\n",
      "Epoch 51/100\n",
      "7352/7352 [==============================] - 0s 63us/step - loss: 1191.9564 - val_loss: 1113.4663\n",
      "Epoch 52/100\n",
      "7352/7352 [==============================] - 0s 60us/step - loss: 1189.1095 - val_loss: 1114.7905\n",
      "Epoch 53/100\n",
      "7352/7352 [==============================] - 0s 60us/step - loss: 1193.5896 - val_loss: 1123.0728\n",
      "Epoch 54/100\n",
      "7352/7352 [==============================] - 0s 62us/step - loss: 1190.0069 - val_loss: 1122.7618\n",
      "Epoch 55/100\n",
      "7352/7352 [==============================] - 0s 61us/step - loss: 1189.1895 - val_loss: 1106.8928\n",
      "Epoch 56/100\n",
      "7352/7352 [==============================] - 0s 61us/step - loss: 1185.2837 - val_loss: 1127.0727\n",
      "Epoch 57/100\n",
      "7352/7352 [==============================] - 0s 62us/step - loss: 1191.2282 - val_loss: 1105.3252\n",
      "Epoch 58/100\n",
      "7352/7352 [==============================] - 0s 61us/step - loss: 1189.2642 - val_loss: 1107.5540\n",
      "Epoch 59/100\n",
      "7352/7352 [==============================] - 0s 59us/step - loss: 1186.8414 - val_loss: 1119.8265\n",
      "Epoch 60/100\n",
      "7352/7352 [==============================] - 1s 72us/step - loss: 1190.4656 - val_loss: 1137.1217\n",
      "Epoch 61/100\n",
      "7352/7352 [==============================] - 1s 83us/step - loss: 1186.4752 - val_loss: 1129.2704\n",
      "Epoch 62/100\n",
      "7352/7352 [==============================] - 0s 67us/step - loss: 1201.5275 - val_loss: 1104.3488\n",
      "Epoch 63/100\n",
      "7352/7352 [==============================] - 0s 66us/step - loss: 1193.5911 - val_loss: 1115.6040\n",
      "Epoch 64/100\n",
      "7352/7352 [==============================] - 0s 64us/step - loss: 1188.9103 - val_loss: 1116.9164\n",
      "Epoch 65/100\n",
      "7352/7352 [==============================] - 0s 67us/step - loss: 1180.7257 - val_loss: 1190.2137\n",
      "Epoch 66/100\n",
      "7352/7352 [==============================] - 1s 79us/step - loss: 1188.3714 - val_loss: 1111.8341\n",
      "Epoch 67/100\n",
      "7352/7352 [==============================] - 1s 90us/step - loss: 1188.5843 - val_loss: 1189.2447\n",
      "Epoch 68/100\n",
      "7352/7352 [==============================] - 0s 60us/step - loss: 1181.5729 - val_loss: 1122.1470\n",
      "Epoch 69/100\n",
      "7352/7352 [==============================] - 0s 65us/step - loss: 1189.6009 - val_loss: 1137.4511\n",
      "Epoch 70/100\n",
      "7352/7352 [==============================] - 0s 61us/step - loss: 1183.2719 - val_loss: 1105.7128\n",
      "Epoch 71/100\n",
      "7352/7352 [==============================] - 0s 61us/step - loss: 1188.6153 - val_loss: 1106.5935\n",
      "Epoch 72/100\n",
      "7352/7352 [==============================] - 0s 60us/step - loss: 1182.9907 - val_loss: 1101.3953\n",
      "Epoch 73/100\n",
      "7352/7352 [==============================] - 0s 60us/step - loss: 1184.4027 - val_loss: 1122.5957\n",
      "Epoch 74/100\n",
      "7352/7352 [==============================] - 0s 60us/step - loss: 1188.6125 - val_loss: 1121.8494\n",
      "Epoch 75/100\n",
      "7352/7352 [==============================] - 0s 59us/step - loss: 1185.6711 - val_loss: 1110.3430\n",
      "Epoch 76/100\n",
      "7352/7352 [==============================] - 0s 60us/step - loss: 1193.3518 - val_loss: 1103.3233\n",
      "Epoch 77/100\n",
      "7352/7352 [==============================] - 0s 61us/step - loss: 1182.2044 - val_loss: 1106.6229\n",
      "Epoch 78/100\n",
      "7352/7352 [==============================] - 0s 60us/step - loss: 1184.6124 - val_loss: 1107.0537\n",
      "Epoch 79/100\n",
      "7352/7352 [==============================] - 0s 60us/step - loss: 1183.8309 - val_loss: 1130.8699\n",
      "Epoch 80/100\n",
      "7352/7352 [==============================] - 0s 60us/step - loss: 1189.3334 - val_loss: 1112.7956\n",
      "Epoch 81/100\n",
      "7352/7352 [==============================] - 0s 60us/step - loss: 1184.1555 - val_loss: 1140.5091\n",
      "Epoch 82/100\n",
      "7352/7352 [==============================] - 0s 60us/step - loss: 1182.7682 - val_loss: 1099.9990\n",
      "Epoch 83/100\n",
      "7352/7352 [==============================] - 0s 60us/step - loss: 1187.7612 - val_loss: 1166.8851\n",
      "Epoch 84/100\n",
      "7352/7352 [==============================] - 0s 60us/step - loss: 1191.1371 - val_loss: 1115.6963\n",
      "Epoch 85/100\n",
      "7352/7352 [==============================] - 0s 60us/step - loss: 1188.6630 - val_loss: 1104.4912\n",
      "Epoch 86/100\n",
      "7352/7352 [==============================] - 0s 62us/step - loss: 1185.2483 - val_loss: 1119.9077\n",
      "Epoch 87/100\n",
      "7352/7352 [==============================] - 0s 59us/step - loss: 1185.2812 - val_loss: 1113.5640\n",
      "Epoch 88/100\n",
      "7352/7352 [==============================] - 0s 59us/step - loss: 1184.4249 - val_loss: 1117.6746\n",
      "Epoch 89/100\n",
      "7352/7352 [==============================] - 0s 60us/step - loss: 1181.3317 - val_loss: 1101.7618\n",
      "Epoch 90/100\n",
      "7352/7352 [==============================] - 0s 60us/step - loss: 1181.1492 - val_loss: 1100.6871\n",
      "Epoch 91/100\n",
      "7352/7352 [==============================] - 0s 60us/step - loss: 1180.7595 - val_loss: 1140.4679\n",
      "Epoch 92/100\n",
      "7352/7352 [==============================] - 0s 59us/step - loss: 1184.2935 - val_loss: 1107.1021\n",
      "Epoch 93/100\n",
      "7352/7352 [==============================] - 0s 61us/step - loss: 1190.6820 - val_loss: 1130.0277\n",
      "Epoch 94/100\n",
      "7352/7352 [==============================] - 0s 61us/step - loss: 1183.1292 - val_loss: 1104.9535\n",
      "Epoch 95/100\n",
      "7352/7352 [==============================] - 0s 62us/step - loss: 1185.8619 - val_loss: 1104.8319\n",
      "Epoch 96/100\n",
      "7352/7352 [==============================] - 0s 59us/step - loss: 1183.3604 - val_loss: 1109.3939\n",
      "Epoch 97/100\n",
      "7352/7352 [==============================] - 0s 60us/step - loss: 1185.0869 - val_loss: 1116.6174\n",
      "Epoch 98/100\n",
      "7352/7352 [==============================] - 0s 59us/step - loss: 1184.7339 - val_loss: 1127.0587\n",
      "Epoch 99/100\n",
      "7352/7352 [==============================] - 0s 59us/step - loss: 1189.2988 - val_loss: 1110.0242\n",
      "Epoch 100/100\n",
      "7352/7352 [==============================] - 0s 59us/step - loss: 1178.4567 - val_loss: 1107.9092\n"
     ]
    }
   ],
   "source": [
    "baseline = baseline_model()\n",
    "baseline.fit(X_train, y_train, nb_epoch=100, validation_split=0.2, verbose = 1)\n",
    "\n",
    "bl_pred = baseline.predict(X_test)"
   ]
  },
  {
   "cell_type": "code",
   "execution_count": 111,
   "metadata": {},
   "outputs": [
    {
     "name": "stdout",
     "output_type": "stream",
     "text": [
      "Epoch 1/1\n",
      "11028/11028 [==============================] - 1s 92us/step - loss: 87975.5254\n",
      "1226/1226 [==============================] - 0s 316us/step\n",
      "Epoch 1/1\n",
      "11028/11028 [==============================] - 1s 93us/step - loss: 124822.7165\n",
      "1226/1226 [==============================] - 0s 332us/step\n",
      "Epoch 1/1\n",
      "11028/11028 [==============================] - 1s 101us/step - loss: 118303.7080\n",
      "1226/1226 [==============================] - 0s 367us/step\n",
      "Epoch 1/1\n",
      "11028/11028 [==============================] - 1s 111us/step - loss: 106287.3684\n",
      "1226/1226 [==============================] - 1s 428us/step\n",
      "Epoch 1/1\n",
      "11029/11029 [==============================] - 1s 116us/step - loss: 104230.6493\n",
      "1225/1225 [==============================] - 0s 393us/step\n",
      "Epoch 1/1\n",
      "11029/11029 [==============================] - 1s 116us/step - loss: 123278.2361\n",
      "1225/1225 [==============================] - 0s 376us/step\n",
      "Epoch 1/1\n",
      "11029/11029 [==============================] - 1s 110us/step - loss: 102358.8073\n",
      "1225/1225 [==============================] - 0s 381us/step\n",
      "Epoch 1/1\n",
      "11029/11029 [==============================] - 1s 110us/step - loss: 135598.6863\n",
      "1225/1225 [==============================] - 0s 378us/step\n",
      "Epoch 1/1\n",
      "11029/11029 [==============================] - 2s 150us/step - loss: 132279.7766\n",
      "1225/1225 [==============================] - 1s 530us/step\n",
      "Epoch 1/1\n",
      "11029/11029 [==============================] - 1s 115us/step - loss: 152341.6031\n",
      "1225/1225 [==============================] - 0s 397us/step\n"
     ]
    }
   ],
   "source": [
    "#evaluate model\n",
    "kfold = KFold(n_splits=10, random_state=seed)\n",
    "results = cross_val_score(estimator, X, y, cv=kfold)"
   ]
  },
  {
   "cell_type": "code",
   "execution_count": 112,
   "metadata": {},
   "outputs": [],
   "source": [
    "#Baseline performance"
   ]
  },
  {
   "cell_type": "code",
   "execution_count": 113,
   "metadata": {},
   "outputs": [
    {
     "name": "stdout",
     "output_type": "stream",
     "text": [
      "Epoch 1/10\n",
      "11028/11028 [==============================] - 2s 165us/step - loss: 151201.3682\n",
      "Epoch 2/10\n",
      "11028/11028 [==============================] - 0s 29us/step - loss: 150555.2580\n",
      "Epoch 3/10\n",
      "11028/11028 [==============================] - 0s 28us/step - loss: 149123.0288\n",
      "Epoch 4/10\n",
      "11028/11028 [==============================] - 0s 28us/step - loss: 146876.0506\n",
      "Epoch 5/10\n",
      "11028/11028 [==============================] - 0s 28us/step - loss: 143658.0164\n",
      "Epoch 6/10\n",
      "11028/11028 [==============================] - 0s 29us/step - loss: 139678.0149\n",
      "Epoch 7/10\n",
      "11028/11028 [==============================] - 0s 28us/step - loss: 135110.1731\n",
      "Epoch 8/10\n",
      "11028/11028 [==============================] - 0s 30us/step - loss: 130044.3842\n",
      "Epoch 9/10\n",
      "11028/11028 [==============================] - 0s 32us/step - loss: 124609.5506\n",
      "Epoch 10/10\n",
      "11028/11028 [==============================] - 0s 33us/step - loss: 118894.5438\n",
      "1226/1226 [==============================] - 1s 439us/step\n",
      "Epoch 1/10\n",
      "11028/11028 [==============================] - 2s 147us/step - loss: 150729.9262\n",
      "Epoch 2/10\n",
      "11028/11028 [==============================] - 0s 30us/step - loss: 150065.8492\n",
      "Epoch 3/10\n",
      "11028/11028 [==============================] - 0s 29us/step - loss: 148463.4520\n",
      "Epoch 4/10\n",
      "11028/11028 [==============================] - 0s 31us/step - loss: 146013.8334\n",
      "Epoch 5/10\n",
      "11028/11028 [==============================] - 0s 31us/step - loss: 142818.8087\n",
      "Epoch 6/10\n",
      "11028/11028 [==============================] - 0s 30us/step - loss: 138991.3833\n",
      "Epoch 7/10\n",
      "11028/11028 [==============================] - 0s 34us/step - loss: 134622.4386\n",
      "Epoch 8/10\n",
      "11028/11028 [==============================] - 0s 28us/step - loss: 129800.6870\n",
      "Epoch 9/10\n",
      "11028/11028 [==============================] - 0s 30us/step - loss: 124611.7351\n",
      "Epoch 10/10\n",
      "11028/11028 [==============================] - 0s 28us/step - loss: 119152.1097\n",
      "1226/1226 [==============================] - 1s 440us/step\n",
      "Epoch 1/10\n",
      "11028/11028 [==============================] - 1s 130us/step - loss: 148718.1805\n",
      "Epoch 2/10\n",
      "11028/11028 [==============================] - 0s 30us/step - loss: 148027.2712\n",
      "Epoch 3/10\n",
      "11028/11028 [==============================] - 0s 28us/step - loss: 146454.5372\n",
      "Epoch 4/10\n",
      "11028/11028 [==============================] - 0s 31us/step - loss: 144043.1484\n",
      "Epoch 5/10\n",
      "11028/11028 [==============================] - 0s 31us/step - loss: 140904.0101\n",
      "Epoch 6/10\n",
      "11028/11028 [==============================] - 0s 36us/step - loss: 137128.3881 0s - loss: 1\n",
      "Epoch 7/10\n",
      "11028/11028 [==============================] - 0s 32us/step - loss: 132797.3805\n",
      "Epoch 8/10\n",
      "11028/11028 [==============================] - 0s 31us/step - loss: 128014.2724\n",
      "Epoch 9/10\n",
      "11028/11028 [==============================] - 0s 41us/step - loss: 122857.3876\n",
      "Epoch 10/10\n",
      "11028/11028 [==============================] - ETA: 0s - loss: 117507.54 - 0s 42us/step - loss: 117408.0382\n",
      "1226/1226 [==============================] - 1s 480us/step\n",
      "Epoch 1/10\n",
      "11028/11028 [==============================] - 1s 132us/step - loss: 150092.9568\n",
      "Epoch 2/10\n",
      "11028/11028 [==============================] - 0s 28us/step - loss: 149451.0199\n",
      "Epoch 3/10\n",
      "11028/11028 [==============================] - 0s 29us/step - loss: 148039.6387\n",
      "Epoch 4/10\n",
      "11028/11028 [==============================] - 0s 29us/step - loss: 145898.6275\n",
      "Epoch 5/10\n",
      "11028/11028 [==============================] - 0s 30us/step - loss: 143110.6957\n",
      "Epoch 6/10\n",
      "11028/11028 [==============================] - 0s 28us/step - loss: 139748.7679\n",
      "Epoch 7/10\n",
      "11028/11028 [==============================] - 0s 28us/step - loss: 135880.9837\n",
      "Epoch 8/10\n",
      "11028/11028 [==============================] - 0s 29us/step - loss: 131587.6670\n",
      "Epoch 9/10\n",
      "11028/11028 [==============================] - 0s 28us/step - loss: 126933.2598\n",
      "Epoch 10/10\n",
      "11028/11028 [==============================] - 0s 28us/step - loss: 121991.7954\n",
      "1226/1226 [==============================] - 1s 444us/step\n",
      "Epoch 1/10\n",
      "11029/11029 [==============================] - 1s 133us/step - loss: 150110.8206\n",
      "Epoch 2/10\n",
      "11029/11029 [==============================] - 0s 30us/step - loss: 149431.4339\n",
      "Epoch 3/10\n",
      "11029/11029 [==============================] - 0s 28us/step - loss: 147911.4458\n",
      "Epoch 4/10\n",
      "11029/11029 [==============================] - 0s 28us/step - loss: 145577.4407\n",
      "Epoch 5/10\n",
      "11029/11029 [==============================] - 0s 30us/step - loss: 142495.1342\n",
      "Epoch 6/10\n",
      "11029/11029 [==============================] - 0s 29us/step - loss: 138751.0379\n",
      "Epoch 7/10\n",
      "11029/11029 [==============================] - 0s 28us/step - loss: 134419.8492\n",
      "Epoch 8/10\n",
      "11029/11029 [==============================] - 0s 28us/step - loss: 129588.1755\n",
      "Epoch 9/10\n",
      "11029/11029 [==============================] - 0s 30us/step - loss: 124343.9922\n",
      "Epoch 10/10\n",
      "11029/11029 [==============================] - 0s 28us/step - loss: 118763.4273\n",
      "1225/1225 [==============================] - 1s 454us/step\n",
      "Epoch 1/10\n",
      "11029/11029 [==============================] - 2s 178us/step - loss: 149548.7534\n",
      "Epoch 2/10\n",
      "11029/11029 [==============================] - 0s 27us/step - loss: 149024.0399\n",
      "Epoch 3/10\n",
      "11029/11029 [==============================] - 0s 27us/step - loss: 147654.8308\n",
      "Epoch 4/10\n",
      "11029/11029 [==============================] - 0s 30us/step - loss: 145178.5812\n",
      "Epoch 5/10\n",
      "11029/11029 [==============================] - 0s 28us/step - loss: 141809.5539\n",
      "Epoch 6/10\n",
      "11029/11029 [==============================] - 0s 29us/step - loss: 137733.4294\n",
      "Epoch 7/10\n",
      "11029/11029 [==============================] - 0s 27us/step - loss: 133082.2581\n",
      "Epoch 8/10\n",
      "11029/11029 [==============================] - 0s 31us/step - loss: 127957.2161\n",
      "Epoch 9/10\n",
      "11029/11029 [==============================] - 0s 34us/step - loss: 122459.8217\n",
      "Epoch 10/10\n",
      "11029/11029 [==============================] - 0s 33us/step - loss: 116677.0699\n",
      "1225/1225 [==============================] - 1s 482us/step\n",
      "Epoch 1/10\n",
      "11029/11029 [==============================] - 2s 175us/step - loss: 150029.5176\n",
      "Epoch 2/10\n",
      "11029/11029 [==============================] - 0s 33us/step - loss: 149251.7471\n",
      "Epoch 3/10\n",
      "11029/11029 [==============================] - 0s 31us/step - loss: 147512.1896\n",
      "Epoch 4/10\n",
      "11029/11029 [==============================] - 0s 33us/step - loss: 144895.2161\n",
      "Epoch 5/10\n",
      "11029/11029 [==============================] - 0s 30us/step - loss: 141501.9862\n",
      "Epoch 6/10\n",
      "11029/11029 [==============================] - 0s 30us/step - loss: 137432.6221\n",
      "Epoch 7/10\n",
      "11029/11029 [==============================] - 0s 28us/step - loss: 132791.4767\n",
      "Epoch 8/10\n",
      "11029/11029 [==============================] - 0s 29us/step - loss: 127684.1703\n",
      "Epoch 9/10\n",
      "11029/11029 [==============================] - 0s 31us/step - loss: 122205.4359\n",
      "Epoch 10/10\n",
      "11029/11029 [==============================] - 0s 30us/step - loss: 116465.6660\n",
      "1225/1225 [==============================] - 1s 469us/step\n",
      "Epoch 1/10\n",
      "11029/11029 [==============================] - 2s 178us/step - loss: 150470.6708\n",
      "Epoch 2/10\n",
      "11029/11029 [==============================] - 0s 30us/step - loss: 149878.3190\n",
      "Epoch 3/10\n",
      "11029/11029 [==============================] - 0s 31us/step - loss: 148572.5947\n",
      "Epoch 4/10\n",
      "11029/11029 [==============================] - 0s 34us/step - loss: 146550.8331\n",
      "Epoch 5/10\n",
      "11029/11029 [==============================] - 0s 28us/step - loss: 143905.8225\n",
      "Epoch 6/10\n",
      "11029/11029 [==============================] - 0s 31us/step - loss: 140711.5812\n",
      "Epoch 7/10\n",
      "11029/11029 [==============================] - 0s 30us/step - loss: 137034.8817\n",
      "Epoch 8/10\n",
      "11029/11029 [==============================] - 0s 32us/step - loss: 132933.4977\n",
      "Epoch 9/10\n",
      "11029/11029 [==============================] - 0s 31us/step - loss: 128468.3281\n",
      "Epoch 10/10\n",
      "11029/11029 [==============================] - 0s 30us/step - loss: 123705.2994\n",
      "1225/1225 [==============================] - 1s 482us/step\n",
      "Epoch 1/10\n",
      "11029/11029 [==============================] - 2s 139us/step - loss: 151418.7887\n",
      "Epoch 2/10\n",
      "11029/11029 [==============================] - 0s 31us/step - loss: 150905.2192\n",
      "Epoch 3/10\n",
      "11029/11029 [==============================] - 0s 32us/step - loss: 149591.5192\n",
      "Epoch 4/10\n",
      "11029/11029 [==============================] - 0s 34us/step - loss: 147521.0566\n",
      "Epoch 5/10\n",
      "11029/11029 [==============================] - 0s 28us/step - loss: 144799.2460\n",
      "Epoch 6/10\n",
      "11029/11029 [==============================] - 0s 27us/step - loss: 141498.5634\n",
      "Epoch 7/10\n",
      "11029/11029 [==============================] - 0s 28us/step - loss: 137683.1331\n",
      "Epoch 8/10\n",
      "11029/11029 [==============================] - 0s 28us/step - loss: 133423.9411\n",
      "Epoch 9/10\n",
      "11029/11029 [==============================] - 0s 27us/step - loss: 128786.5070\n",
      "Epoch 10/10\n",
      "11029/11029 [==============================] - 0s 27us/step - loss: 123845.3226\n",
      "1225/1225 [==============================] - 1s 470us/step\n",
      "Epoch 1/10\n",
      "11029/11029 [==============================] - 2s 138us/step - loss: 151756.2810\n",
      "Epoch 2/10\n",
      "11029/11029 [==============================] - 0s 29us/step - loss: 151107.7957 0s - loss: 151\n",
      "Epoch 3/10\n",
      "11029/11029 [==============================] - 0s 27us/step - loss: 149819.7742\n",
      "Epoch 4/10\n",
      "11029/11029 [==============================] - 0s 30us/step - loss: 147900.5599\n",
      "Epoch 5/10\n",
      "11029/11029 [==============================] - 0s 27us/step - loss: 145401.1955\n",
      "Epoch 6/10\n",
      "11029/11029 [==============================] - 0s 28us/step - loss: 142382.2077\n",
      "Epoch 7/10\n",
      "11029/11029 [==============================] - 0s 28us/step - loss: 138918.3403\n",
      "Epoch 8/10\n",
      "11029/11029 [==============================] - 0s 27us/step - loss: 135084.1616\n",
      "Epoch 9/10\n",
      "11029/11029 [==============================] - 0s 28us/step - loss: 130950.4213\n",
      "Epoch 10/10\n",
      "11029/11029 [==============================] - 0s 27us/step - loss: 126581.6637\n",
      "1225/1225 [==============================] - 1s 485us/step\n"
     ]
    }
   ],
   "source": [
    "# evaluate model with standardized dataset\n",
    "np.random.seed(seed)\n",
    "estimators = []\n",
    "estimators.append(('standardize', StandardScaler()))\n",
    "estimators.append(('mlp', KerasRegressor(build_fn=baseline_model, epochs=10, batch_size=100, verbose=1)))\n",
    "pipeline = Pipeline(estimators)\n",
    "kfold = KFold(n_splits=10, random_state=seed)\n",
    "results = cross_val_score(pipeline, X, y, cv=kfold)\n",
    "#print(\"Standardized: %.2f (%.2f) MSE\" % (results.mean(), results.std()))"
   ]
  },
  {
   "cell_type": "markdown",
   "metadata": {},
   "source": [
    "<<<<<<<<<<<------------This is clearly not working well... My loss function suggests this may not be the optimal approach."
   ]
  },
  {
   "cell_type": "code",
   "execution_count": 114,
   "metadata": {},
   "outputs": [],
   "source": [
    "def larger_model():\n",
    "    model=Sequential()\n",
    "    model.add(Dense(28, input_dim=18, kernel_initializer='normal', activation='relu'))\n",
    "    model.add(Dense(18, kernel_initializer='normal', activation='relu'))\n",
    "    model.add(Dense(6, kernel_initializer='normal', activation='relu'))\n",
    "    model.add(Dense(1, kernel_initializer='normal'))\n",
    "    # Compile model\n",
    "    model.compile(loss='mean_squared_error', optimizer='adam')\n",
    "    return model"
   ]
  },
  {
   "cell_type": "code",
   "execution_count": 115,
   "metadata": {},
   "outputs": [
    {
     "name": "stderr",
     "output_type": "stream",
     "text": [
      "/opt/conda/lib/python3.6/site-packages/keras/models.py:942: UserWarning: The `nb_epoch` argument in `fit` has been renamed `epochs`.\n",
      "  warnings.warn('The `nb_epoch` argument in `fit` '\n"
     ]
    },
    {
     "name": "stdout",
     "output_type": "stream",
     "text": [
      "Train on 7352 samples, validate on 1838 samples\n",
      "Epoch 1/100\n",
      "7352/7352 [==============================] - 2s 296us/step - loss: 48103.5093 - val_loss: 3422.8953\n",
      "Epoch 2/100\n",
      "7352/7352 [==============================] - 1s 111us/step - loss: 2760.6083 - val_loss: 1983.7438\n",
      "Epoch 3/100\n",
      "7352/7352 [==============================] - 1s 116us/step - loss: 1500.3796 - val_loss: 1194.0898\n",
      "Epoch 4/100\n",
      "7352/7352 [==============================] - 1s 123us/step - loss: 1267.3362 - val_loss: 1137.6323\n",
      "Epoch 5/100\n",
      "7352/7352 [==============================] - 1s 106us/step - loss: 1278.2943 - val_loss: 1143.6567\n",
      "Epoch 6/100\n",
      "7352/7352 [==============================] - 1s 121us/step - loss: 1249.9752 - val_loss: 1153.1107\n",
      "Epoch 7/100\n",
      "7352/7352 [==============================] - 1s 113us/step - loss: 1251.3561 - val_loss: 1140.4330\n",
      "Epoch 8/100\n",
      "7352/7352 [==============================] - 1s 107us/step - loss: 1249.0018 - val_loss: 1156.2928\n",
      "Epoch 9/100\n",
      "7352/7352 [==============================] - 1s 107us/step - loss: 1244.2387 - val_loss: 1116.0208\n",
      "Epoch 10/100\n",
      "7352/7352 [==============================] - 1s 113us/step - loss: 1241.7387 - val_loss: 1144.6253\n",
      "Epoch 11/100\n",
      "7352/7352 [==============================] - 1s 113us/step - loss: 1228.6577 - val_loss: 1229.4378\n",
      "Epoch 12/100\n",
      "7352/7352 [==============================] - 1s 107us/step - loss: 1225.6113 - val_loss: 1113.4470\n",
      "Epoch 13/100\n",
      "7352/7352 [==============================] - 1s 102us/step - loss: 1225.1058 - val_loss: 1113.1807\n",
      "Epoch 14/100\n",
      "7352/7352 [==============================] - 1s 105us/step - loss: 1245.8924 - val_loss: 1119.9038\n",
      "Epoch 15/100\n",
      "7352/7352 [==============================] - 1s 105us/step - loss: 1222.1478 - val_loss: 1105.1552\n",
      "Epoch 16/100\n",
      "7352/7352 [==============================] - 1s 107us/step - loss: 1227.6233 - val_loss: 1207.9866\n",
      "Epoch 17/100\n",
      "7352/7352 [==============================] - 1s 103us/step - loss: 1227.5968 - val_loss: 1127.9609\n",
      "Epoch 18/100\n",
      "7352/7352 [==============================] - 1s 120us/step - loss: 1203.1176 - val_loss: 1100.6388\n",
      "Epoch 19/100\n",
      "7352/7352 [==============================] - 1s 124us/step - loss: 1223.8587 - val_loss: 1115.7618\n",
      "Epoch 20/100\n",
      "7352/7352 [==============================] - 1s 107us/step - loss: 1203.1249 - val_loss: 1178.1959\n",
      "Epoch 21/100\n",
      "7352/7352 [==============================] - 1s 112us/step - loss: 1226.1935 - val_loss: 1108.8455\n",
      "Epoch 22/100\n",
      "7352/7352 [==============================] - 1s 105us/step - loss: 1202.2939 - val_loss: 1110.3074\n",
      "Epoch 23/100\n",
      "7352/7352 [==============================] - 1s 99us/step - loss: 1199.8044 - val_loss: 1127.7763\n",
      "Epoch 24/100\n",
      "7352/7352 [==============================] - 1s 107us/step - loss: 1195.5848 - val_loss: 1096.7138\n",
      "Epoch 25/100\n",
      "7352/7352 [==============================] - 1s 110us/step - loss: 1200.8293 - val_loss: 1292.2399\n",
      "Epoch 26/100\n",
      "7352/7352 [==============================] - 1s 115us/step - loss: 1202.2514 - val_loss: 1143.5234\n",
      "Epoch 27/100\n",
      "7352/7352 [==============================] - 1s 106us/step - loss: 1210.3360 - val_loss: 1097.9977\n",
      "Epoch 28/100\n",
      "7352/7352 [==============================] - 1s 112us/step - loss: 1202.2438 - val_loss: 1104.9953\n",
      "Epoch 29/100\n",
      "7352/7352 [==============================] - 1s 111us/step - loss: 1218.9430 - val_loss: 1154.3453\n",
      "Epoch 30/100\n",
      "7352/7352 [==============================] - 1s 113us/step - loss: 1214.7276 - val_loss: 1099.1713\n",
      "Epoch 31/100\n",
      "7352/7352 [==============================] - 1s 113us/step - loss: 1212.4079 - val_loss: 1101.8225\n",
      "Epoch 32/100\n",
      "7352/7352 [==============================] - 1s 110us/step - loss: 1203.4709 - val_loss: 1115.1319\n",
      "Epoch 33/100\n",
      "7352/7352 [==============================] - 1s 108us/step - loss: 1206.2776 - val_loss: 1177.0644\n",
      "Epoch 34/100\n",
      "7352/7352 [==============================] - 1s 109us/step - loss: 1210.1350 - val_loss: 1119.3832\n",
      "Epoch 35/100\n",
      "7352/7352 [==============================] - 1s 109us/step - loss: 1223.1199 - val_loss: 1090.0937\n",
      "Epoch 36/100\n",
      "7352/7352 [==============================] - 1s 108us/step - loss: 1197.8953 - val_loss: 1098.4205\n",
      "Epoch 37/100\n",
      "7352/7352 [==============================] - 1s 108us/step - loss: 1197.7033 - val_loss: 1105.1829\n",
      "Epoch 38/100\n",
      "7352/7352 [==============================] - 1s 111us/step - loss: 1196.6982 - val_loss: 1092.1402\n",
      "Epoch 39/100\n",
      "7352/7352 [==============================] - 1s 109us/step - loss: 1224.3813 - val_loss: 1172.0156\n",
      "Epoch 40/100\n",
      "7352/7352 [==============================] - 1s 109us/step - loss: 1201.7100 - val_loss: 1090.3532\n",
      "Epoch 41/100\n",
      "7352/7352 [==============================] - 1s 105us/step - loss: 1204.7283 - val_loss: 1198.0996\n",
      "Epoch 42/100\n",
      "7352/7352 [==============================] - 1s 100us/step - loss: 1208.9663 - val_loss: 1296.8632\n",
      "Epoch 43/100\n",
      "7352/7352 [==============================] - 1s 100us/step - loss: 1207.1021 - val_loss: 1234.5720\n",
      "Epoch 44/100\n",
      "7352/7352 [==============================] - 1s 105us/step - loss: 1202.8115 - val_loss: 1106.9620\n",
      "Epoch 45/100\n",
      "7352/7352 [==============================] - 1s 105us/step - loss: 1199.9312 - val_loss: 1087.4222\n",
      "Epoch 46/100\n",
      "7352/7352 [==============================] - 1s 116us/step - loss: 1197.3787 - val_loss: 1096.0758\n",
      "Epoch 47/100\n",
      "7352/7352 [==============================] - 1s 106us/step - loss: 1201.8364 - val_loss: 1112.7621\n",
      "Epoch 48/100\n",
      "7352/7352 [==============================] - 1s 119us/step - loss: 1219.3110 - val_loss: 1121.7701\n",
      "Epoch 49/100\n",
      "7352/7352 [==============================] - 1s 124us/step - loss: 1193.7682 - val_loss: 1091.3127\n",
      "Epoch 50/100\n",
      "7352/7352 [==============================] - 1s 115us/step - loss: 1189.8964 - val_loss: 1103.8553\n",
      "Epoch 51/100\n",
      "7352/7352 [==============================] - 1s 112us/step - loss: 1196.0585 - val_loss: 1094.1708\n",
      "Epoch 52/100\n",
      "7352/7352 [==============================] - 1s 114us/step - loss: 1197.4541 - val_loss: 1110.7300\n",
      "Epoch 53/100\n",
      "7352/7352 [==============================] - 1s 119us/step - loss: 1192.4248 - val_loss: 1090.1811\n",
      "Epoch 54/100\n",
      "7352/7352 [==============================] - 1s 119us/step - loss: 1195.2192 - val_loss: 1093.7175\n",
      "Epoch 55/100\n",
      "7352/7352 [==============================] - 1s 121us/step - loss: 1217.3160 - val_loss: 1096.0495\n",
      "Epoch 56/100\n",
      "7352/7352 [==============================] - 1s 121us/step - loss: 1194.5148 - val_loss: 1246.8544\n",
      "Epoch 57/100\n",
      "7352/7352 [==============================] - 1s 107us/step - loss: 1196.1004 - val_loss: 1096.0049\n",
      "Epoch 58/100\n",
      "7352/7352 [==============================] - 1s 115us/step - loss: 1215.6009 - val_loss: 1099.2009\n",
      "Epoch 59/100\n",
      "7352/7352 [==============================] - 1s 112us/step - loss: 1199.2560 - val_loss: 1129.5189\n",
      "Epoch 60/100\n",
      "7352/7352 [==============================] - 1s 112us/step - loss: 1194.9148 - val_loss: 1107.7801\n",
      "Epoch 61/100\n",
      "7352/7352 [==============================] - 1s 116us/step - loss: 1203.8653 - val_loss: 1132.7639\n",
      "Epoch 62/100\n",
      "7352/7352 [==============================] - 1s 113us/step - loss: 1206.0978 - val_loss: 1146.3859\n",
      "Epoch 63/100\n",
      "7352/7352 [==============================] - 1s 115us/step - loss: 1197.2223 - val_loss: 1105.4019\n",
      "Epoch 64/100\n",
      "7352/7352 [==============================] - 1s 113us/step - loss: 1197.0866 - val_loss: 1209.2049\n",
      "Epoch 65/100\n",
      "7352/7352 [==============================] - 1s 108us/step - loss: 1183.7429 - val_loss: 1088.6934\n",
      "Epoch 66/100\n",
      "7352/7352 [==============================] - 1s 113us/step - loss: 1217.0293 - val_loss: 1317.3874\n",
      "Epoch 67/100\n",
      "7352/7352 [==============================] - 1s 113us/step - loss: 1188.6816 - val_loss: 1087.5413\n",
      "Epoch 68/100\n",
      "7352/7352 [==============================] - 1s 114us/step - loss: 1196.6060 - val_loss: 1107.5234\n",
      "Epoch 69/100\n",
      "7352/7352 [==============================] - 1s 115us/step - loss: 1195.0171 - val_loss: 1100.2682\n",
      "Epoch 70/100\n",
      "7352/7352 [==============================] - 1s 116us/step - loss: 1200.4920 - val_loss: 1141.7193\n",
      "Epoch 71/100\n",
      "7352/7352 [==============================] - 1s 115us/step - loss: 1183.6082 - val_loss: 1095.1665\n",
      "Epoch 72/100\n",
      "7352/7352 [==============================] - 1s 113us/step - loss: 1191.3502 - val_loss: 1099.6950\n",
      "Epoch 73/100\n",
      "7352/7352 [==============================] - 1s 112us/step - loss: 1185.4530 - val_loss: 1086.2553\n"
     ]
    },
    {
     "name": "stdout",
     "output_type": "stream",
     "text": [
      "Epoch 74/100\n",
      "7352/7352 [==============================] - 1s 101us/step - loss: 1186.6695 - val_loss: 1100.5232\n",
      "Epoch 75/100\n",
      "7352/7352 [==============================] - 1s 107us/step - loss: 1199.4765 - val_loss: 1121.2376\n",
      "Epoch 76/100\n",
      "7352/7352 [==============================] - 1s 99us/step - loss: 1204.2134 - val_loss: 1118.8105\n",
      "Epoch 77/100\n",
      "7352/7352 [==============================] - 1s 106us/step - loss: 1190.8199 - val_loss: 1111.4728\n",
      "Epoch 78/100\n",
      "7352/7352 [==============================] - 1s 102us/step - loss: 1196.6973 - val_loss: 1090.3994\n",
      "Epoch 79/100\n",
      "7352/7352 [==============================] - 1s 105us/step - loss: 1193.4605 - val_loss: 1129.9420\n",
      "Epoch 80/100\n",
      "7352/7352 [==============================] - 1s 106us/step - loss: 1201.2333 - val_loss: 1110.4513\n",
      "Epoch 81/100\n",
      "7352/7352 [==============================] - 1s 103us/step - loss: 1186.8667 - val_loss: 1122.5567\n",
      "Epoch 82/100\n",
      "7352/7352 [==============================] - 1s 104us/step - loss: 1194.8851 - val_loss: 1128.6736\n",
      "Epoch 83/100\n",
      "7352/7352 [==============================] - 1s 100us/step - loss: 1196.1888 - val_loss: 1153.1194\n",
      "Epoch 84/100\n",
      "7352/7352 [==============================] - 1s 104us/step - loss: 1189.7807 - val_loss: 1193.8380\n",
      "Epoch 85/100\n",
      "7352/7352 [==============================] - 1s 104us/step - loss: 1196.3432 - val_loss: 1160.2366\n",
      "Epoch 86/100\n",
      "7352/7352 [==============================] - 1s 103us/step - loss: 1186.5499 - val_loss: 1084.1049\n",
      "Epoch 87/100\n",
      "7352/7352 [==============================] - 1s 109us/step - loss: 1205.2444 - val_loss: 1088.0586\n",
      "Epoch 88/100\n",
      "7352/7352 [==============================] - 1s 123us/step - loss: 1205.1648 - val_loss: 1090.0144\n",
      "Epoch 89/100\n",
      "7352/7352 [==============================] - 1s 108us/step - loss: 1191.5831 - val_loss: 1094.8432\n",
      "Epoch 90/100\n",
      "7352/7352 [==============================] - 1s 106us/step - loss: 1188.0184 - val_loss: 1121.3476\n",
      "Epoch 91/100\n",
      "7352/7352 [==============================] - 1s 108us/step - loss: 1183.8108 - val_loss: 1106.2229\n",
      "Epoch 92/100\n",
      "7352/7352 [==============================] - 1s 104us/step - loss: 1208.4329 - val_loss: 1090.0431\n",
      "Epoch 93/100\n",
      "7352/7352 [==============================] - 1s 107us/step - loss: 1186.0773 - val_loss: 1107.1367\n",
      "Epoch 94/100\n",
      "7352/7352 [==============================] - 1s 107us/step - loss: 1206.3619 - val_loss: 1121.6562\n",
      "Epoch 95/100\n",
      "7352/7352 [==============================] - 1s 106us/step - loss: 1190.4862 - val_loss: 1093.3596\n",
      "Epoch 96/100\n",
      "7352/7352 [==============================] - 1s 128us/step - loss: 1196.8461 - val_loss: 1089.5457\n",
      "Epoch 97/100\n",
      "7352/7352 [==============================] - 1s 113us/step - loss: 1195.4211 - val_loss: 1146.5757\n",
      "Epoch 98/100\n",
      "7352/7352 [==============================] - 1s 108us/step - loss: 1185.4568 - val_loss: 1088.6021\n",
      "Epoch 99/100\n",
      "7352/7352 [==============================] - 1s 114us/step - loss: 1192.8128 - val_loss: 1141.2895\n",
      "Epoch 100/100\n",
      "7352/7352 [==============================] - 1s 107us/step - loss: 1206.0632 - val_loss: 1108.7294\n"
     ]
    },
    {
     "data": {
      "text/plain": [
       "<keras.callbacks.History at 0x7f55f7080ef0>"
      ]
     },
     "execution_count": 115,
     "metadata": {},
     "output_type": "execute_result"
    }
   ],
   "source": [
    "lrg_model = larger_model()\n",
    "lrg_model.fit(X_train, y_train,          \n",
    "          nb_epoch=100, validation_split=0.2, verbose = 1)"
   ]
  },
  {
   "cell_type": "code",
   "execution_count": 116,
   "metadata": {},
   "outputs": [],
   "source": [
    "lrg_pred = lrg_model.predict(X_test)"
   ]
  },
  {
   "cell_type": "code",
   "execution_count": 117,
   "metadata": {},
   "outputs": [
    {
     "name": "stdout",
     "output_type": "stream",
     "text": [
      "Larger: -1121.03 (192.87) MSE\n"
     ]
    }
   ],
   "source": [
    "np.random.seed(seed)\n",
    "estimators = []\n",
    "estimators.append(('standardize', StandardScaler()))\n",
    "estimators.append(('mlp', KerasRegressor(build_fn=larger_model, epochs=50, batch_size=100, verbose=0)))\n",
    "pipeline = Pipeline(estimators)\n",
    "kfold = KFold(n_splits=10, random_state=seed)\n",
    "results = cross_val_score(pipeline, X, y, cv=kfold)\n",
    "print(\"Larger: %.2f (%.2f) MSE\" % (results.mean(), results.std()))"
   ]
  },
  {
   "cell_type": "raw",
   "metadata": {},
   "source": [
    "<<<<<<<<<<<------------TRying a different approach----------->>>>>>>>>>>>>>>>>>\n",
    "Saving model for future predictions\n",
    "https://machinelearningmastery.com/make-predictions-long-short-term-memory-models-keras/"
   ]
  },
  {
   "cell_type": "code",
   "execution_count": 118,
   "metadata": {},
   "outputs": [
    {
     "name": "stdout",
     "output_type": "stream",
     "text": [
      "(12254, 18) (3064, 18) (9190, 18)\n"
     ]
    }
   ],
   "source": [
    "print(X.shape, X_test.shape, X_train.shape)"
   ]
  },
  {
   "cell_type": "code",
   "execution_count": 119,
   "metadata": {},
   "outputs": [],
   "source": [
    "sc = StandardScaler()\n",
    "X_train = sc.fit_transform(X_train)\n",
    "X_test = sc.transform(X_test)"
   ]
  },
  {
   "cell_type": "code",
   "execution_count": 120,
   "metadata": {},
   "outputs": [],
   "source": [
    "# define model\n",
    "def new_baseline_model():\n",
    "    # create model\n",
    "    model = Sequential()\n",
    "    model.add(Dense(1, input_dim=18, init='normal', activation='relu'))\n",
    "    model.add(Dense(1, init='normal'))\n",
    "    model.compile(loss='mean_squared_error', optimizer='adam')\n",
    "    return model"
   ]
  },
  {
   "cell_type": "code",
   "execution_count": 121,
   "metadata": {},
   "outputs": [
    {
     "name": "stderr",
     "output_type": "stream",
     "text": [
      "/opt/conda/lib/python3.6/site-packages/ipykernel_launcher.py:5: UserWarning: Update your `Dense` call to the Keras 2 API: `Dense(1, input_dim=18, activation=\"relu\", kernel_initializer=\"normal\")`\n",
      "  \"\"\"\n",
      "/opt/conda/lib/python3.6/site-packages/ipykernel_launcher.py:6: UserWarning: Update your `Dense` call to the Keras 2 API: `Dense(1, kernel_initializer=\"normal\")`\n",
      "  \n",
      "/opt/conda/lib/python3.6/site-packages/keras/models.py:942: UserWarning: The `nb_epoch` argument in `fit` has been renamed `epochs`.\n",
      "  warnings.warn('The `nb_epoch` argument in `fit` '\n"
     ]
    },
    {
     "name": "stdout",
     "output_type": "stream",
     "text": [
      "Train on 7352 samples, validate on 1838 samples\n",
      "Epoch 1/100\n",
      "7352/7352 [==============================] - 3s 343us/step - loss: 150079.8919 - val_loss: 153722.7239\n",
      "Epoch 2/100\n",
      "7352/7352 [==============================] - 1s 106us/step - loss: 149592.3188 - val_loss: 152710.5348\n",
      "Epoch 3/100\n",
      "7352/7352 [==============================] - 1s 105us/step - loss: 148248.6584 - val_loss: 150955.7816\n",
      "Epoch 4/100\n",
      "7352/7352 [==============================] - 1s 105us/step - loss: 146359.7884 - val_loss: 148694.7193\n",
      "Epoch 5/100\n",
      "7352/7352 [==============================] - 1s 100us/step - loss: 144042.5443 - val_loss: 146023.7937\n",
      "Epoch 6/100\n",
      "7352/7352 [==============================] - 1s 106us/step - loss: 141365.6685 - val_loss: 142993.4637\n",
      "Epoch 7/100\n",
      "7352/7352 [==============================] - 1s 100us/step - loss: 138407.3883 - val_loss: 139697.2552\n",
      "Epoch 8/100\n",
      "7352/7352 [==============================] - 1s 107us/step - loss: 135214.4042 - val_loss: 136197.3504\n",
      "Epoch 9/100\n",
      "7352/7352 [==============================] - 1s 107us/step - loss: 131845.4875 - val_loss: 132503.2183\n",
      "Epoch 10/100\n",
      "7352/7352 [==============================] - 1s 106us/step - loss: 128362.1236 - val_loss: 128737.7371\n",
      "Epoch 11/100\n",
      "7352/7352 [==============================] - 1s 105us/step - loss: 124801.0313 - val_loss: 124911.7179\n",
      "Epoch 12/100\n",
      "7352/7352 [==============================] - 1s 100us/step - loss: 121208.3715 - val_loss: 121061.3804\n",
      "Epoch 13/100\n",
      "7352/7352 [==============================] - 1s 108us/step - loss: 117629.6131 - val_loss: 117271.3920\n",
      "Epoch 14/100\n",
      "7352/7352 [==============================] - 1s 105us/step - loss: 114096.7359 - val_loss: 113523.8660\n",
      "Epoch 15/100\n",
      "7352/7352 [==============================] - 1s 105us/step - loss: 110640.2697 - val_loss: 109879.1027\n",
      "Epoch 16/100\n",
      "7352/7352 [==============================] - 1s 104us/step - loss: 107295.1022 - val_loss: 106390.8718\n",
      "Epoch 17/100\n",
      "7352/7352 [==============================] - 1s 107us/step - loss: 104083.6607 - val_loss: 103039.0844\n",
      "Epoch 18/100\n",
      "7352/7352 [==============================] - 1s 104us/step - loss: 101026.7957 - val_loss: 99861.8886\n",
      "Epoch 19/100\n",
      "7352/7352 [==============================] - 1s 105us/step - loss: 98142.9848 - val_loss: 96895.9001\n",
      "Epoch 20/100\n",
      "7352/7352 [==============================] - 1s 107us/step - loss: 95442.5725 - val_loss: 94125.8042\n",
      "Epoch 21/100\n",
      "7352/7352 [==============================] - 1s 105us/step - loss: 92929.7833 - val_loss: 91563.7936\n",
      "Epoch 22/100\n",
      "7352/7352 [==============================] - 1s 102us/step - loss: 90605.8054 - val_loss: 89204.9086\n",
      "Epoch 23/100\n",
      "7352/7352 [==============================] - 1s 105us/step - loss: 88465.7122 - val_loss: 87052.9443\n",
      "Epoch 24/100\n",
      "7352/7352 [==============================] - 1s 106us/step - loss: 86499.6151 - val_loss: 85082.3116\n",
      "Epoch 25/100\n",
      "7352/7352 [==============================] - 1s 116us/step - loss: 84691.3985 - val_loss: 83287.8810\n",
      "Epoch 26/100\n",
      "7352/7352 [==============================] - 1s 125us/step - loss: 83022.1301 - val_loss: 81647.2329\n",
      "Epoch 27/100\n",
      "7352/7352 [==============================] - 1s 113us/step - loss: 81471.2612 - val_loss: 80142.6328\n",
      "Epoch 28/100\n",
      "7352/7352 [==============================] - 1s 109us/step - loss: 80016.5061 - val_loss: 78743.3659\n",
      "Epoch 29/100\n",
      "7352/7352 [==============================] - 1s 111us/step - loss: 78640.8207 - val_loss: 77426.4865\n",
      "Epoch 30/100\n",
      "7352/7352 [==============================] - 1s 106us/step - loss: 77320.6757 - val_loss: 76159.6777\n",
      "Epoch 31/100\n",
      "7352/7352 [==============================] - 1s 105us/step - loss: 76049.7774 - val_loss: 74940.6157\n",
      "Epoch 32/100\n",
      "7352/7352 [==============================] - 1s 102us/step - loss: 74819.9450 - val_loss: 73764.8595\n",
      "Epoch 33/100\n",
      "7352/7352 [==============================] - 1s 104us/step - loss: 73633.2454 - val_loss: 72626.0042\n",
      "Epoch 34/100\n",
      "7352/7352 [==============================] - 1s 101us/step - loss: 72471.2353 - val_loss: 71512.7416\n",
      "Epoch 35/100\n",
      "7352/7352 [==============================] - 1s 106us/step - loss: 71341.5107 - val_loss: 70437.6506\n",
      "Epoch 36/100\n",
      "7352/7352 [==============================] - 1s 101us/step - loss: 70249.4551 - val_loss: 69395.6206\n",
      "Epoch 37/100\n",
      "7352/7352 [==============================] - 1s 100us/step - loss: 69174.5739 - val_loss: 68368.7062\n",
      "Epoch 38/100\n",
      "7352/7352 [==============================] - 1s 102us/step - loss: 68119.1251 - val_loss: 67384.0939\n",
      "Epoch 39/100\n",
      "7352/7352 [==============================] - 1s 101us/step - loss: 67081.9668 - val_loss: 66405.8126\n",
      "Epoch 40/100\n",
      "7352/7352 [==============================] - 1s 101us/step - loss: 66055.7678 - val_loss: 65438.8345\n",
      "Epoch 41/100\n",
      "7352/7352 [==============================] - 1s 101us/step - loss: 65048.1907 - val_loss: 64491.7828\n",
      "Epoch 42/100\n",
      "7352/7352 [==============================] - 1s 102us/step - loss: 64061.7537 - val_loss: 63571.4773\n",
      "Epoch 43/100\n",
      "7352/7352 [==============================] - 1s 104us/step - loss: 63095.9544 - val_loss: 62667.4362\n",
      "Epoch 44/100\n",
      "7352/7352 [==============================] - 1s 104us/step - loss: 62138.8853 - val_loss: 61789.9686\n",
      "Epoch 45/100\n",
      "7352/7352 [==============================] - 1s 106us/step - loss: 61198.4781 - val_loss: 60919.8549\n",
      "Epoch 46/100\n",
      "7352/7352 [==============================] - 1s 106us/step - loss: 60278.6714 - val_loss: 60076.2079\n",
      "Epoch 47/100\n",
      "7352/7352 [==============================] - 1s 105us/step - loss: 59380.6980 - val_loss: 59254.6833\n",
      "Epoch 48/100\n",
      "7352/7352 [==============================] - 1s 105us/step - loss: 58490.7553 - val_loss: 58450.0908\n",
      "Epoch 49/100\n",
      "7352/7352 [==============================] - 1s 105us/step - loss: 57605.6813 - val_loss: 57646.2691\n",
      "Epoch 50/100\n",
      "7352/7352 [==============================] - 1s 109us/step - loss: 56735.5724 - val_loss: 56869.0516\n",
      "Epoch 51/100\n",
      "7352/7352 [==============================] - 1s 102us/step - loss: 55890.0482 - val_loss: 56101.1478\n",
      "Epoch 52/100\n",
      "7352/7352 [==============================] - 1s 101us/step - loss: 55052.6337 - val_loss: 55357.5033\n",
      "Epoch 53/100\n",
      "7352/7352 [==============================] - 1s 105us/step - loss: 54238.3596 - val_loss: 54625.9091\n",
      "Epoch 54/100\n",
      "7352/7352 [==============================] - 1s 107us/step - loss: 53433.8452 - val_loss: 53904.8419\n",
      "Epoch 55/100\n",
      "7352/7352 [==============================] - 1s 105us/step - loss: 52636.9899 - val_loss: 53195.9847\n",
      "Epoch 56/100\n",
      "7352/7352 [==============================] - 1s 106us/step - loss: 51853.6472 - val_loss: 52498.7387\n",
      "Epoch 57/100\n",
      "7352/7352 [==============================] - 1s 108us/step - loss: 51080.4820 - val_loss: 51794.5939\n",
      "Epoch 58/100\n",
      "7352/7352 [==============================] - 1s 105us/step - loss: 50303.6280 - val_loss: 51074.5342\n",
      "Epoch 59/100\n",
      "7352/7352 [==============================] - 1s 102us/step - loss: 49513.5221 - val_loss: 50334.5273\n",
      "Epoch 60/100\n",
      "7352/7352 [==============================] - 1s 107us/step - loss: 48691.4115 - val_loss: 49551.3423\n",
      "Epoch 61/100\n",
      "7352/7352 [==============================] - 1s 106us/step - loss: 47831.2224 - val_loss: 48725.4036\n",
      "Epoch 62/100\n",
      "7352/7352 [==============================] - 1s 107us/step - loss: 46926.4690 - val_loss: 47845.2143\n",
      "Epoch 63/100\n",
      "7352/7352 [==============================] - 1s 107us/step - loss: 45983.3095 - val_loss: 46904.3811\n",
      "Epoch 64/100\n",
      "7352/7352 [==============================] - 1s 106us/step - loss: 44975.6145 - val_loss: 45874.7489\n",
      "Epoch 65/100\n",
      "7352/7352 [==============================] - 1s 108us/step - loss: 43895.2111 - val_loss: 44792.8043\n",
      "Epoch 66/100\n",
      "7352/7352 [==============================] - 1s 105us/step - loss: 42772.4092 - val_loss: 43641.5463\n",
      "Epoch 67/100\n",
      "7352/7352 [==============================] - 1s 109us/step - loss: 41568.3724 - val_loss: 42403.4947\n",
      "Epoch 68/100\n",
      "7352/7352 [==============================] - 1s 104us/step - loss: 40273.1451 - val_loss: 41140.0221\n",
      "Epoch 69/100\n",
      "7352/7352 [==============================] - 1s 109us/step - loss: 38903.3086 - val_loss: 39790.0123\n",
      "Epoch 70/100\n",
      "7352/7352 [==============================] - 1s 111us/step - loss: 37490.5417 - val_loss: 38396.6554\n",
      "Epoch 71/100\n",
      "7352/7352 [==============================] - 1s 107us/step - loss: 36057.7865 - val_loss: 36956.7111\n",
      "Epoch 72/100\n",
      "7352/7352 [==============================] - 1s 100us/step - loss: 34615.4689 - val_loss: 35511.9925\n",
      "Epoch 73/100\n",
      "7352/7352 [==============================] - 1s 100us/step - loss: 33193.5252 - val_loss: 34078.8747\n",
      "Epoch 74/100\n",
      "7352/7352 [==============================] - 1s 101us/step - loss: 31809.2823 - val_loss: 32659.9132\n",
      "Epoch 75/100\n",
      "7352/7352 [==============================] - 1s 101us/step - loss: 30431.0809 - val_loss: 31277.6485\n",
      "Epoch 76/100\n",
      "7352/7352 [==============================] - 1s 100us/step - loss: 29079.7071 - val_loss: 29920.6027\n",
      "Epoch 77/100\n",
      "7352/7352 [==============================] - 1s 100us/step - loss: 27752.1258 - val_loss: 28582.4549\n",
      "Epoch 78/100\n",
      "7352/7352 [==============================] - 1s 100us/step - loss: 26459.1893 - val_loss: 27284.2766\n",
      "Epoch 79/100\n",
      "7352/7352 [==============================] - 1s 103us/step - loss: 25206.3235 - val_loss: 26032.8439\n",
      "Epoch 80/100\n",
      "7352/7352 [==============================] - 1s 106us/step - loss: 24010.5957 - val_loss: 24828.6368\n",
      "Epoch 81/100\n",
      "7352/7352 [==============================] - 1s 100us/step - loss: 22879.5470 - val_loss: 23680.0143\n",
      "Epoch 82/100\n",
      "7352/7352 [==============================] - 1s 100us/step - loss: 21800.5528 - val_loss: 22576.9300\n",
      "Epoch 83/100\n",
      "7352/7352 [==============================] - 1s 104us/step - loss: 20776.2160 - val_loss: 21523.6792\n",
      "Epoch 84/100\n",
      "7352/7352 [==============================] - 1s 100us/step - loss: 19805.5387 - val_loss: 20516.6465\n",
      "Epoch 85/100\n",
      "7352/7352 [==============================] - 1s 101us/step - loss: 18892.1017 - val_loss: 19569.8903\n",
      "Epoch 86/100\n",
      "7352/7352 [==============================] - 1s 106us/step - loss: 18021.9011 - val_loss: 18664.3419\n",
      "Epoch 87/100\n",
      "7352/7352 [==============================] - 1s 105us/step - loss: 17184.3865 - val_loss: 17781.8164\n",
      "Epoch 88/100\n",
      "7352/7352 [==============================] - 1s 105us/step - loss: 16352.4797 - val_loss: 16841.2086\n",
      "Epoch 89/100\n",
      "7352/7352 [==============================] - 1s 104us/step - loss: 15465.6444 - val_loss: 15800.4330\n",
      "Epoch 90/100\n",
      "7352/7352 [==============================] - 1s 100us/step - loss: 14368.7442 - val_loss: 14355.1401\n",
      "Epoch 91/100\n",
      "7352/7352 [==============================] - 1s 98us/step - loss: 12934.0186 - val_loss: 12605.7564\n",
      "Epoch 92/100\n",
      "7352/7352 [==============================] - 1s 101us/step - loss: 11349.0097 - val_loss: 10799.7533\n",
      "Epoch 93/100\n",
      "7352/7352 [==============================] - 1s 103us/step - loss: 9706.3763 - val_loss: 9018.5073\n",
      "Epoch 94/100\n",
      "7352/7352 [==============================] - 1s 105us/step - loss: 8103.7076 - val_loss: 7411.6355\n",
      "Epoch 95/100\n",
      "7352/7352 [==============================] - 1s 101us/step - loss: 6643.0977 - val_loss: 6046.0829\n",
      "Epoch 96/100\n",
      "7352/7352 [==============================] - 1s 105us/step - loss: 5432.0406 - val_loss: 4951.3130\n",
      "Epoch 97/100\n",
      "7352/7352 [==============================] - 1s 105us/step - loss: 4485.0269 - val_loss: 4104.3767\n",
      "Epoch 98/100\n",
      "7352/7352 [==============================] - 1s 100us/step - loss: 3746.6610 - val_loss: 3440.4865\n",
      "Epoch 99/100\n",
      "7352/7352 [==============================] - 1s 101us/step - loss: 3175.1896 - val_loss: 2922.5781\n",
      "Epoch 100/100\n",
      "7352/7352 [==============================] - 1s 100us/step - loss: 2731.5276 - val_loss: 2520.4381\n"
     ]
    },
    {
     "data": {
      "text/plain": [
       "<keras.callbacks.History at 0x7f55f4143c50>"
      ]
     },
     "execution_count": 121,
     "metadata": {},
     "output_type": "execute_result"
    }
   ],
   "source": [
    "regr = new_baseline_model()\n",
    "regr.fit(X_train, y_train,          \n",
    "          nb_epoch=100, validation_split=0.2, verbose = 1) #batch_size=5,"
   ]
  },
  {
   "cell_type": "code",
   "execution_count": 122,
   "metadata": {},
   "outputs": [],
   "source": [
    "regr_pred = regr.predict(X_test)"
   ]
  },
  {
   "cell_type": "code",
   "execution_count": 123,
   "metadata": {},
   "outputs": [
    {
     "data": {
      "text/plain": [
       "array([ 376.17409943,  510.66583321,  409.43234399, ...,  389.0203482 ,\n",
       "        352.9378867 ,  315.43237237])"
      ]
     },
     "execution_count": 123,
     "metadata": {},
     "output_type": "execute_result"
    }
   ],
   "source": [
    "knn_pred"
   ]
  },
  {
   "cell_type": "code",
   "execution_count": 124,
   "metadata": {},
   "outputs": [
    {
     "data": {
      "text/plain": [
       "array([ 374.23795658,  503.20717228,  418.65631157, ...,  421.50902717,\n",
       "        363.24304435,  330.32872465])"
      ]
     },
     "execution_count": 124,
     "metadata": {},
     "output_type": "execute_result"
    }
   ],
   "source": [
    "lr_test_pred"
   ]
  },
  {
   "cell_type": "code",
   "execution_count": 125,
   "metadata": {},
   "outputs": [],
   "source": [
    "predictions= pd.DataFrame(y_test)"
   ]
  },
  {
   "cell_type": "code",
   "execution_count": 126,
   "metadata": {},
   "outputs": [
    {
     "data": {
      "text/html": [
       "<div>\n",
       "<table border=\"1\" class=\"dataframe\">\n",
       "  <thead>\n",
       "    <tr style=\"text-align: right;\">\n",
       "      <th></th>\n",
       "      <th>First_Wilks</th>\n",
       "    </tr>\n",
       "  </thead>\n",
       "  <tbody>\n",
       "    <tr>\n",
       "      <th>3845</th>\n",
       "      <td>385.29</td>\n",
       "    </tr>\n",
       "    <tr>\n",
       "      <th>11881</th>\n",
       "      <td>510.96</td>\n",
       "    </tr>\n",
       "    <tr>\n",
       "      <th>5857</th>\n",
       "      <td>410.09</td>\n",
       "    </tr>\n",
       "    <tr>\n",
       "      <th>2118</th>\n",
       "      <td>390.12</td>\n",
       "    </tr>\n",
       "    <tr>\n",
       "      <th>5463</th>\n",
       "      <td>443.35</td>\n",
       "    </tr>\n",
       "  </tbody>\n",
       "</table>\n",
       "</div>"
      ],
      "text/plain": [
       "       First_Wilks\n",
       "3845        385.29\n",
       "11881       510.96\n",
       "5857        410.09\n",
       "2118        390.12\n",
       "5463        443.35"
      ]
     },
     "execution_count": 126,
     "metadata": {},
     "output_type": "execute_result"
    }
   ],
   "source": [
    "#y_test\n",
    "predictions.head()"
   ]
  },
  {
   "cell_type": "code",
   "execution_count": 127,
   "metadata": {},
   "outputs": [],
   "source": [
    "predictions['lin_reg']=lr_test_pred\n",
    "predictions['knn']= knn_pred\n",
    "predictions['new_baseline']=regr_pred\n",
    "predictions['Larger_model']= lrg_pred\n",
    "predictions['Baseline_model']= bl_pred"
   ]
  },
  {
   "cell_type": "code",
   "execution_count": 128,
   "metadata": {},
   "outputs": [
    {
     "data": {
      "text/html": [
       "<div>\n",
       "<table border=\"1\" class=\"dataframe\">\n",
       "  <thead>\n",
       "    <tr style=\"text-align: right;\">\n",
       "      <th></th>\n",
       "      <th>First_Wilks</th>\n",
       "      <th>lin_reg</th>\n",
       "      <th>knn</th>\n",
       "      <th>new_baseline</th>\n",
       "      <th>Larger_model</th>\n",
       "      <th>Baseline_model</th>\n",
       "    </tr>\n",
       "  </thead>\n",
       "  <tbody>\n",
       "    <tr>\n",
       "      <th>3845</th>\n",
       "      <td>385.29</td>\n",
       "      <td>374.237957</td>\n",
       "      <td>376.174099</td>\n",
       "      <td>389.727478</td>\n",
       "      <td>382.647858</td>\n",
       "      <td>379.452515</td>\n",
       "    </tr>\n",
       "    <tr>\n",
       "      <th>11881</th>\n",
       "      <td>510.96</td>\n",
       "      <td>503.207172</td>\n",
       "      <td>510.665833</td>\n",
       "      <td>490.204376</td>\n",
       "      <td>522.751343</td>\n",
       "      <td>503.464386</td>\n",
       "    </tr>\n",
       "    <tr>\n",
       "      <th>5857</th>\n",
       "      <td>410.09</td>\n",
       "      <td>418.656312</td>\n",
       "      <td>409.432344</td>\n",
       "      <td>376.656372</td>\n",
       "      <td>423.293976</td>\n",
       "      <td>419.256073</td>\n",
       "    </tr>\n",
       "    <tr>\n",
       "      <th>2118</th>\n",
       "      <td>390.12</td>\n",
       "      <td>398.942434</td>\n",
       "      <td>387.215655</td>\n",
       "      <td>419.145203</td>\n",
       "      <td>403.368774</td>\n",
       "      <td>401.377838</td>\n",
       "    </tr>\n",
       "    <tr>\n",
       "      <th>5463</th>\n",
       "      <td>443.35</td>\n",
       "      <td>429.051710</td>\n",
       "      <td>420.622142</td>\n",
       "      <td>338.617645</td>\n",
       "      <td>433.575378</td>\n",
       "      <td>428.113800</td>\n",
       "    </tr>\n",
       "  </tbody>\n",
       "</table>\n",
       "</div>"
      ],
      "text/plain": [
       "       First_Wilks     lin_reg         knn  new_baseline  Larger_model  \\\n",
       "3845        385.29  374.237957  376.174099    389.727478    382.647858   \n",
       "11881       510.96  503.207172  510.665833    490.204376    522.751343   \n",
       "5857        410.09  418.656312  409.432344    376.656372    423.293976   \n",
       "2118        390.12  398.942434  387.215655    419.145203    403.368774   \n",
       "5463        443.35  429.051710  420.622142    338.617645    433.575378   \n",
       "\n",
       "       Baseline_model  \n",
       "3845       379.452515  \n",
       "11881      503.464386  \n",
       "5857       419.256073  \n",
       "2118       401.377838  \n",
       "5463       428.113800  "
      ]
     },
     "execution_count": 128,
     "metadata": {},
     "output_type": "execute_result"
    }
   ],
   "source": [
    "predictions.head()"
   ]
  },
  {
   "cell_type": "code",
   "execution_count": 129,
   "metadata": {},
   "outputs": [],
   "source": [
    "import seaborn as sns\n",
    "from pylab import *"
   ]
  },
  {
   "cell_type": "code",
   "execution_count": 130,
   "metadata": {},
   "outputs": [
    {
     "data": {
      "text/html": [
       "<div>\n",
       "<table border=\"1\" class=\"dataframe\">\n",
       "  <thead>\n",
       "    <tr style=\"text-align: right;\">\n",
       "      <th></th>\n",
       "      <th>First_Wilks</th>\n",
       "      <th>lin_reg</th>\n",
       "      <th>knn</th>\n",
       "      <th>new_baseline</th>\n",
       "      <th>Larger_model</th>\n",
       "      <th>Baseline_model</th>\n",
       "    </tr>\n",
       "  </thead>\n",
       "  <tbody>\n",
       "    <tr>\n",
       "      <th>3845</th>\n",
       "      <td>385.29</td>\n",
       "      <td>374.237957</td>\n",
       "      <td>376.174099</td>\n",
       "      <td>389.727478</td>\n",
       "      <td>382.647858</td>\n",
       "      <td>379.452515</td>\n",
       "    </tr>\n",
       "    <tr>\n",
       "      <th>11881</th>\n",
       "      <td>510.96</td>\n",
       "      <td>503.207172</td>\n",
       "      <td>510.665833</td>\n",
       "      <td>490.204376</td>\n",
       "      <td>522.751343</td>\n",
       "      <td>503.464386</td>\n",
       "    </tr>\n",
       "    <tr>\n",
       "      <th>5857</th>\n",
       "      <td>410.09</td>\n",
       "      <td>418.656312</td>\n",
       "      <td>409.432344</td>\n",
       "      <td>376.656372</td>\n",
       "      <td>423.293976</td>\n",
       "      <td>419.256073</td>\n",
       "    </tr>\n",
       "    <tr>\n",
       "      <th>2118</th>\n",
       "      <td>390.12</td>\n",
       "      <td>398.942434</td>\n",
       "      <td>387.215655</td>\n",
       "      <td>419.145203</td>\n",
       "      <td>403.368774</td>\n",
       "      <td>401.377838</td>\n",
       "    </tr>\n",
       "    <tr>\n",
       "      <th>5463</th>\n",
       "      <td>443.35</td>\n",
       "      <td>429.051710</td>\n",
       "      <td>420.622142</td>\n",
       "      <td>338.617645</td>\n",
       "      <td>433.575378</td>\n",
       "      <td>428.113800</td>\n",
       "    </tr>\n",
       "  </tbody>\n",
       "</table>\n",
       "</div>"
      ],
      "text/plain": [
       "       First_Wilks     lin_reg         knn  new_baseline  Larger_model  \\\n",
       "3845        385.29  374.237957  376.174099    389.727478    382.647858   \n",
       "11881       510.96  503.207172  510.665833    490.204376    522.751343   \n",
       "5857        410.09  418.656312  409.432344    376.656372    423.293976   \n",
       "2118        390.12  398.942434  387.215655    419.145203    403.368774   \n",
       "5463        443.35  429.051710  420.622142    338.617645    433.575378   \n",
       "\n",
       "       Baseline_model  \n",
       "3845       379.452515  \n",
       "11881      503.464386  \n",
       "5857       419.256073  \n",
       "2118       401.377838  \n",
       "5463       428.113800  "
      ]
     },
     "execution_count": 130,
     "metadata": {},
     "output_type": "execute_result"
    }
   ],
   "source": [
    "predictions.head()"
   ]
  },
  {
   "cell_type": "code",
   "execution_count": 131,
   "metadata": {},
   "outputs": [],
   "source": [
    "sorted_pred = predictions.sort_index(axis=0)"
   ]
  },
  {
   "cell_type": "code",
   "execution_count": 132,
   "metadata": {},
   "outputs": [
    {
     "data": {
      "text/plain": [
       "[<matplotlib.lines.Line2D at 0x7f55f3e88438>]"
      ]
     },
     "execution_count": 132,
     "metadata": {},
     "output_type": "execute_result"
    },
    {
     "data": {
      "image/png": "[encoded data removed]",
      "text/plain": [
       "<matplotlib.figure.Figure at 0x7f55f3ea34a8>"
      ]
     },
     "metadata": {},
     "output_type": "display_data"
    }
   ],
   "source": [
    "plt.plot(sorted_pred['First_Wilks'])"
   ]
  },
  {
   "cell_type": "code",
   "execution_count": 133,
   "metadata": {},
   "outputs": [
    {
     "data": {
      "text/plain": [
       "<matplotlib.axes._subplots.AxesSubplot at 0x7f55f3e2aa90>"
      ]
     },
     "execution_count": 133,
     "metadata": {},
     "output_type": "execute_result"
    },
    {
     "data": {
      "image/png": "[encoded data removed]",
      "text/plain": [
       "<matplotlib.figure.Figure at 0x7f55f3e3cdd8>"
      ]
     },
     "metadata": {},
     "output_type": "display_data"
    }
   ],
   "source": [
    "sorted_pred.plot()"
   ]
  },
  {
   "cell_type": "code",
   "execution_count": 134,
   "metadata": {},
   "outputs": [],
   "source": [
    "trad_methods = sorted_pred[['First_Wilks', 'lin_reg', 'knn']]\n",
    "ML_methods = sorted_pred[['First_Wilks', 'new_baseline', 'Larger_model', 'Baseline_model']]"
   ]
  },
  {
   "cell_type": "code",
   "execution_count": 135,
   "metadata": {},
   "outputs": [
    {
     "data": {
      "text/plain": [
       "<matplotlib.axes._subplots.AxesSubplot at 0x7f55f3d21518>"
      ]
     },
     "execution_count": 135,
     "metadata": {},
     "output_type": "execute_result"
    },
    {
     "data": {
      "image/png": "[encoded data removed]",
      "text/plain": [
       "<matplotlib.figure.Figure at 0x7f55f3df0f60>"
      ]
     },
     "metadata": {},
     "output_type": "display_data"
    }
   ],
   "source": [
    "trad_methods.plot()"
   ]
  },
  {
   "cell_type": "code",
   "execution_count": 136,
   "metadata": {},
   "outputs": [
    {
     "data": {
      "text/plain": [
       "<matplotlib.axes._subplots.AxesSubplot at 0x7f55f3d827b8>"
      ]
     },
     "execution_count": 136,
     "metadata": {},
     "output_type": "execute_result"
    },
    {
     "data": {
      "image/png": "[encoded data removed]",
      "text/plain": [
       "<matplotlib.figure.Figure at 0x7f55fbd4ac88>"
      ]
     },
     "metadata": {},
     "output_type": "display_data"
    }
   ],
   "source": [
    "ML_methods.plot()"
   ]
  },
  {
   "cell_type": "code",
   "execution_count": 137,
   "metadata": {},
   "outputs": [],
   "source": [
    "ML_error = pd.DataFrame()\n",
    "trad_error = pd.DataFrame()"
   ]
  },
  {
   "cell_type": "code",
   "execution_count": 138,
   "metadata": {},
   "outputs": [],
   "source": [
    "ML_error['new_baseline'] = ML_methods['new_baseline']-ML_methods['First_Wilks']\n",
    "ML_error['Larger_model'] = ML_methods['Larger_model']-ML_methods['First_Wilks']\n",
    "ML_error['Baseline_model'] = ML_methods['Baseline_model']-ML_methods['First_Wilks']\n",
    "\n",
    "trad_error['lin_reg'] = trad_methods['lin_reg'] - trad_methods['First_Wilks']\n",
    "trad_error['knn'] = trad_methods['knn'] - trad_methods['First_Wilks']"
   ]
  },
  {
   "cell_type": "code",
   "execution_count": 139,
   "metadata": {},
   "outputs": [
    {
     "data": {
      "text/html": [
       "<div>\n",
       "<table border=\"1\" class=\"dataframe\">\n",
       "  <thead>\n",
       "    <tr style=\"text-align: right;\">\n",
       "      <th></th>\n",
       "      <th>First_Wilks</th>\n",
       "      <th>new_baseline</th>\n",
       "      <th>Larger_model</th>\n",
       "      <th>Baseline_model</th>\n",
       "    </tr>\n",
       "  </thead>\n",
       "  <tbody>\n",
       "    <tr>\n",
       "      <th>2</th>\n",
       "      <td>334.84</td>\n",
       "      <td>279.559204</td>\n",
       "      <td>362.143951</td>\n",
       "      <td>343.400696</td>\n",
       "    </tr>\n",
       "    <tr>\n",
       "      <th>4</th>\n",
       "      <td>380.49</td>\n",
       "      <td>370.311005</td>\n",
       "      <td>351.511993</td>\n",
       "      <td>347.719971</td>\n",
       "    </tr>\n",
       "    <tr>\n",
       "      <th>6</th>\n",
       "      <td>369.26</td>\n",
       "      <td>394.590210</td>\n",
       "      <td>380.735413</td>\n",
       "      <td>373.819336</td>\n",
       "    </tr>\n",
       "    <tr>\n",
       "      <th>10</th>\n",
       "      <td>302.55</td>\n",
       "      <td>316.827789</td>\n",
       "      <td>318.889038</td>\n",
       "      <td>306.096466</td>\n",
       "    </tr>\n",
       "    <tr>\n",
       "      <th>13</th>\n",
       "      <td>317.17</td>\n",
       "      <td>336.219727</td>\n",
       "      <td>343.145996</td>\n",
       "      <td>343.293976</td>\n",
       "    </tr>\n",
       "  </tbody>\n",
       "</table>\n",
       "</div>"
      ],
      "text/plain": [
       "    First_Wilks  new_baseline  Larger_model  Baseline_model\n",
       "2        334.84    279.559204    362.143951      343.400696\n",
       "4        380.49    370.311005    351.511993      347.719971\n",
       "6        369.26    394.590210    380.735413      373.819336\n",
       "10       302.55    316.827789    318.889038      306.096466\n",
       "13       317.17    336.219727    343.145996      343.293976"
      ]
     },
     "execution_count": 139,
     "metadata": {},
     "output_type": "execute_result"
    }
   ],
   "source": [
    "ML_methods.head()"
   ]
  },
  {
   "cell_type": "code",
   "execution_count": 140,
   "metadata": {},
   "outputs": [
    {
     "data": {
      "text/html": [
       "<div>\n",
       "<table border=\"1\" class=\"dataframe\">\n",
       "  <thead>\n",
       "    <tr style=\"text-align: right;\">\n",
       "      <th></th>\n",
       "      <th>new_baseline</th>\n",
       "      <th>Larger_model</th>\n",
       "      <th>Baseline_model</th>\n",
       "    </tr>\n",
       "  </thead>\n",
       "  <tbody>\n",
       "    <tr>\n",
       "      <th>2</th>\n",
       "      <td>-55.280796</td>\n",
       "      <td>27.303951</td>\n",
       "      <td>8.560696</td>\n",
       "    </tr>\n",
       "    <tr>\n",
       "      <th>4</th>\n",
       "      <td>-10.178995</td>\n",
       "      <td>-28.978007</td>\n",
       "      <td>-32.770029</td>\n",
       "    </tr>\n",
       "    <tr>\n",
       "      <th>6</th>\n",
       "      <td>25.330210</td>\n",
       "      <td>11.475413</td>\n",
       "      <td>4.559336</td>\n",
       "    </tr>\n",
       "    <tr>\n",
       "      <th>10</th>\n",
       "      <td>14.277789</td>\n",
       "      <td>16.339038</td>\n",
       "      <td>3.546466</td>\n",
       "    </tr>\n",
       "    <tr>\n",
       "      <th>13</th>\n",
       "      <td>19.049727</td>\n",
       "      <td>25.975996</td>\n",
       "      <td>26.123976</td>\n",
       "    </tr>\n",
       "  </tbody>\n",
       "</table>\n",
       "</div>"
      ],
      "text/plain": [
       "    new_baseline  Larger_model  Baseline_model\n",
       "2     -55.280796     27.303951        8.560696\n",
       "4     -10.178995    -28.978007      -32.770029\n",
       "6      25.330210     11.475413        4.559336\n",
       "10     14.277789     16.339038        3.546466\n",
       "13     19.049727     25.975996       26.123976"
      ]
     },
     "execution_count": 140,
     "metadata": {},
     "output_type": "execute_result"
    }
   ],
   "source": [
    "ML_error.head()"
   ]
  },
  {
   "cell_type": "code",
   "execution_count": 141,
   "metadata": {},
   "outputs": [
    {
     "data": {
      "text/plain": [
       "<matplotlib.axes._subplots.AxesSubplot at 0x7f55f3bbfeb8>"
      ]
     },
     "execution_count": 141,
     "metadata": {},
     "output_type": "execute_result"
    },
    {
     "data": {
      "image/png": "[encoded data removed]",
      "text/plain": [
       "<matplotlib.figure.Figure at 0x7f55f3c36048>"
      ]
     },
     "metadata": {},
     "output_type": "display_data"
    }
   ],
   "source": [
    "ML_error.plot()"
   ]
  },
  {
   "cell_type": "code",
   "execution_count": 142,
   "metadata": {},
   "outputs": [
    {
     "data": {
      "text/html": [
       "<div>\n",
       "<table border=\"1\" class=\"dataframe\">\n",
       "  <thead>\n",
       "    <tr style=\"text-align: right;\">\n",
       "      <th></th>\n",
       "      <th>lin_reg</th>\n",
       "      <th>knn</th>\n",
       "    </tr>\n",
       "  </thead>\n",
       "  <tbody>\n",
       "    <tr>\n",
       "      <th>2</th>\n",
       "      <td>21.434742</td>\n",
       "      <td>14.122639</td>\n",
       "    </tr>\n",
       "    <tr>\n",
       "      <th>4</th>\n",
       "      <td>-31.397442</td>\n",
       "      <td>-32.395128</td>\n",
       "    </tr>\n",
       "    <tr>\n",
       "      <th>6</th>\n",
       "      <td>9.032184</td>\n",
       "      <td>0.297671</td>\n",
       "    </tr>\n",
       "    <tr>\n",
       "      <th>10</th>\n",
       "      <td>15.092840</td>\n",
       "      <td>31.536390</td>\n",
       "    </tr>\n",
       "    <tr>\n",
       "      <th>13</th>\n",
       "      <td>24.670749</td>\n",
       "      <td>21.971096</td>\n",
       "    </tr>\n",
       "  </tbody>\n",
       "</table>\n",
       "</div>"
      ],
      "text/plain": [
       "      lin_reg        knn\n",
       "2   21.434742  14.122639\n",
       "4  -31.397442 -32.395128\n",
       "6    9.032184   0.297671\n",
       "10  15.092840  31.536390\n",
       "13  24.670749  21.971096"
      ]
     },
     "execution_count": 142,
     "metadata": {},
     "output_type": "execute_result"
    }
   ],
   "source": [
    "trad_error.head()"
   ]
  },
  {
   "cell_type": "code",
   "execution_count": 143,
   "metadata": {},
   "outputs": [
    {
     "data": {
      "text/plain": [
       "<matplotlib.axes._subplots.AxesSubplot at 0x7f55f3b9aa90>"
      ]
     },
     "execution_count": 143,
     "metadata": {},
     "output_type": "execute_result"
    },
    {
     "data": {
      "image/png": "[encoded data removed]",
      "text/plain": [
       "<matplotlib.figure.Figure at 0x7f55f3ae49b0>"
      ]
     },
     "metadata": {},
     "output_type": "display_data"
    }
   ],
   "source": [
    "trad_error.plot()"
   ]
  },
  {
   "cell_type": "code",
   "execution_count": 144,
   "metadata": {},
   "outputs": [],
   "source": [
    "error = ML_error\n",
    "error['knn']=trad_error['knn']\n",
    "error['lin_reg'] = trad_error['lin_reg']"
   ]
  },
  {
   "cell_type": "code",
   "execution_count": 145,
   "metadata": {},
   "outputs": [
    {
     "data": {
      "text/html": [
       "<div>\n",
       "<table border=\"1\" class=\"dataframe\">\n",
       "  <thead>\n",
       "    <tr style=\"text-align: right;\">\n",
       "      <th></th>\n",
       "      <th>new_baseline</th>\n",
       "      <th>Larger_model</th>\n",
       "      <th>Baseline_model</th>\n",
       "      <th>knn</th>\n",
       "      <th>lin_reg</th>\n",
       "    </tr>\n",
       "  </thead>\n",
       "  <tbody>\n",
       "    <tr>\n",
       "      <th>2</th>\n",
       "      <td>-55.280796</td>\n",
       "      <td>27.303951</td>\n",
       "      <td>8.560696</td>\n",
       "      <td>14.122639</td>\n",
       "      <td>21.434742</td>\n",
       "    </tr>\n",
       "    <tr>\n",
       "      <th>4</th>\n",
       "      <td>-10.178995</td>\n",
       "      <td>-28.978007</td>\n",
       "      <td>-32.770029</td>\n",
       "      <td>-32.395128</td>\n",
       "      <td>-31.397442</td>\n",
       "    </tr>\n",
       "    <tr>\n",
       "      <th>6</th>\n",
       "      <td>25.330210</td>\n",
       "      <td>11.475413</td>\n",
       "      <td>4.559336</td>\n",
       "      <td>0.297671</td>\n",
       "      <td>9.032184</td>\n",
       "    </tr>\n",
       "    <tr>\n",
       "      <th>10</th>\n",
       "      <td>14.277789</td>\n",
       "      <td>16.339038</td>\n",
       "      <td>3.546466</td>\n",
       "      <td>31.536390</td>\n",
       "      <td>15.092840</td>\n",
       "    </tr>\n",
       "    <tr>\n",
       "      <th>13</th>\n",
       "      <td>19.049727</td>\n",
       "      <td>25.975996</td>\n",
       "      <td>26.123976</td>\n",
       "      <td>21.971096</td>\n",
       "      <td>24.670749</td>\n",
       "    </tr>\n",
       "  </tbody>\n",
       "</table>\n",
       "</div>"
      ],
      "text/plain": [
       "    new_baseline  Larger_model  Baseline_model        knn    lin_reg\n",
       "2     -55.280796     27.303951        8.560696  14.122639  21.434742\n",
       "4     -10.178995    -28.978007      -32.770029 -32.395128 -31.397442\n",
       "6      25.330210     11.475413        4.559336   0.297671   9.032184\n",
       "10     14.277789     16.339038        3.546466  31.536390  15.092840\n",
       "13     19.049727     25.975996       26.123976  21.971096  24.670749"
      ]
     },
     "execution_count": 145,
     "metadata": {},
     "output_type": "execute_result"
    }
   ],
   "source": [
    "error.head()"
   ]
  },
  {
   "cell_type": "code",
   "execution_count": 146,
   "metadata": {},
   "outputs": [
    {
     "data": {
      "text/html": [
       "<div>\n",
       "<table border=\"1\" class=\"dataframe\">\n",
       "  <thead>\n",
       "    <tr style=\"text-align: right;\">\n",
       "      <th></th>\n",
       "      <th>new_baseline</th>\n",
       "      <th>Larger_model</th>\n",
       "      <th>Baseline_model</th>\n",
       "      <th>knn</th>\n",
       "      <th>lin_reg</th>\n",
       "    </tr>\n",
       "  </thead>\n",
       "  <tbody>\n",
       "    <tr>\n",
       "      <th>count</th>\n",
       "      <td>3064.000000</td>\n",
       "      <td>3064.000000</td>\n",
       "      <td>3064.000000</td>\n",
       "      <td>3064.000000</td>\n",
       "      <td>3064.000000</td>\n",
       "    </tr>\n",
       "    <tr>\n",
       "      <th>mean</th>\n",
       "      <td>-6.228364</td>\n",
       "      <td>5.058739</td>\n",
       "      <td>1.706197</td>\n",
       "      <td>0.865608</td>\n",
       "      <td>0.356176</td>\n",
       "    </tr>\n",
       "    <tr>\n",
       "      <th>std</th>\n",
       "      <td>49.800767</td>\n",
       "      <td>33.112446</td>\n",
       "      <td>33.297857</td>\n",
       "      <td>35.756815</td>\n",
       "      <td>32.654484</td>\n",
       "    </tr>\n",
       "    <tr>\n",
       "      <th>min</th>\n",
       "      <td>-216.684030</td>\n",
       "      <td>-226.682523</td>\n",
       "      <td>-243.030317</td>\n",
       "      <td>-188.818755</td>\n",
       "      <td>-233.638253</td>\n",
       "    </tr>\n",
       "    <tr>\n",
       "      <th>25%</th>\n",
       "      <td>-36.305574</td>\n",
       "      <td>-8.384431</td>\n",
       "      <td>-12.171061</td>\n",
       "      <td>-15.896892</td>\n",
       "      <td>-13.278490</td>\n",
       "    </tr>\n",
       "    <tr>\n",
       "      <th>50%</th>\n",
       "      <td>-5.029142</td>\n",
       "      <td>5.113253</td>\n",
       "      <td>1.342968</td>\n",
       "      <td>-0.046696</td>\n",
       "      <td>-0.026311</td>\n",
       "    </tr>\n",
       "    <tr>\n",
       "      <th>75%</th>\n",
       "      <td>24.768750</td>\n",
       "      <td>17.307959</td>\n",
       "      <td>14.442359</td>\n",
       "      <td>15.680426</td>\n",
       "      <td>12.407919</td>\n",
       "    </tr>\n",
       "    <tr>\n",
       "      <th>max</th>\n",
       "      <td>250.062346</td>\n",
       "      <td>281.744908</td>\n",
       "      <td>274.172704</td>\n",
       "      <td>251.900866</td>\n",
       "      <td>275.735307</td>\n",
       "    </tr>\n",
       "  </tbody>\n",
       "</table>\n",
       "</div>"
      ],
      "text/plain": [
       "       new_baseline  Larger_model  Baseline_model          knn      lin_reg\n",
       "count   3064.000000   3064.000000     3064.000000  3064.000000  3064.000000\n",
       "mean      -6.228364      5.058739        1.706197     0.865608     0.356176\n",
       "std       49.800767     33.112446       33.297857    35.756815    32.654484\n",
       "min     -216.684030   -226.682523     -243.030317  -188.818755  -233.638253\n",
       "25%      -36.305574     -8.384431      -12.171061   -15.896892   -13.278490\n",
       "50%       -5.029142      5.113253        1.342968    -0.046696    -0.026311\n",
       "75%       24.768750     17.307959       14.442359    15.680426    12.407919\n",
       "max      250.062346    281.744908      274.172704   251.900866   275.735307"
      ]
     },
     "execution_count": 146,
     "metadata": {},
     "output_type": "execute_result"
    }
   ],
   "source": [
    "error.describe()"
   ]
  },
  {
   "cell_type": "code",
   "execution_count": 147,
   "metadata": {},
   "outputs": [
    {
     "data": {
      "text/plain": [
       "<matplotlib.axes._subplots.AxesSubplot at 0x7f55f3afcfd0>"
      ]
     },
     "execution_count": 147,
     "metadata": {},
     "output_type": "execute_result"
    },
    {
     "data": {
      "image/png": "[encoded data removed]",
      "text/plain": [
       "<matplotlib.figure.Figure at 0x7f55f3a05fd0>"
      ]
     },
     "metadata": {},
     "output_type": "display_data"
    }
   ],
   "source": [
    "error.plot()"
   ]
  },
  {
   "cell_type": "code",
   "execution_count": 148,
   "metadata": {},
   "outputs": [],
   "source": [
    "AthLookup = pd.read_csv('AthTable.csv')"
   ]
  },
  {
   "cell_type": "code",
   "execution_count": 149,
   "metadata": {},
   "outputs": [],
   "source": [
    "AthLookup.drop_duplicates(subset='AthID', inplace=True)"
   ]
  },
  {
   "cell_type": "code",
   "execution_count": 150,
   "metadata": {},
   "outputs": [
    {
     "data": {
      "text/plain": [
       "(100490, 2)"
      ]
     },
     "execution_count": 150,
     "metadata": {},
     "output_type": "execute_result"
    }
   ],
   "source": [
    "AthLookup.shape"
   ]
  },
  {
   "cell_type": "code",
   "execution_count": 151,
   "metadata": {},
   "outputs": [
    {
     "data": {
      "text/plain": [
       "(3064, 6)"
      ]
     },
     "execution_count": 151,
     "metadata": {},
     "output_type": "execute_result"
    }
   ],
   "source": [
    "predictions.shape"
   ]
  },
  {
   "cell_type": "markdown",
   "metadata": {},
   "source": [
    "# Save Models for later use"
   ]
  },
  {
   "cell_type": "code",
   "execution_count": 161,
   "metadata": {},
   "outputs": [],
   "source": [
    "#, open(LinearRegressionModel)\n",
    "LinearModel = 'linear_model.sav' #lr\n",
    "KnnModel = 'knnModel.sav' #knn\n",
    "NewBaseModel = 'NewBaseModel.h5' #regr\n",
    "LargerModel = 'LargerModel.h5' #lrg_model\n",
    "baseModel = 'baseline.h5' #baseline"
   ]
  },
  {
   "cell_type": "code",
   "execution_count": 162,
   "metadata": {},
   "outputs": [],
   "source": [
    "pickle.dump(lr, open(LinearModel, 'wb'))"
   ]
  },
  {
   "cell_type": "code",
   "execution_count": 163,
   "metadata": {},
   "outputs": [],
   "source": [
    "pickle.dump(knn, open(KnnModel, 'wb'))"
   ]
  },
  {
   "cell_type": "code",
   "execution_count": 164,
   "metadata": {},
   "outputs": [],
   "source": [
    "#pickle.dump(regr, open(NewBaseModel, 'w'))\n",
    "regr.save(NewBaseModel)"
   ]
  },
  {
   "cell_type": "code",
   "execution_count": 165,
   "metadata": {},
   "outputs": [],
   "source": [
    "lrg_model.save(LargerModel)"
   ]
  },
  {
   "cell_type": "code",
   "execution_count": 166,
   "metadata": {},
   "outputs": [],
   "source": [
    "baseline.save(baseModel)"
   ]
  },
  {
   "cell_type": "code",
   "execution_count": null,
   "metadata": {},
   "outputs": [],
   "source": []
  }
 ],
 "metadata": {
  "kernelspec": {
   "display_name": "Python 3",
   "language": "python",
   "name": "python3"
  },
  "language_info": {
   "codemirror_mode": {
    "name": "ipython",
    "version": 3
   },
   "file_extension": ".py",
   "mimetype": "text/x-python",
   "name": "python",
   "nbconvert_exporter": "python",
   "pygments_lexer": "ipython3",
   "version": "3.6.3"
  }
 },
 "nbformat": 4,
 "nbformat_minor": 2
}
