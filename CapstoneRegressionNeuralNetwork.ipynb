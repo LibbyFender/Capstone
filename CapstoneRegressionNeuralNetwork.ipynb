{
 "cells": [
  {
   "cell_type": "code",
   "execution_count": 1,
   "metadata": {},
   "outputs": [
    {
     "name": "stderr",
     "output_type": "stream",
     "text": [
      "Using TensorFlow backend.\n"
     ]
    }
   ],
   "source": [
    "import pandas as pd\n",
    "import numpy as np\n",
    "import matplotlib.pyplot as plt\n",
    "from sklearn.linear_model import LinearRegression\n",
    "from sklearn.svm import SVR\n",
    "from sklearn.naive_bayes import GaussianNB\n",
    "from sklearn import neighbors, preprocessing\n",
    "from sklearn.preprocessing import LabelEncoder, OneHotEncoder\n",
    "from sklearn.model_selection import cross_val_score, KFold\n",
    "from sklearn.preprocessing import StandardScaler\n",
    "from sklearn.model_selection import train_test_split\n",
    "from sklearn.metrics import accuracy_score\n",
    "\n",
    "from keras.wrappers.scikit_learn import KerasRegressor\n",
    "from keras.models import Sequential\n",
    "from keras.layers import Dense\n",
    "from sklearn.pipeline import Pipeline"
   ]
  },
  {
   "cell_type": "code",
   "execution_count": 2,
   "metadata": {},
   "outputs": [],
   "source": [
    "data = pd.read_csv('AthleteResults.csv')"
   ]
  },
  {
   "cell_type": "code",
   "execution_count": 3,
   "metadata": {},
   "outputs": [
    {
     "data": {
      "text/html": [
       "<div>\n",
       "<table border=\"1\" class=\"dataframe\">\n",
       "  <thead>\n",
       "    <tr style=\"text-align: right;\">\n",
       "      <th></th>\n",
       "      <th>First_Sex</th>\n",
       "      <th>First_Equipment</th>\n",
       "      <th>First_BodyweightKg</th>\n",
       "      <th>First_Wilks</th>\n",
       "      <th>First_WhereHeld</th>\n",
       "      <th>First_EventDate</th>\n",
       "      <th>First_Competition_experience</th>\n",
       "      <th>Second_Sex</th>\n",
       "      <th>Second_Equipment</th>\n",
       "      <th>Second_BodyweightKg</th>\n",
       "      <th>...</th>\n",
       "      <th>Second_EventDate</th>\n",
       "      <th>Second_Competition_experience</th>\n",
       "      <th>Third_Sex</th>\n",
       "      <th>Third_Equipment</th>\n",
       "      <th>Third_BodyweightKg</th>\n",
       "      <th>Third_Wilks</th>\n",
       "      <th>Third_WhereHeld</th>\n",
       "      <th>Third_EventDate</th>\n",
       "      <th>Third_Competition_experience</th>\n",
       "      <th>birth_year</th>\n",
       "    </tr>\n",
       "  </thead>\n",
       "  <tbody>\n",
       "    <tr>\n",
       "      <th>0</th>\n",
       "      <td>1</td>\n",
       "      <td>3</td>\n",
       "      <td>100.0</td>\n",
       "      <td>418.40</td>\n",
       "      <td>SoPac</td>\n",
       "      <td>2018-01-27</td>\n",
       "      <td>1</td>\n",
       "      <td>1</td>\n",
       "      <td>1</td>\n",
       "      <td>87.20</td>\n",
       "      <td>...</td>\n",
       "      <td>2017-09-30</td>\n",
       "      <td>2</td>\n",
       "      <td>1</td>\n",
       "      <td>3</td>\n",
       "      <td>100.00</td>\n",
       "      <td>413.84</td>\n",
       "      <td>SoPac</td>\n",
       "      <td>2017-09-09</td>\n",
       "      <td>3</td>\n",
       "      <td>1992.0</td>\n",
       "    </tr>\n",
       "    <tr>\n",
       "      <th>1</th>\n",
       "      <td>1</td>\n",
       "      <td>3</td>\n",
       "      <td>99.8</td>\n",
       "      <td>493.35</td>\n",
       "      <td>SoPac</td>\n",
       "      <td>2018-01-27</td>\n",
       "      <td>1</td>\n",
       "      <td>1</td>\n",
       "      <td>3</td>\n",
       "      <td>102.60</td>\n",
       "      <td>...</td>\n",
       "      <td>2017-09-09</td>\n",
       "      <td>2</td>\n",
       "      <td>1</td>\n",
       "      <td>3</td>\n",
       "      <td>99.50</td>\n",
       "      <td>500.05</td>\n",
       "      <td>SoPac</td>\n",
       "      <td>2017-07-21</td>\n",
       "      <td>3</td>\n",
       "      <td>1989.0</td>\n",
       "    </tr>\n",
       "    <tr>\n",
       "      <th>2</th>\n",
       "      <td>1</td>\n",
       "      <td>3</td>\n",
       "      <td>98.8</td>\n",
       "      <td>334.84</td>\n",
       "      <td>SoPac</td>\n",
       "      <td>2018-01-27</td>\n",
       "      <td>1</td>\n",
       "      <td>1</td>\n",
       "      <td>1</td>\n",
       "      <td>99.30</td>\n",
       "      <td>...</td>\n",
       "      <td>2017-10-07</td>\n",
       "      <td>2</td>\n",
       "      <td>1</td>\n",
       "      <td>3</td>\n",
       "      <td>93.80</td>\n",
       "      <td>340.99</td>\n",
       "      <td>SoPac</td>\n",
       "      <td>2012-11-09</td>\n",
       "      <td>3</td>\n",
       "      <td>1968.0</td>\n",
       "    </tr>\n",
       "    <tr>\n",
       "      <th>3</th>\n",
       "      <td>1</td>\n",
       "      <td>3</td>\n",
       "      <td>98.0</td>\n",
       "      <td>395.80</td>\n",
       "      <td>SoPac</td>\n",
       "      <td>2018-01-27</td>\n",
       "      <td>1</td>\n",
       "      <td>1</td>\n",
       "      <td>3</td>\n",
       "      <td>89.80</td>\n",
       "      <td>...</td>\n",
       "      <td>2016-07-08</td>\n",
       "      <td>2</td>\n",
       "      <td>1</td>\n",
       "      <td>3</td>\n",
       "      <td>89.80</td>\n",
       "      <td>399.45</td>\n",
       "      <td>SoPac</td>\n",
       "      <td>2014-11-21</td>\n",
       "      <td>3</td>\n",
       "      <td>1969.0</td>\n",
       "    </tr>\n",
       "    <tr>\n",
       "      <th>4</th>\n",
       "      <td>1</td>\n",
       "      <td>3</td>\n",
       "      <td>89.7</td>\n",
       "      <td>380.49</td>\n",
       "      <td>SoPac</td>\n",
       "      <td>2018-01-27</td>\n",
       "      <td>1</td>\n",
       "      <td>1</td>\n",
       "      <td>2</td>\n",
       "      <td>74.39</td>\n",
       "      <td>...</td>\n",
       "      <td>2017-02-23</td>\n",
       "      <td>2</td>\n",
       "      <td>1</td>\n",
       "      <td>2</td>\n",
       "      <td>74.57</td>\n",
       "      <td>306.66</td>\n",
       "      <td>NAmerica</td>\n",
       "      <td>2017-02-18</td>\n",
       "      <td>3</td>\n",
       "      <td>1990.0</td>\n",
       "    </tr>\n",
       "  </tbody>\n",
       "</table>\n",
       "<p>5 rows × 22 columns</p>\n",
       "</div>"
      ],
      "text/plain": [
       "   First_Sex  First_Equipment  First_BodyweightKg  First_Wilks  \\\n",
       "0          1                3               100.0       418.40   \n",
       "1          1                3                99.8       493.35   \n",
       "2          1                3                98.8       334.84   \n",
       "3          1                3                98.0       395.80   \n",
       "4          1                3                89.7       380.49   \n",
       "\n",
       "  First_WhereHeld First_EventDate  First_Competition_experience  Second_Sex  \\\n",
       "0           SoPac      2018-01-27                             1           1   \n",
       "1           SoPac      2018-01-27                             1           1   \n",
       "2           SoPac      2018-01-27                             1           1   \n",
       "3           SoPac      2018-01-27                             1           1   \n",
       "4           SoPac      2018-01-27                             1           1   \n",
       "\n",
       "   Second_Equipment  Second_BodyweightKg    ...      Second_EventDate  \\\n",
       "0                 1                87.20    ...            2017-09-30   \n",
       "1                 3               102.60    ...            2017-09-09   \n",
       "2                 1                99.30    ...            2017-10-07   \n",
       "3                 3                89.80    ...            2016-07-08   \n",
       "4                 2                74.39    ...            2017-02-23   \n",
       "\n",
       "  Second_Competition_experience Third_Sex  Third_Equipment  \\\n",
       "0                             2         1                3   \n",
       "1                             2         1                3   \n",
       "2                             2         1                3   \n",
       "3                             2         1                3   \n",
       "4                             2         1                2   \n",
       "\n",
       "   Third_BodyweightKg  Third_Wilks  Third_WhereHeld  Third_EventDate  \\\n",
       "0              100.00       413.84            SoPac       2017-09-09   \n",
       "1               99.50       500.05            SoPac       2017-07-21   \n",
       "2               93.80       340.99            SoPac       2012-11-09   \n",
       "3               89.80       399.45            SoPac       2014-11-21   \n",
       "4               74.57       306.66         NAmerica       2017-02-18   \n",
       "\n",
       "  Third_Competition_experience birth_year  \n",
       "0                            3     1992.0  \n",
       "1                            3     1989.0  \n",
       "2                            3     1968.0  \n",
       "3                            3     1969.0  \n",
       "4                            3     1990.0  \n",
       "\n",
       "[5 rows x 22 columns]"
      ]
     },
     "execution_count": 3,
     "metadata": {},
     "output_type": "execute_result"
    }
   ],
   "source": [
    "data.head()"
   ]
  },
  {
   "cell_type": "code",
   "execution_count": 4,
   "metadata": {},
   "outputs": [
    {
     "data": {
      "text/html": [
       "<div>\n",
       "<table border=\"1\" class=\"dataframe\">\n",
       "  <thead>\n",
       "    <tr style=\"text-align: right;\">\n",
       "      <th></th>\n",
       "      <th>First_Sex</th>\n",
       "      <th>First_Equipment</th>\n",
       "      <th>First_BodyweightKg</th>\n",
       "      <th>First_Wilks</th>\n",
       "      <th>First_WhereHeld</th>\n",
       "      <th>First_EventDate</th>\n",
       "      <th>First_Competition_experience</th>\n",
       "      <th>Second_Sex</th>\n",
       "      <th>Second_Equipment</th>\n",
       "      <th>Second_BodyweightKg</th>\n",
       "      <th>...</th>\n",
       "      <th>Second_EventDate</th>\n",
       "      <th>Second_Competition_experience</th>\n",
       "      <th>Third_Sex</th>\n",
       "      <th>Third_Equipment</th>\n",
       "      <th>Third_BodyweightKg</th>\n",
       "      <th>Third_Wilks</th>\n",
       "      <th>Third_WhereHeld</th>\n",
       "      <th>Third_EventDate</th>\n",
       "      <th>Third_Competition_experience</th>\n",
       "      <th>birth_year</th>\n",
       "    </tr>\n",
       "  </thead>\n",
       "  <tbody>\n",
       "    <tr>\n",
       "      <th>14</th>\n",
       "      <td>0</td>\n",
       "      <td>3</td>\n",
       "      <td>54.61</td>\n",
       "      <td>312.99</td>\n",
       "      <td>NAmerica</td>\n",
       "      <td>2018-01-27</td>\n",
       "      <td>1</td>\n",
       "      <td>0</td>\n",
       "      <td>3</td>\n",
       "      <td>55.88</td>\n",
       "      <td>...</td>\n",
       "      <td>2017-01-28</td>\n",
       "      <td>2</td>\n",
       "      <td>0</td>\n",
       "      <td>3</td>\n",
       "      <td>36.20</td>\n",
       "      <td>185.18</td>\n",
       "      <td>NAmerica</td>\n",
       "      <td>2012-06-23</td>\n",
       "      <td>3</td>\n",
       "      <td>2003.0</td>\n",
       "    </tr>\n",
       "    <tr>\n",
       "      <th>15</th>\n",
       "      <td>0</td>\n",
       "      <td>3</td>\n",
       "      <td>57.79</td>\n",
       "      <td>320.23</td>\n",
       "      <td>NAmerica</td>\n",
       "      <td>2018-01-27</td>\n",
       "      <td>1</td>\n",
       "      <td>0</td>\n",
       "      <td>3</td>\n",
       "      <td>58.88</td>\n",
       "      <td>...</td>\n",
       "      <td>2017-11-18</td>\n",
       "      <td>2</td>\n",
       "      <td>0</td>\n",
       "      <td>3</td>\n",
       "      <td>58.97</td>\n",
       "      <td>261.40</td>\n",
       "      <td>NAmerica</td>\n",
       "      <td>2017-11-04</td>\n",
       "      <td>3</td>\n",
       "      <td>2004.0</td>\n",
       "    </tr>\n",
       "    <tr>\n",
       "      <th>16</th>\n",
       "      <td>0</td>\n",
       "      <td>1</td>\n",
       "      <td>85.18</td>\n",
       "      <td>335.44</td>\n",
       "      <td>NAmerica</td>\n",
       "      <td>2018-01-27</td>\n",
       "      <td>1</td>\n",
       "      <td>0</td>\n",
       "      <td>1</td>\n",
       "      <td>88.00</td>\n",
       "      <td>...</td>\n",
       "      <td>2017-11-04</td>\n",
       "      <td>2</td>\n",
       "      <td>0</td>\n",
       "      <td>1</td>\n",
       "      <td>89.72</td>\n",
       "      <td>298.26</td>\n",
       "      <td>NAmerica</td>\n",
       "      <td>2017-10-07</td>\n",
       "      <td>3</td>\n",
       "      <td>1996.0</td>\n",
       "    </tr>\n",
       "    <tr>\n",
       "      <th>17</th>\n",
       "      <td>0</td>\n",
       "      <td>3</td>\n",
       "      <td>88.60</td>\n",
       "      <td>315.31</td>\n",
       "      <td>SoPac</td>\n",
       "      <td>2018-01-27</td>\n",
       "      <td>1</td>\n",
       "      <td>0</td>\n",
       "      <td>3</td>\n",
       "      <td>98.30</td>\n",
       "      <td>...</td>\n",
       "      <td>2017-09-09</td>\n",
       "      <td>2</td>\n",
       "      <td>0</td>\n",
       "      <td>3</td>\n",
       "      <td>99.00</td>\n",
       "      <td>288.10</td>\n",
       "      <td>SoPac</td>\n",
       "      <td>2016-09-03</td>\n",
       "      <td>3</td>\n",
       "      <td>1985.0</td>\n",
       "    </tr>\n",
       "    <tr>\n",
       "      <th>21</th>\n",
       "      <td>0</td>\n",
       "      <td>3</td>\n",
       "      <td>77.40</td>\n",
       "      <td>396.34</td>\n",
       "      <td>SoPac</td>\n",
       "      <td>2018-01-27</td>\n",
       "      <td>1</td>\n",
       "      <td>0</td>\n",
       "      <td>3</td>\n",
       "      <td>80.70</td>\n",
       "      <td>...</td>\n",
       "      <td>2017-07-21</td>\n",
       "      <td>2</td>\n",
       "      <td>0</td>\n",
       "      <td>3</td>\n",
       "      <td>73.90</td>\n",
       "      <td>405.42</td>\n",
       "      <td>SoPac</td>\n",
       "      <td>2017-03-18</td>\n",
       "      <td>3</td>\n",
       "      <td>1989.0</td>\n",
       "    </tr>\n",
       "  </tbody>\n",
       "</table>\n",
       "<p>5 rows × 22 columns</p>\n",
       "</div>"
      ],
      "text/plain": [
       "    First_Sex  First_Equipment  First_BodyweightKg  First_Wilks  \\\n",
       "14          0                3               54.61       312.99   \n",
       "15          0                3               57.79       320.23   \n",
       "16          0                1               85.18       335.44   \n",
       "17          0                3               88.60       315.31   \n",
       "21          0                3               77.40       396.34   \n",
       "\n",
       "   First_WhereHeld First_EventDate  First_Competition_experience  Second_Sex  \\\n",
       "14        NAmerica      2018-01-27                             1           0   \n",
       "15        NAmerica      2018-01-27                             1           0   \n",
       "16        NAmerica      2018-01-27                             1           0   \n",
       "17           SoPac      2018-01-27                             1           0   \n",
       "21           SoPac      2018-01-27                             1           0   \n",
       "\n",
       "    Second_Equipment  Second_BodyweightKg    ...      Second_EventDate  \\\n",
       "14                 3                55.88    ...            2017-01-28   \n",
       "15                 3                58.88    ...            2017-11-18   \n",
       "16                 1                88.00    ...            2017-11-04   \n",
       "17                 3                98.30    ...            2017-09-09   \n",
       "21                 3                80.70    ...            2017-07-21   \n",
       "\n",
       "   Second_Competition_experience Third_Sex  Third_Equipment  \\\n",
       "14                             2         0                3   \n",
       "15                             2         0                3   \n",
       "16                             2         0                1   \n",
       "17                             2         0                3   \n",
       "21                             2         0                3   \n",
       "\n",
       "    Third_BodyweightKg  Third_Wilks  Third_WhereHeld  Third_EventDate  \\\n",
       "14               36.20       185.18         NAmerica       2012-06-23   \n",
       "15               58.97       261.40         NAmerica       2017-11-04   \n",
       "16               89.72       298.26         NAmerica       2017-10-07   \n",
       "17               99.00       288.10            SoPac       2016-09-03   \n",
       "21               73.90       405.42            SoPac       2017-03-18   \n",
       "\n",
       "   Third_Competition_experience birth_year  \n",
       "14                            3     2003.0  \n",
       "15                            3     2004.0  \n",
       "16                            3     1996.0  \n",
       "17                            3     1985.0  \n",
       "21                            3     1989.0  \n",
       "\n",
       "[5 rows x 22 columns]"
      ]
     },
     "execution_count": 4,
     "metadata": {},
     "output_type": "execute_result"
    }
   ],
   "source": [
    "# data['1st_Sex']\n",
    "data.query('First_Sex == 0').head()"
   ]
  },
  {
   "cell_type": "code",
   "execution_count": 5,
   "metadata": {},
   "outputs": [
    {
     "data": {
      "text/plain": [
       "First_Sex                          int64\n",
       "First_Equipment                    int64\n",
       "First_BodyweightKg               float64\n",
       "First_Wilks                      float64\n",
       "First_WhereHeld                   object\n",
       "First_EventDate                   object\n",
       "First_Competition_experience       int64\n",
       "Second_Sex                         int64\n",
       "Second_Equipment                   int64\n",
       "Second_BodyweightKg              float64\n",
       "Second_Wilks                     float64\n",
       "Second_WhereHeld                  object\n",
       "Second_EventDate                  object\n",
       "Second_Competition_experience      int64\n",
       "Third_Sex                          int64\n",
       "Third_Equipment                    int64\n",
       "Third_BodyweightKg               float64\n",
       "Third_Wilks                      float64\n",
       "Third_WhereHeld                   object\n",
       "Third_EventDate                   object\n",
       "Third_Competition_experience       int64\n",
       "birth_year                       float64\n",
       "dtype: object"
      ]
     },
     "execution_count": 5,
     "metadata": {},
     "output_type": "execute_result"
    }
   ],
   "source": [
    "data.dtypes"
   ]
  },
  {
   "cell_type": "code",
   "execution_count": 6,
   "metadata": {},
   "outputs": [],
   "source": [
    "data['First_WhereHeld'] = LabelEncoder().fit_transform(data['First_WhereHeld'])\n",
    "data['Second_WhereHeld'] = LabelEncoder().fit_transform(data['Second_WhereHeld'])\n",
    "data['Third_WhereHeld'] = LabelEncoder().fit_transform(data['Third_WhereHeld'])"
   ]
  },
  {
   "cell_type": "code",
   "execution_count": 7,
   "metadata": {},
   "outputs": [],
   "source": [
    "#Ask about this"
   ]
  },
  {
   "cell_type": "code",
   "execution_count": 8,
   "metadata": {},
   "outputs": [],
   "source": [
    "data.drop('Third_Sex', axis=1, inplace=True)\n",
    "data.drop('Second_Sex', axis=1, inplace=True)"
   ]
  },
  {
   "cell_type": "code",
   "execution_count": 9,
   "metadata": {},
   "outputs": [],
   "source": [
    "data['First_EventDate'] = pd.to_datetime(data['First_EventDate'])\n",
    "data['Second_EventDate'] = pd.to_datetime(data['Second_EventDate'])\n",
    "data['Third_EventDate'] = pd.to_datetime(data['Third_EventDate'])\n",
    "\n",
    "\n",
    "data['First_Rest'] = data['First_EventDate'] - data['Second_EventDate']\n",
    "data['Second_Rest'] = data['Second_EventDate'] - data['Third_EventDate']\n",
    "#not_features = ['First_EventDate', 'Second_EventDate', 'Third_EventDate', 'First_Wilks']"
   ]
  },
  {
   "cell_type": "code",
   "execution_count": 10,
   "metadata": {},
   "outputs": [],
   "source": [
    "data['First_Rest']=data['First_Rest'].dt.days\n",
    "data['Second_Rest'] = data['Second_Rest'].dt.days"
   ]
  },
  {
   "cell_type": "code",
   "execution_count": 11,
   "metadata": {},
   "outputs": [],
   "source": [
    "features = data.columns\n",
    "not_features = ['First_EventDate', 'Second_EventDate', 'Third_EventDate', 'First_Wilks']\n",
    "features = features.drop(not_features)\n",
    "y = data.First_Wilks\n",
    "X = data[features]"
   ]
  },
  {
   "cell_type": "code",
   "execution_count": 12,
   "metadata": {},
   "outputs": [],
   "source": [
    "#X"
   ]
  },
  {
   "cell_type": "code",
   "execution_count": 13,
   "metadata": {},
   "outputs": [
    {
     "data": {
      "text/plain": [
       "dtype('float64')"
      ]
     },
     "execution_count": 13,
     "metadata": {},
     "output_type": "execute_result"
    }
   ],
   "source": [
    "y.dtype"
   ]
  },
  {
   "cell_type": "code",
   "execution_count": 14,
   "metadata": {},
   "outputs": [
    {
     "data": {
      "text/html": [
       "<div>\n",
       "<table border=\"1\" class=\"dataframe\">\n",
       "  <thead>\n",
       "    <tr style=\"text-align: right;\">\n",
       "      <th></th>\n",
       "      <th>First_Sex</th>\n",
       "      <th>First_Equipment</th>\n",
       "      <th>First_BodyweightKg</th>\n",
       "      <th>First_Wilks</th>\n",
       "      <th>First_WhereHeld</th>\n",
       "      <th>First_EventDate</th>\n",
       "      <th>First_Competition_experience</th>\n",
       "      <th>Second_Equipment</th>\n",
       "      <th>Second_BodyweightKg</th>\n",
       "      <th>Second_Wilks</th>\n",
       "      <th>...</th>\n",
       "      <th>Second_Competition_experience</th>\n",
       "      <th>Third_Equipment</th>\n",
       "      <th>Third_BodyweightKg</th>\n",
       "      <th>Third_Wilks</th>\n",
       "      <th>Third_WhereHeld</th>\n",
       "      <th>Third_EventDate</th>\n",
       "      <th>Third_Competition_experience</th>\n",
       "      <th>birth_year</th>\n",
       "      <th>First_Rest</th>\n",
       "      <th>Second_Rest</th>\n",
       "    </tr>\n",
       "  </thead>\n",
       "  <tbody>\n",
       "    <tr>\n",
       "      <th>0</th>\n",
       "      <td>1</td>\n",
       "      <td>3</td>\n",
       "      <td>100.0</td>\n",
       "      <td>418.40</td>\n",
       "      <td>5</td>\n",
       "      <td>2018-01-27</td>\n",
       "      <td>1</td>\n",
       "      <td>1</td>\n",
       "      <td>87.20</td>\n",
       "      <td>355.37</td>\n",
       "      <td>...</td>\n",
       "      <td>2</td>\n",
       "      <td>3</td>\n",
       "      <td>100.00</td>\n",
       "      <td>413.84</td>\n",
       "      <td>5</td>\n",
       "      <td>2017-09-09</td>\n",
       "      <td>3</td>\n",
       "      <td>1992.0</td>\n",
       "      <td>119</td>\n",
       "      <td>21</td>\n",
       "    </tr>\n",
       "    <tr>\n",
       "      <th>1</th>\n",
       "      <td>1</td>\n",
       "      <td>3</td>\n",
       "      <td>99.8</td>\n",
       "      <td>493.35</td>\n",
       "      <td>5</td>\n",
       "      <td>2018-01-27</td>\n",
       "      <td>1</td>\n",
       "      <td>3</td>\n",
       "      <td>102.60</td>\n",
       "      <td>485.08</td>\n",
       "      <td>...</td>\n",
       "      <td>2</td>\n",
       "      <td>3</td>\n",
       "      <td>99.50</td>\n",
       "      <td>500.05</td>\n",
       "      <td>5</td>\n",
       "      <td>2017-07-21</td>\n",
       "      <td>3</td>\n",
       "      <td>1989.0</td>\n",
       "      <td>140</td>\n",
       "      <td>50</td>\n",
       "    </tr>\n",
       "    <tr>\n",
       "      <th>2</th>\n",
       "      <td>1</td>\n",
       "      <td>3</td>\n",
       "      <td>98.8</td>\n",
       "      <td>334.84</td>\n",
       "      <td>5</td>\n",
       "      <td>2018-01-27</td>\n",
       "      <td>1</td>\n",
       "      <td>1</td>\n",
       "      <td>99.30</td>\n",
       "      <td>329.57</td>\n",
       "      <td>...</td>\n",
       "      <td>2</td>\n",
       "      <td>3</td>\n",
       "      <td>93.80</td>\n",
       "      <td>340.99</td>\n",
       "      <td>5</td>\n",
       "      <td>2012-11-09</td>\n",
       "      <td>3</td>\n",
       "      <td>1968.0</td>\n",
       "      <td>112</td>\n",
       "      <td>1793</td>\n",
       "    </tr>\n",
       "    <tr>\n",
       "      <th>3</th>\n",
       "      <td>1</td>\n",
       "      <td>3</td>\n",
       "      <td>98.0</td>\n",
       "      <td>395.80</td>\n",
       "      <td>5</td>\n",
       "      <td>2018-01-27</td>\n",
       "      <td>1</td>\n",
       "      <td>3</td>\n",
       "      <td>89.80</td>\n",
       "      <td>410.63</td>\n",
       "      <td>...</td>\n",
       "      <td>2</td>\n",
       "      <td>3</td>\n",
       "      <td>89.80</td>\n",
       "      <td>399.45</td>\n",
       "      <td>5</td>\n",
       "      <td>2014-11-21</td>\n",
       "      <td>3</td>\n",
       "      <td>1969.0</td>\n",
       "      <td>568</td>\n",
       "      <td>595</td>\n",
       "    </tr>\n",
       "    <tr>\n",
       "      <th>4</th>\n",
       "      <td>1</td>\n",
       "      <td>3</td>\n",
       "      <td>89.7</td>\n",
       "      <td>380.49</td>\n",
       "      <td>5</td>\n",
       "      <td>2018-01-27</td>\n",
       "      <td>1</td>\n",
       "      <td>2</td>\n",
       "      <td>74.39</td>\n",
       "      <td>331.56</td>\n",
       "      <td>...</td>\n",
       "      <td>2</td>\n",
       "      <td>2</td>\n",
       "      <td>74.57</td>\n",
       "      <td>306.66</td>\n",
       "      <td>3</td>\n",
       "      <td>2017-02-18</td>\n",
       "      <td>3</td>\n",
       "      <td>1990.0</td>\n",
       "      <td>338</td>\n",
       "      <td>5</td>\n",
       "    </tr>\n",
       "  </tbody>\n",
       "</table>\n",
       "<p>5 rows × 22 columns</p>\n",
       "</div>"
      ],
      "text/plain": [
       "   First_Sex  First_Equipment  First_BodyweightKg  First_Wilks  \\\n",
       "0          1                3               100.0       418.40   \n",
       "1          1                3                99.8       493.35   \n",
       "2          1                3                98.8       334.84   \n",
       "3          1                3                98.0       395.80   \n",
       "4          1                3                89.7       380.49   \n",
       "\n",
       "   First_WhereHeld First_EventDate  First_Competition_experience  \\\n",
       "0                5      2018-01-27                             1   \n",
       "1                5      2018-01-27                             1   \n",
       "2                5      2018-01-27                             1   \n",
       "3                5      2018-01-27                             1   \n",
       "4                5      2018-01-27                             1   \n",
       "\n",
       "   Second_Equipment  Second_BodyweightKg  Second_Wilks     ...       \\\n",
       "0                 1                87.20        355.37     ...        \n",
       "1                 3               102.60        485.08     ...        \n",
       "2                 1                99.30        329.57     ...        \n",
       "3                 3                89.80        410.63     ...        \n",
       "4                 2                74.39        331.56     ...        \n",
       "\n",
       "   Second_Competition_experience Third_Equipment  Third_BodyweightKg  \\\n",
       "0                              2               3              100.00   \n",
       "1                              2               3               99.50   \n",
       "2                              2               3               93.80   \n",
       "3                              2               3               89.80   \n",
       "4                              2               2               74.57   \n",
       "\n",
       "   Third_Wilks  Third_WhereHeld  Third_EventDate  \\\n",
       "0       413.84                5       2017-09-09   \n",
       "1       500.05                5       2017-07-21   \n",
       "2       340.99                5       2012-11-09   \n",
       "3       399.45                5       2014-11-21   \n",
       "4       306.66                3       2017-02-18   \n",
       "\n",
       "   Third_Competition_experience birth_year  First_Rest  Second_Rest  \n",
       "0                             3     1992.0         119           21  \n",
       "1                             3     1989.0         140           50  \n",
       "2                             3     1968.0         112         1793  \n",
       "3                             3     1969.0         568          595  \n",
       "4                             3     1990.0         338            5  \n",
       "\n",
       "[5 rows x 22 columns]"
      ]
     },
     "execution_count": 14,
     "metadata": {},
     "output_type": "execute_result"
    }
   ],
   "source": [
    "data.head()"
   ]
  },
  {
   "cell_type": "code",
   "execution_count": 15,
   "metadata": {},
   "outputs": [
    {
     "name": "stdout",
     "output_type": "stream",
     "text": [
      "(12254, 18) (12254,)\n"
     ]
    }
   ],
   "source": [
    "print(X.shape, y.shape)"
   ]
  },
  {
   "cell_type": "markdown",
   "metadata": {},
   "source": [
    "# Linear Regression using various methods"
   ]
  },
  {
   "cell_type": "markdown",
   "metadata": {},
   "source": [
    "AKA: my simple starting point"
   ]
  },
  {
   "cell_type": "code",
   "execution_count": 16,
   "metadata": {},
   "outputs": [],
   "source": [
    "from scipy import linspace, polyval, polyfit, sqrt, stats, randn, optimize\n",
    "import statsmodels.api as sm\n",
    "import time"
   ]
  },
  {
   "cell_type": "code",
   "execution_count": 17,
   "metadata": {},
   "outputs": [
    {
     "name": "stdout",
     "output_type": "stream",
     "text": [
      "(12254, 18) (12254,)\n"
     ]
    }
   ],
   "source": [
    "print(X.shape, y.shape)"
   ]
  },
  {
   "cell_type": "code",
   "execution_count": 18,
   "metadata": {},
   "outputs": [
    {
     "data": {
      "text/plain": [
       "array([[1, 3, 100.0, ..., 1992.0, 119, 21],\n",
       "       [1, 3, 99.8, ..., 1989.0, 140, 50],\n",
       "       [1, 3, 98.8, ..., 1968.0, 112, 1793],\n",
       "       ..., \n",
       "       [1, 1, 103.0, ..., 1993.0, 197, 327],\n",
       "       [1, 1, 85.4, ..., 1996.0, 147, 76],\n",
       "       [1, 1, 92.5, ..., 1998.0, 181, 170]], dtype=object)"
      ]
     },
     "execution_count": 18,
     "metadata": {},
     "output_type": "execute_result"
    }
   ],
   "source": [
    "np.asarray(data)"
   ]
  },
  {
   "cell_type": "code",
   "execution_count": 19,
   "metadata": {},
   "outputs": [
    {
     "data": {
      "text/plain": [
       "First_Sex                          int64\n",
       "First_Equipment                    int64\n",
       "First_BodyweightKg               float64\n",
       "First_WhereHeld                    int64\n",
       "First_Competition_experience       int64\n",
       "Second_Equipment                   int64\n",
       "Second_BodyweightKg              float64\n",
       "Second_Wilks                     float64\n",
       "Second_WhereHeld                   int64\n",
       "Second_Competition_experience      int64\n",
       "Third_Equipment                    int64\n",
       "Third_BodyweightKg               float64\n",
       "Third_Wilks                      float64\n",
       "Third_WhereHeld                    int64\n",
       "Third_Competition_experience       int64\n",
       "birth_year                       float64\n",
       "First_Rest                         int64\n",
       "Second_Rest                        int64\n",
       "dtype: object"
      ]
     },
     "execution_count": 19,
     "metadata": {},
     "output_type": "execute_result"
    }
   ],
   "source": [
    "X.dtypes"
   ]
  },
  {
   "cell_type": "code",
   "execution_count": 20,
   "metadata": {},
   "outputs": [],
   "source": [
    "model = sm.OLS(y, X).fit()\n",
    "sm.add_constant(X)\n",
    "predictions = model.predict(X)"
   ]
  },
  {
   "cell_type": "code",
   "execution_count": 21,
   "metadata": {},
   "outputs": [
    {
     "name": "stdout",
     "output_type": "stream",
     "text": [
      "                            OLS Regression Results                            \n",
      "==============================================================================\n",
      "Dep. Variable:            First_Wilks   R-squared:                       0.803\n",
      "Model:                            OLS   Adj. R-squared:                  0.803\n",
      "Method:                 Least Squares   F-statistic:                     3324.\n",
      "Date:                Fri, 06 Apr 2018   Prob (F-statistic):               0.00\n",
      "Time:                        21:16:53   Log-Likelihood:                -60374.\n",
      "No. Observations:               12254   AIC:                         1.208e+05\n",
      "Df Residuals:                   12238   BIC:                         1.209e+05\n",
      "Df Model:                          15                                         \n",
      "Covariance Type:            nonrobust                                         \n",
      "=================================================================================================\n",
      "                                    coef    std err          t      P>|t|      [0.025      0.975]\n",
      "-------------------------------------------------------------------------------------------------\n",
      "First_Sex                        -0.5371      0.755     -0.711      0.477      -2.018       0.943\n",
      "First_Equipment                   7.9307      0.503     15.754      0.000       6.944       8.917\n",
      "First_BodyweightKg                0.3704      0.037     10.108      0.000       0.299       0.442\n",
      "First_WhereHeld                  -2.7021      0.742     -3.641      0.000      -4.157      -1.247\n",
      "First_Competition_experience    -49.0554      3.800    -12.908      0.000     -56.505     -41.606\n",
      "Second_Equipment                 -5.2421      0.540     -9.705      0.000      -6.301      -4.183\n",
      "Second_BodyweightKg              -0.1612      0.043     -3.744      0.000      -0.246      -0.077\n",
      "Second_Wilks                      0.6033      0.009     70.482      0.000       0.586       0.620\n",
      "Second_WhereHeld                  1.0989      0.945      1.162      0.245      -0.754       2.952\n",
      "Second_Competition_experience   -98.1107      7.601    -12.908      0.000    -113.009     -83.212\n",
      "Third_Equipment                  -0.0124      0.499     -0.025      0.980      -0.990       0.965\n",
      "Third_BodyweightKg               -0.1770      0.039     -4.596      0.000      -0.253      -0.102\n",
      "Third_Wilks                       0.2899      0.008     34.443      0.000       0.273       0.306\n",
      "Third_WhereHeld                   0.1369      0.953      0.144      0.886      -1.732       2.005\n",
      "Third_Competition_experience   -147.1661     11.401    -12.908      0.000    -169.514    -124.818\n",
      "birth_year                        0.3687      0.027     13.759      0.000       0.316       0.421\n",
      "First_Rest                      3.03e-07      0.002      0.000      1.000      -0.003       0.003\n",
      "Second_Rest                       0.0048      0.002      3.105      0.002       0.002       0.008\n",
      "==============================================================================\n",
      "Omnibus:                     3089.663   Durbin-Watson:                   1.854\n",
      "Prob(Omnibus):                  0.000   Jarque-Bera (JB):            62303.736\n",
      "Skew:                          -0.709   Prob(JB):                         0.00\n",
      "Kurtosis:                      13.955   Cond. No.                     4.67e+19\n",
      "==============================================================================\n",
      "\n",
      "Warnings:\n",
      "[1] Standard Errors assume that the covariance matrix of the errors is correctly specified.\n",
      "[2] The smallest eigenvalue is 2.44e-29. This might indicate that there are\n",
      "strong multicollinearity problems or that the design matrix is singular.\n"
     ]
    }
   ],
   "source": [
    "print(model.summary())"
   ]
  },
  {
   "cell_type": "code",
   "execution_count": 22,
   "metadata": {},
   "outputs": [],
   "source": [
    "# from sklearn.model_selection import train_test_split\n",
    "# from sklearn.metrics import accuracy_score \n",
    "X_train, X_test, y_train, y_test = train_test_split(X, y, random_state=167)\n",
    "#scaler = preprocessing.StandardScaler().fit(X_train)\n",
    "#X_train = scaler.transform(X_train)\n",
    "#X_test = scaler.transform(X_test)\n",
    "\n",
    "\n"
   ]
  },
  {
   "cell_type": "code",
   "execution_count": 23,
   "metadata": {},
   "outputs": [
    {
     "data": {
      "text/plain": [
       "0.81360485846482944"
      ]
     },
     "execution_count": 23,
     "metadata": {},
     "output_type": "execute_result"
    }
   ],
   "source": [
    "lr = LinearRegression()\n",
    "lr.fit(X_train, y_train)\n",
    "lr_test_pred = lr.predict(X_test)\n",
    "lr_train_pred=lr.predict(X_train)\n",
    "lr.score(X_test, y_test) #Rsq score of our model"
   ]
  },
  {
   "cell_type": "code",
   "execution_count": 24,
   "metadata": {},
   "outputs": [],
   "source": [
    "#svr = SVC(kernel='linear')\n",
    "gnb = GaussianNB #for classification later\n",
    "knn = neighbors.KNeighborsRegressor(n_neighbors=5, weights='distance', algorithm='auto')\n",
    "\n",
    "\n",
    "model_knn = knn.fit(X_train, y_train)\n",
    "#svr.fit(X_train, y_train)\n",
    "#model_gnb = gnb.fit(X_train, y_train)"
   ]
  },
  {
   "cell_type": "code",
   "execution_count": 25,
   "metadata": {},
   "outputs": [
    {
     "name": "stdout",
     "output_type": "stream",
     "text": [
      "1278.88184025\n"
     ]
    }
   ],
   "source": [
    "knn_pred = knn.predict(X_test)\n",
    "knn_actual= y_test\n",
    "mse = (((knn_pred - knn_actual)**2).sum())/len(knn_pred)\n",
    "#accuracy_score(y_test, knn_pred)\n",
    "print(mse)"
   ]
  },
  {
   "cell_type": "code",
   "execution_count": 26,
   "metadata": {},
   "outputs": [],
   "source": [
    "# Fit regression model\n",
    "svr_rbf = SVR(kernel='rbf', C=1e3, gamma=0.1)\n",
    "svr_lin = SVR(kernel='linear', C=1e3)\n",
    "svr_poly = SVR(kernel='poly', C=1e3, degree=2)"
   ]
  },
  {
   "cell_type": "code",
   "execution_count": null,
   "metadata": {},
   "outputs": [],
   "source": [
    "y_rbf = svr_rbf.fit(X, y).predict(X)"
   ]
  },
  {
   "cell_type": "code",
   "execution_count": null,
   "metadata": {},
   "outputs": [],
   "source": [
    "lin_model= svr_lin.fit(X, y)"
   ]
  },
  {
   "cell_type": "code",
   "execution_count": null,
   "metadata": {},
   "outputs": [],
   "source": [
    "y_lin = lin_model.predict(X)"
   ]
  },
  {
   "cell_type": "code",
   "execution_count": null,
   "metadata": {},
   "outputs": [],
   "source": [
    "y_poly = svr_poly.fit(X, y).predict(X)"
   ]
  },
  {
   "cell_type": "code",
   "execution_count": null,
   "metadata": {},
   "outputs": [],
   "source": [
    "#Support Vector Results\n",
    "lw = 2\n",
    "plt.scatter(X, y, color='darkorange', label='data')\n",
    "plt.plot(X, y_rbf, color='navy', lw=lw, label='RBF model')\n",
    "plt.plot(X, y_lin, color='c', lw=lw, label='Linear model')\n",
    "plt.plot(X, y_poly, color='cornflowerblue', lw=lw, label='Polynomial model')\n",
    "plt.xlabel('data')\n",
    "plt.ylabel('target')\n",
    "plt.title('Support Vector Regression')\n",
    "plt.legend()\n",
    "plt.show()"
   ]
  },
  {
   "cell_type": "code",
   "execution_count": null,
   "metadata": {},
   "outputs": [],
   "source": [
    "# First Run Neural Network\n",
    "X.shape"
   ]
  },
  {
   "cell_type": "code",
   "execution_count": null,
   "metadata": {},
   "outputs": [],
   "source": [
    "#Initialize Neural Network\n"
   ]
  },
  {
   "cell_type": "code",
   "execution_count": null,
   "metadata": {},
   "outputs": [],
   "source": [
    "def baseline_model():\n",
    "    model = Sequential()\n",
    "    #Adding Input layer and hidden layer\n",
    "    model.add(Dense(6, input_dim=18, kernel_initializer='normal', activation='relu'))\n",
    "\n",
    "#Add second layer\n",
    "    model.add(Dense(1, kernel_initializer='normal'))\n",
    "\n",
    "#Compile model\n",
    "    model.compile(loss='mean_squared_error', optimizer='adam')\n",
    "    return model"
   ]
  },
  {
   "cell_type": "code",
   "execution_count": null,
   "metadata": {},
   "outputs": [],
   "source": [
    "#Establish method to compare model accuracy\n",
    "seed = 6\n",
    "np.random.seed(seed)\n",
    "\n",
    "#Evaluate model\n",
    "estimator = KerasRegressor(build_fn=baseline_model, nb_epoch=100, batch_size=128, verbose=1)"
   ]
  },
  {
   "cell_type": "code",
   "execution_count": null,
   "metadata": {},
   "outputs": [],
   "source": [
    "#evaluate model\n",
    "kfold = KFold(n_splits=10, random_state=seed)\n",
    "results = cross_val_score(estimator, X, y, cv=kfold)\n",
    "#print('Results:', results.mean(), results.std())\n",
    "#results"
   ]
  },
  {
   "cell_type": "code",
   "execution_count": null,
   "metadata": {},
   "outputs": [],
   "source": [
    "#Baseline performance"
   ]
  },
  {
   "cell_type": "code",
   "execution_count": null,
   "metadata": {},
   "outputs": [],
   "source": [
    "# evaluate model with standardized dataset\n",
    "np.random.seed(seed)\n",
    "estimators = []\n",
    "estimators.append(('standardize', StandardScaler()))\n",
    "estimators.append(('mlp', KerasRegressor(build_fn=baseline_model, epochs=10, batch_size=100, verbose=1)))\n",
    "pipeline = Pipeline(estimators)\n",
    "kfold = KFold(n_splits=10, random_state=seed)\n",
    "results = cross_val_score(pipeline, X, y, cv=kfold)\n",
    "#print(\"Standardized: %.2f (%.2f) MSE\" % (results.mean(), results.std()))"
   ]
  },
  {
   "cell_type": "markdown",
   "metadata": {},
   "source": [
    "<<<<<<<<<<<------------This is clearly not working well..."
   ]
  },
  {
   "cell_type": "code",
   "execution_count": null,
   "metadata": {},
   "outputs": [],
   "source": [
    "def larger_model():\n",
    "    model=Sequential()\n",
    "    model.add(Dense(28, input_dim=18, kernel_initializer='normal', activation='relu'))\n",
    "    model.add(Dense(18, kernel_initializer='normal', activation='relu'))\n",
    "    model.add(Dense(6, kernel_initializer='normal', activation='relu'))\n",
    "    model.add(Dense(1, kernel_initializer='normal'))\n",
    "    # Compile model\n",
    "    model.compile(loss='mean_squared_error', optimizer='adam')\n",
    "    return model"
   ]
  },
  {
   "cell_type": "code",
   "execution_count": null,
   "metadata": {},
   "outputs": [],
   "source": [
    "np.random.seed(seed)\n",
    "estimators = []\n",
    "estimators.append(('standardize', StandardScaler()))\n",
    "estimators.append(('mlp', KerasRegressor(build_fn=larger_model, epochs=50, batch_size=100, verbose=0)))\n",
    "pipeline = Pipeline(estimators)\n",
    "kfold = KFold(n_splits=10, random_state=seed)\n",
    "results = cross_val_score(pipeline, X, y, cv=kfold)\n",
    "print(\"Larger: %.2f (%.2f) MSE\" % (results.mean(), results.std()))"
   ]
  },
  {
   "cell_type": "raw",
   "metadata": {},
   "source": [
    "<<<<<<<<<<<------------TRying a different approach----------->>>>>>>>>>>>>>>>>>\n",
    "Saving model for future predictions\n",
    "https://machinelearningmastery.com/make-predictions-long-short-term-memory-models-keras/"
   ]
  },
  {
   "cell_type": "code",
   "execution_count": null,
   "metadata": {},
   "outputs": [],
   "source": [
    "print(X.shape, X_test.shape, X_train.shape)"
   ]
  },
  {
   "cell_type": "code",
   "execution_count": null,
   "metadata": {},
   "outputs": [],
   "source": [
    "sc = StandardScaler()\n",
    "X_train = sc.fit_transform(X_train)\n",
    "X_test = sc.transform(X_test)"
   ]
  },
  {
   "cell_type": "code",
   "execution_count": null,
   "metadata": {},
   "outputs": [],
   "source": [
    "# define model\n",
    "def new_baseline_model():\n",
    "    # create model\n",
    "    model = Sequential()\n",
    "    model.add(Dense(1, input_dim=18, init='normal', activation='relu'))\n",
    "    model.add(Dense(1, init='normal'))\n",
    "    model.compile(loss='mean_squared_error', optimizer='adam')\n",
    "    return model"
   ]
  },
  {
   "cell_type": "code",
   "execution_count": null,
   "metadata": {},
   "outputs": [],
   "source": [
    "regr = new_baseline_model()\n",
    "regr.fit(X_train, y_train,          \n",
    "          nb_epoch=100, validation_split=0.2, verbose = 1) #batch_size=5,"
   ]
  },
  {
   "cell_type": "raw",
   "metadata": {},
   "source": [
    "plt.scatter(X_test, y_test,  color='black')\n",
    "plt.plot(X_test, regr.predict(X_test), color='blue', linewidth=3)\n",
    "\n",
    "plt.xticks()\n",
    "plt.yticks()\n",
    "\n",
    "plt.show()"
   ]
  },
  {
   "cell_type": "code",
   "execution_count": null,
   "metadata": {},
   "outputs": [],
   "source": [
    "knn_pred"
   ]
  },
  {
   "cell_type": "code",
   "execution_count": null,
   "metadata": {},
   "outputs": [],
   "source": [
    "lr_test_pred"
   ]
  },
  {
   "cell_type": "code",
   "execution_count": null,
   "metadata": {},
   "outputs": [],
   "source": [
    "lr_train_pred"
   ]
  },
  {
   "cell_type": "code",
   "execution_count": null,
   "metadata": {},
   "outputs": [],
   "source": []
  }
 ],
 "metadata": {
  "kernelspec": {
   "display_name": "Python 3",
   "language": "python",
   "name": "python3"
  },
  "language_info": {
   "codemirror_mode": {
    "name": "ipython",
    "version": 3
   },
   "file_extension": ".py",
   "mimetype": "text/x-python",
   "name": "python",
   "nbconvert_exporter": "python",
   "pygments_lexer": "ipython3",
   "version": "3.6.3"
  }
 },
 "nbformat": 4,
 "nbformat_minor": 2
}
